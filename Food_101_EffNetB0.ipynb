{
  "nbformat": 4,
  "nbformat_minor": 0,
  "metadata": {
    "colab": {
      "name": "EfficientNetB0_F101.ipynb",
      "provenance": []
    },
    "kernelspec": {
      "name": "python3",
      "display_name": "Python 3"
    },
    "language_info": {
      "name": "python"
    }
  },
  "cells": [
    {
      "cell_type": "markdown",
      "metadata": {
        "id": "PLOmtabeQrbX"
      },
      "source": [
        "**EfficientNetB0 Baseline model Training and Evaluation** "
      ]
    },
    {
      "cell_type": "markdown",
      "metadata": {
        "id": "mwmPEMosQ41x"
      },
      "source": [
        "    No of Epochs : 4    [Used lr_find() to find the best learning rate and Data Augmentation on training dataset]\n",
        " \n",
        "    Top K Accuracy : 0.83  \n",
        "    Validation Accuracy : 0.79 \n",
        "\n",
        "    This is the first baseline model trained without manual cleaning , learning rate optimizer , TTA and got low accuracy. "
      ]
    },
    {
      "cell_type": "code",
      "metadata": {
        "colab": {
          "base_uri": "https://localhost:8080/"
        },
        "id": "3R-r3MW6aOXQ",
        "outputId": "da12a5a0-48dc-497a-fb80-cf21b2893815"
      },
      "source": [
        "#checking the number of cpus available \n",
        "!cat /proc/cpuinfo |grep \"cpu cores\" |uniq"
      ],
      "execution_count": null,
      "outputs": [
        {
          "output_type": "stream",
          "text": [
            "cpu cores\t: 2\n"
          ],
          "name": "stdout"
        }
      ]
    },
    {
      "cell_type": "code",
      "metadata": {
        "colab": {
          "base_uri": "https://localhost:8080/"
        },
        "id": "7P86PN5pdu7_",
        "outputId": "bbf2ed4b-014b-4664-f3a8-eddf68907ae9"
      },
      "source": [
        "#GPU accelerator detection \n",
        "gpu_info = !nvidia-smi\n",
        "gpu_info = '\\n'.join(gpu_info)\n",
        "if gpu_info.find('failed') >= 0:\n",
        "  print('Select the Runtime > \"Change runtime type\" menu to enable a GPU accelerator, ')\n",
        "  print('and then re-execute this cell.')\n",
        "else:\n",
        "  print(gpu_info)"
      ],
      "execution_count": null,
      "outputs": [
        {
          "output_type": "stream",
          "text": [
            "Wed May 12 06:38:40 2021       \n",
            "+-----------------------------------------------------------------------------+\n",
            "| NVIDIA-SMI 465.19.01    Driver Version: 460.32.03    CUDA Version: 11.2     |\n",
            "|-------------------------------+----------------------+----------------------+\n",
            "| GPU  Name        Persistence-M| Bus-Id        Disp.A | Volatile Uncorr. ECC |\n",
            "| Fan  Temp  Perf  Pwr:Usage/Cap|         Memory-Usage | GPU-Util  Compute M. |\n",
            "|                               |                      |               MIG M. |\n",
            "|===============================+======================+======================|\n",
            "|   0  Tesla P100-PCIE...  Off  | 00000000:00:04.0 Off |                    0 |\n",
            "| N/A   41C    P0    35W / 250W |    993MiB / 16280MiB |      0%      Default |\n",
            "|                               |                      |                  N/A |\n",
            "+-------------------------------+----------------------+----------------------+\n",
            "                                                                               \n",
            "+-----------------------------------------------------------------------------+\n",
            "| Processes:                                                                  |\n",
            "|  GPU   GI   CI        PID   Type   Process name                  GPU Memory |\n",
            "|        ID   ID                                                   Usage      |\n",
            "|=============================================================================|\n",
            "+-----------------------------------------------------------------------------+\n"
          ],
          "name": "stdout"
        }
      ]
    },
    {
      "cell_type": "code",
      "metadata": {
        "colab": {
          "base_uri": "https://localhost:8080/"
        },
        "id": "Ud9A8KmIWBZA",
        "outputId": "6677d11c-7beb-4ddf-b60f-2212b6f1df09"
      },
      "source": [
        "#checking available RAM \n",
        "from psutil import virtual_memory\n",
        "ram_gb = virtual_memory().total / 1e9\n",
        "print('Your runtime has {:.1f} gigabytes of available RAM\\n'.format(ram_gb))\n",
        "\n",
        "if ram_gb < 20:\n",
        "  print('To enable a high-RAM runtime, select the Runtime > \"Change runtime type\"')\n",
        "  print('menu, and then select High-RAM in the Runtime shape dropdown. Then, ')\n",
        "  print('re-execute this cell.')\n",
        "else:\n",
        "  print('You are using a high-RAM runtime!')"
      ],
      "execution_count": null,
      "outputs": [
        {
          "output_type": "stream",
          "text": [
            "Your runtime has 27.3 gigabytes of available RAM\n",
            "\n",
            "You are using a high-RAM runtime!\n"
          ],
          "name": "stdout"
        }
      ]
    },
    {
      "cell_type": "code",
      "metadata": {
        "colab": {
          "base_uri": "https://localhost:8080/"
        },
        "id": "_8HUeFOGd02E",
        "outputId": "fa0a4ccd-f77a-44bc-c905-d9e52d2301b0"
      },
      "source": [
        "#installing Torchvision \n",
        "!pip install torch===1.4.0 torchvision===0.5.0 -f https://download.pytorch.org/whl/torch_stable.html"
      ],
      "execution_count": null,
      "outputs": [
        {
          "output_type": "stream",
          "text": [
            "Looking in links: https://download.pytorch.org/whl/torch_stable.html\n",
            "Requirement already satisfied: torch===1.4.0 in /usr/local/lib/python3.7/dist-packages (1.4.0)\n",
            "Requirement already satisfied: torchvision===0.5.0 in /usr/local/lib/python3.7/dist-packages (0.5.0)\n",
            "Requirement already satisfied: numpy in /usr/local/lib/python3.7/dist-packages (from torchvision===0.5.0) (1.19.5)\n",
            "Requirement already satisfied: pillow>=4.1.1 in /usr/local/lib/python3.7/dist-packages (from torchvision===0.5.0) (7.1.2)\n",
            "Requirement already satisfied: six in /usr/local/lib/python3.7/dist-packages (from torchvision===0.5.0) (1.15.0)\n"
          ],
          "name": "stdout"
        }
      ]
    },
    {
      "cell_type": "code",
      "metadata": {
        "id": "1pclJWjofRTL"
      },
      "source": [
        "#importing fastai vision\n",
        "from fastai.vision import *\n",
        "from fastai.metrics import error_rate"
      ],
      "execution_count": null,
      "outputs": []
    },
    {
      "cell_type": "code",
      "metadata": {
        "id": "WlYaT9dhDFo1"
      },
      "source": [
        "#use only to run the code in cpu \n",
        "#import fastai\n",
        "#fastai.device = torch.device('cpu')"
      ],
      "execution_count": null,
      "outputs": []
    },
    {
      "cell_type": "code",
      "metadata": {
        "id": "55KL3RNkJdUb"
      },
      "source": [
        "!mkdir /content/models #creating /content/models for saving the model "
      ],
      "execution_count": null,
      "outputs": []
    },
    {
      "cell_type": "code",
      "metadata": {
        "id": "SkvnJIkofYAt"
      },
      "source": [
        "#downloading the food 101 data from url \n",
        "path = untar_data(URLs.FOOD)"
      ],
      "execution_count": null,
      "outputs": []
    },
    {
      "cell_type": "code",
      "metadata": {
        "colab": {
          "base_uri": "https://localhost:8080/"
        },
        "id": "1Lo9c6F1fjuv",
        "outputId": "6e30640b-ceb7-4c5b-91eb-45557666afca"
      },
      "source": [
        "path.ls()"
      ],
      "execution_count": null,
      "outputs": [
        {
          "output_type": "execute_result",
          "data": {
            "text/plain": [
              "[PosixPath('/root/.fastai/data/food-101/labels.txt'),\n",
              " PosixPath('/root/.fastai/data/food-101/classes.txt'),\n",
              " PosixPath('/root/.fastai/data/food-101/images'),\n",
              " PosixPath('/root/.fastai/data/food-101/test.txt'),\n",
              " PosixPath('/root/.fastai/data/food-101/h5'),\n",
              " PosixPath('/root/.fastai/data/food-101/train.txt'),\n",
              " PosixPath('/root/.fastai/data/food-101/test.json'),\n",
              " PosixPath('/root/.fastai/data/food-101/train.json')]"
            ]
          },
          "metadata": {
            "tags": []
          },
          "execution_count": 37
        }
      ]
    },
    {
      "cell_type": "code",
      "metadata": {
        "id": "QQnuIwyulSf9"
      },
      "source": [
        "#creating train and test dataset \n",
        "train_path = '/root/.fastai/data/food-101/train.txt'\n",
        "test_path = '/root/.fastai/data/food-101/test.txt'\n",
        "\n",
        "def filelist2df(path):\n",
        "    df = pd.read_csv(path,delimiter='/', header = None, names=['label','name'])\n",
        "    df['name'] = df['label'].astype(str)+\"/\"+df['name'].astype(str)+\".jpg\"\n",
        "    return df\n",
        "train_df = filelist2df(train_path)\n",
        "test_df = filelist2df(test_path)"
      ],
      "execution_count": null,
      "outputs": []
    },
    {
      "cell_type": "code",
      "metadata": {
        "colab": {
          "base_uri": "https://localhost:8080/",
          "height": 204
        },
        "id": "PDDjoYCJmIyn",
        "outputId": "41220665-1c2e-41a1-bd44-9228c8da4d06"
      },
      "source": [
        "train_df.head()"
      ],
      "execution_count": null,
      "outputs": [
        {
          "output_type": "execute_result",
          "data": {
            "text/html": [
              "<div>\n",
              "<style scoped>\n",
              "    .dataframe tbody tr th:only-of-type {\n",
              "        vertical-align: middle;\n",
              "    }\n",
              "\n",
              "    .dataframe tbody tr th {\n",
              "        vertical-align: top;\n",
              "    }\n",
              "\n",
              "    .dataframe thead th {\n",
              "        text-align: right;\n",
              "    }\n",
              "</style>\n",
              "<table border=\"1\" class=\"dataframe\">\n",
              "  <thead>\n",
              "    <tr style=\"text-align: right;\">\n",
              "      <th></th>\n",
              "      <th>label</th>\n",
              "      <th>name</th>\n",
              "    </tr>\n",
              "  </thead>\n",
              "  <tbody>\n",
              "    <tr>\n",
              "      <th>0</th>\n",
              "      <td>apple_pie</td>\n",
              "      <td>apple_pie/1005649.jpg</td>\n",
              "    </tr>\n",
              "    <tr>\n",
              "      <th>1</th>\n",
              "      <td>apple_pie</td>\n",
              "      <td>apple_pie/1014775.jpg</td>\n",
              "    </tr>\n",
              "    <tr>\n",
              "      <th>2</th>\n",
              "      <td>apple_pie</td>\n",
              "      <td>apple_pie/1026328.jpg</td>\n",
              "    </tr>\n",
              "    <tr>\n",
              "      <th>3</th>\n",
              "      <td>apple_pie</td>\n",
              "      <td>apple_pie/1028787.jpg</td>\n",
              "    </tr>\n",
              "    <tr>\n",
              "      <th>4</th>\n",
              "      <td>apple_pie</td>\n",
              "      <td>apple_pie/1043283.jpg</td>\n",
              "    </tr>\n",
              "  </tbody>\n",
              "</table>\n",
              "</div>"
            ],
            "text/plain": [
              "       label                   name\n",
              "0  apple_pie  apple_pie/1005649.jpg\n",
              "1  apple_pie  apple_pie/1014775.jpg\n",
              "2  apple_pie  apple_pie/1026328.jpg\n",
              "3  apple_pie  apple_pie/1028787.jpg\n",
              "4  apple_pie  apple_pie/1043283.jpg"
            ]
          },
          "metadata": {
            "tags": []
          },
          "execution_count": 39
        }
      ]
    },
    {
      "cell_type": "code",
      "metadata": {
        "colab": {
          "base_uri": "https://localhost:8080/"
        },
        "id": "Hd6Q3zhLXwLK",
        "outputId": "36f8049f-4f41-4b36-f6ca-9281acb21dfa"
      },
      "source": [
        "print('Shape of Training data :',train_df.shape)"
      ],
      "execution_count": null,
      "outputs": [
        {
          "output_type": "stream",
          "text": [
            "Shape of Training data : (75750, 2)\n"
          ],
          "name": "stdout"
        }
      ]
    },
    {
      "cell_type": "code",
      "metadata": {
        "colab": {
          "base_uri": "https://localhost:8080/"
        },
        "id": "icUTc7oAX86V",
        "outputId": "abc2e865-9ae7-40d2-bb64-8a29f936cc3e"
      },
      "source": [
        "print('Shape of Test data :',test_df.shape)"
      ],
      "execution_count": null,
      "outputs": [
        {
          "output_type": "stream",
          "text": [
            "Shape of Test data : (25250, 2)\n"
          ],
          "name": "stdout"
        }
      ]
    },
    {
      "cell_type": "code",
      "metadata": {
        "id": "Og8OZMiImL63"
      },
      "source": [
        "#fast ai will get the label automatically from the folders\n",
        "#taken from kaggle/ for creating the split for validation\n",
        "def seed_everything(seed):\n",
        "    random.seed(seed)\n",
        "    os.environ['PYTHONHASHSEED'] = str(seed)\n",
        "    np.random.seed(seed)\n",
        "    torch.manual_seed(seed)\n",
        "    torch.cuda.manual_seed(seed)\n",
        "    torch.backends.cudnn.deterministic = True\n",
        "\n",
        "seed_everything(40)"
      ],
      "execution_count": null,
      "outputs": []
    },
    {
      "cell_type": "markdown",
      "metadata": {
        "id": "Ytvmd46oTmKd"
      },
      "source": [
        "**EfficientnetB0**"
      ]
    },
    {
      "cell_type": "code",
      "metadata": {
        "id": "-kY148aNm49C"
      },
      "source": [
        "#EfficientNet0 and image size 224 and see how fast it converges\n",
        "bs = 64\n",
        "img_size = 224 "
      ],
      "execution_count": null,
      "outputs": []
    },
    {
      "cell_type": "code",
      "metadata": {
        "id": "TqSI-alTnOf4"
      },
      "source": [
        "#defining the data augumentation\n",
        "#There are two arguments for this \n",
        "#First Argument : transformation for the training set  #second Argument - transformation for the validation set (transform not done for validation data )\n",
        "ds_tfms=([RandTransform(tfm=TfmCrop (crop_pad),kwargs={'row_pct':(0,1),'col_pct':(0,1),'padding_mode':'reflection'},p=1.0,resolved={},do_run=True,is_random=True),\n",
        "          RandTransform(tfm=TfmCoord (symmetric_warp),kwargs={'magnitude':(-0.2,0.2)},p=0.75,resolved={},do_run=True,is_random=True),\n",
        "          RandTransform(tfm=TfmAffine(rotate),kwargs={'degrees':(-40,40)},p=0.75,resolved={},do_run=True,is_random=True),\n",
        "          RandTransform(tfm=TfmAffine(flip_affine),kwargs={},p=0.75,resolved={},do_run=True,is_random=True),\n",
        "          RandTransform(tfm=TfmAffine(zoom),kwargs={'scale':(1.0,1.4),'row_pct':(0,1),'col_pct':(0,1)},p=0.75,resolved={},do_run=True,is_random=True),\n",
        "          RandTransform(tfm=TfmLighting(brightness),kwargs={'change':(0.35,0.65)},p=0.75,resolved={},do_run=True,is_random=True),\n",
        "          RandTransform(tfm=TfmLighting(contrast),kwargs={'scale':(0.7,1.43)},p=0.75,resolved={},do_run=True,is_random=True),\n",
        "          RandTransform(tfm=TfmCoord(jitter),kwargs={'magnitude':(-0.01,0.01)},p=0.3,resolved={},do_run=True,is_random=True),\n",
        "          RandTransform(tfm=TfmCoord(skew),kwargs={'direction':(0,7),'magnitude':(0.2)},p=0.75,resolved={},do_run=True,is_random=True),\n",
        "          RandTransform(tfm=TfmAffine(squish),kwargs={'scale':(0.42,2.4),'row_pct':(0,1),'col_pct':(0,1)},p=0.75,resolved={},do_run=True,is_random=True)],\n",
        "          [RandTransform(tfm=TfmCrop(crop_pad),kwargs={},p=1.0,resolved={},do_run=True,is_random=True)])"
      ],
      "execution_count": null,
      "outputs": []
    },
    {
      "cell_type": "code",
      "metadata": {
        "id": "G8ab0DWvus8e"
      },
      "source": [
        "#Doing the transformation for the train data \n",
        "#Split_by will split the data for validation\n",
        "#Label specification from where the label has to be taken\n",
        "#What kind of transformation , batchsize and normalization \n",
        "data=(ImageList.from_df(df=train_df,path=path/'images',cols=1)\n",
        "      .split_by_rand_pct(0.2)\n",
        "      .label_from_df(cols=0)\n",
        "      .transform(ds_tfms,size=img_size)\n",
        "      .databunch(bs=bs)\n",
        "      .normalize(imagenet_stats))"
      ],
      "execution_count": null,
      "outputs": []
    },
    {
      "cell_type": "code",
      "metadata": {
        "colab": {
          "base_uri": "https://localhost:8080/"
        },
        "id": "SABsyMyvzNDi",
        "outputId": "58df7c9c-a6d4-4bae-dbdc-4b17d8f1ff48"
      },
      "source": [
        "#installing efficientNet  \n",
        "pip install --upgrade efficientnet-pytorch"
      ],
      "execution_count": null,
      "outputs": [
        {
          "output_type": "stream",
          "text": [
            "Collecting efficientnet-pytorch\n",
            "  Downloading https://files.pythonhosted.org/packages/2e/a0/dd40b50aebf0028054b6b35062948da01123d7be38d08b6b1e5435df6363/efficientnet_pytorch-0.7.1.tar.gz\n",
            "Requirement already satisfied, skipping upgrade: torch in /usr/local/lib/python3.7/dist-packages (from efficientnet-pytorch) (1.4.0)\n",
            "Building wheels for collected packages: efficientnet-pytorch\n",
            "  Building wheel for efficientnet-pytorch (setup.py) ... \u001b[?25l\u001b[?25hdone\n",
            "  Created wheel for efficientnet-pytorch: filename=efficientnet_pytorch-0.7.1-cp37-none-any.whl size=16443 sha256=38477ee8a67f55e55a176b5079e755878fc0de8ddbd9a52effd2fff6bb48c90e\n",
            "  Stored in directory: /root/.cache/pip/wheels/84/27/aa/c46d23c4e8cc72d41283862b1437e0b3ad318417e8ed7d5921\n",
            "Successfully built efficientnet-pytorch\n",
            "Installing collected packages: efficientnet-pytorch\n",
            "Successfully installed efficientnet-pytorch-0.7.1\n"
          ],
          "name": "stdout"
        }
      ]
    },
    {
      "cell_type": "code",
      "metadata": {
        "id": "3IV4IFUizpTa"
      },
      "source": [
        "#Importing the Efficient net from pytorch : Original paper implemented in Keras (tpu)\n",
        "#importing efficientNet from pyTorch - Third party implementation \n",
        "from efficientnet_pytorch import EfficientNet"
      ],
      "execution_count": null,
      "outputs": []
    },
    {
      "cell_type": "code",
      "metadata": {
        "colab": {
          "base_uri": "https://localhost:8080/"
        },
        "id": "INAE1ZfLz7fe",
        "outputId": "107a9d99-d662-4a87-e288-be2b80e8a533"
      },
      "source": [
        "#Loading the pretrained efficientNetB0\n",
        "model = EfficientNet.from_pretrained(\"efficientnet-b0\")"
      ],
      "execution_count": null,
      "outputs": [
        {
          "output_type": "stream",
          "text": [
            "Loaded pretrained weights for efficientnet-b0\n"
          ],
          "name": "stdout"
        }
      ]
    },
    {
      "cell_type": "code",
      "metadata": {
        "id": "1ivwKDHN0CNC"
      },
      "source": [
        "top_5 = partial(top_k_accuracy,k=5)\n",
        "learn=Learner(data,model,metrics=[accuracy,top_5], callback_fns=ShowGraph).to_fp16() #by default float 32 training in 16 bits takes only half the size. \n",
        "learn.split(lambda m:(model._conv_head,)) #This helps to break the network in three parts and train with different learning rates "
      ],
      "execution_count": null,
      "outputs": []
    },
    {
      "cell_type": "code",
      "metadata": {
        "id": "qacDg2ak0jn9"
      },
      "source": [
        "#learn.lr_find()\n",
        "#learn.recorder.plot(suggestion=True)"
      ],
      "execution_count": null,
      "outputs": []
    },
    {
      "cell_type": "code",
      "metadata": {
        "id": "XhHRLaUq07Lq"
      },
      "source": [
        "#lr = 9e-3\n",
        "#learn.fit_one_cycle(1,max_lr=slice(lr))\n",
        "#learn.save('/content/models/food-101-train-epoch-v1')"
      ],
      "execution_count": null,
      "outputs": []
    },
    {
      "cell_type": "code",
      "metadata": {
        "colab": {
          "base_uri": "https://localhost:8080/",
          "height": 421
        },
        "id": "cpK50gEsbi2k",
        "outputId": "6c1777b3-9870-4e0d-a1ba-917e628e6712"
      },
      "source": [
        "lr = 9e-3  #learning rate initialization \n",
        "learn.fit_one_cycle(4,max_lr=slice(lr))\n",
        "learn.save('/content/drive/MyDrive/food-101-train-epoch-4')"
      ],
      "execution_count": null,
      "outputs": [
        {
          "output_type": "display_data",
          "data": {
            "text/html": [
              "<table border=\"1\" class=\"dataframe\">\n",
              "  <thead>\n",
              "    <tr style=\"text-align: left;\">\n",
              "      <th>epoch</th>\n",
              "      <th>train_loss</th>\n",
              "      <th>valid_loss</th>\n",
              "      <th>accuracy</th>\n",
              "      <th>top_k_accuracy</th>\n",
              "      <th>time</th>\n",
              "    </tr>\n",
              "  </thead>\n",
              "  <tbody>\n",
              "    <tr>\n",
              "      <td>0</td>\n",
              "      <td>1.954827</td>\n",
              "      <td>1.955296</td>\n",
              "      <td>0.567261</td>\n",
              "      <td>0.827921</td>\n",
              "      <td>11:34</td>\n",
              "    </tr>\n",
              "    <tr>\n",
              "      <td>1</td>\n",
              "      <td>1.624377</td>\n",
              "      <td>1.433805</td>\n",
              "      <td>0.653267</td>\n",
              "      <td>0.865809</td>\n",
              "      <td>11:34</td>\n",
              "    </tr>\n",
              "    <tr>\n",
              "      <td>2</td>\n",
              "      <td>1.202551</td>\n",
              "      <td>0.915790</td>\n",
              "      <td>0.763762</td>\n",
              "      <td>0.924488</td>\n",
              "      <td>11:26</td>\n",
              "    </tr>\n",
              "    <tr>\n",
              "      <td>3</td>\n",
              "      <td>0.895407</td>\n",
              "      <td>0.798578</td>\n",
              "      <td>0.794389</td>\n",
              "      <td>0.939010</td>\n",
              "      <td>11:28</td>\n",
              "    </tr>\n",
              "  </tbody>\n",
              "</table>"
            ],
            "text/plain": [
              "<IPython.core.display.HTML object>"
            ]
          },
          "metadata": {
            "tags": []
          }
        },
        {
          "output_type": "display_data",
          "data": {
            "image/png": "[encoded data removed]",
            "text/plain": [
              "<Figure size 432x288 with 1 Axes>"
            ]
          },
          "metadata": {
            "tags": []
          }
        }
      ]
    },
    {
      "cell_type": "code",
      "metadata": {
        "id": "3jKJ_zhR1VM8"
      },
      "source": [
        "#Forming the test data to validate the test accuracy \n",
        "test_data=(ImageList.from_df(df=test_df,path=path/'images',cols=1)\n",
        "      .split_none()\n",
        "      .label_from_df(cols=0)\n",
        "      .transform(ds_tfms,size=img_size)\n",
        "      .databunch(bs=bs)\n",
        "      .normalize(imagenet_stats))"
      ],
      "execution_count": null,
      "outputs": []
    },
    {
      "cell_type": "code",
      "metadata": {
        "id": "9lKyNM5b9xi2"
      },
      "source": [
        "top_5 = partial(top_k_accuracy,k=5)\n",
        "learn=Learner(test_data,model,metrics=[accuracy,top_5]).to_fp16() \n",
        "#by default float 32 training in 16 bits..takes only half the size. \n",
        "learn.load('/content/models/food-101-train-epoch-v1')"
      ],
      "execution_count": null,
      "outputs": []
    },
    {
      "cell_type": "code",
      "metadata": {
        "colab": {
          "base_uri": "https://localhost:8080/",
          "height": 34
        },
        "id": "BacnfnxGfVtQ",
        "outputId": "f772f101-8328-4599-9400-2299395657ef"
      },
      "source": [
        "learn.validate(test_data.train_dl )"
      ],
      "execution_count": null,
      "outputs": [
        {
          "output_type": "display_data",
          "data": {
            "text/html": [
              ""
            ],
            "text/plain": [
              "<IPython.core.display.HTML object>"
            ]
          },
          "metadata": {
            "tags": []
          }
        },
        {
          "output_type": "execute_result",
          "data": {
            "text/plain": [
              "[1.0188521, tensor(0.7241), tensor(0.9147)]"
            ]
          },
          "metadata": {
            "tags": []
          },
          "execution_count": 76
        }
      ]
    },
    {
      "cell_type": "code",
      "metadata": {
        "colab": {
          "base_uri": "https://localhost:8080/"
        },
        "id": "FcAly-fnAg9-",
        "outputId": "35de9117-f705-4540-988e-8b5695d74766"
      },
      "source": [
        "# using fastai widget to do data cleaning\n",
        "from fastai.widgets import *\n",
        " \n",
        "data = (ImageList.from_df(df=train_df, path=path/'images', cols=1)\n",
        "        .split_none()\n",
        "        .label_from_df(cols=0)\n",
        "        .transform(ds_tfms, size=img_size)\n",
        "        .databunch())\n",
        " \n",
        "learn_cln = Learner(data, model, metrics=[accuracy, top_5]).to_fp16()\n",
        "learn_cln.load('path_to_trained_model')\n",
        "ds, idxs = DatasetFormatter().from_toplosses(learn_cln)\n",
        " \n",
        "# manually removing some of the noise in the dataset. \n",
        "ImageCleaner(ds, idxs, path)"
      ],
      "execution_count": null,
      "outputs": [
        {
          "output_type": "execute_result",
          "data": {
            "text/plain": [
              "Learner(data=ImageDataBunch;\n",
              "\n",
              "Train: LabelList (25250 items)\n",
              "x: ImageList\n",
              "Image (3, 224, 224),Image (3, 224, 224),Image (3, 224, 224),Image (3, 224, 224),Image (3, 224, 224)\n",
              "y: CategoryList\n",
              "apple_pie,apple_pie,apple_pie,apple_pie,apple_pie\n",
              "Path: /root/.fastai/data/food-101/images;\n",
              "\n",
              "Valid: LabelList (0 items)\n",
              "x: ImageList\n",
              "\n",
              "y: CategoryList\n",
              "\n",
              "Path: /root/.fastai/data/food-101/images;\n",
              "\n",
              "Test: None, model=EfficientNet(\n",
              "  (_conv_stem): Conv2dStaticSamePadding(\n",
              "    3, 32, kernel_size=(3, 3), stride=(2, 2), bias=False\n",
              "    (static_padding): ZeroPad2d(padding=(0, 1, 0, 1), value=0.0)\n",
              "  )\n",
              "  (_bn0): BatchNorm2d(32, eps=0.001, momentum=0.010000000000000009, affine=True, track_running_stats=True)\n",
              "  (_blocks): ModuleList(\n",
              "    (0): MBConvBlock(\n",
              "      (_depthwise_conv): Conv2dStaticSamePadding(\n",
              "        32, 32, kernel_size=(3, 3), stride=[1, 1], groups=32, bias=False\n",
              "        (static_padding): ZeroPad2d(padding=(1, 1, 1, 1), value=0.0)\n",
              "      )\n",
              "      (_bn1): BatchNorm2d(32, eps=0.001, momentum=0.010000000000000009, affine=True, track_running_stats=True)\n",
              "      (_se_reduce): Conv2dStaticSamePadding(\n",
              "        32, 8, kernel_size=(1, 1), stride=(1, 1)\n",
              "        (static_padding): Identity()\n",
              "      )\n",
              "      (_se_expand): Conv2dStaticSamePadding(\n",
              "        8, 32, kernel_size=(1, 1), stride=(1, 1)\n",
              "        (static_padding): Identity()\n",
              "      )\n",
              "      (_project_conv): Conv2dStaticSamePadding(\n",
              "        32, 16, kernel_size=(1, 1), stride=(1, 1), bias=False\n",
              "        (static_padding): Identity()\n",
              "      )\n",
              "      (_bn2): BatchNorm2d(16, eps=0.001, momentum=0.010000000000000009, affine=True, track_running_stats=True)\n",
              "      (_swish): MemoryEfficientSwish()\n",
              "    )\n",
              "    (1): MBConvBlock(\n",
              "      (_expand_conv): Conv2dStaticSamePadding(\n",
              "        16, 96, kernel_size=(1, 1), stride=(1, 1), bias=False\n",
              "        (static_padding): Identity()\n",
              "      )\n",
              "      (_bn0): BatchNorm2d(96, eps=0.001, momentum=0.010000000000000009, affine=True, track_running_stats=True)\n",
              "      (_depthwise_conv): Conv2dStaticSamePadding(\n",
              "        96, 96, kernel_size=(3, 3), stride=[2, 2], groups=96, bias=False\n",
              "        (static_padding): ZeroPad2d(padding=(0, 1, 0, 1), value=0.0)\n",
              "      )\n",
              "      (_bn1): BatchNorm2d(96, eps=0.001, momentum=0.010000000000000009, affine=True, track_running_stats=True)\n",
              "      (_se_reduce): Conv2dStaticSamePadding(\n",
              "        96, 4, kernel_size=(1, 1), stride=(1, 1)\n",
              "        (static_padding): Identity()\n",
              "      )\n",
              "      (_se_expand): Conv2dStaticSamePadding(\n",
              "        4, 96, kernel_size=(1, 1), stride=(1, 1)\n",
              "        (static_padding): Identity()\n",
              "      )\n",
              "      (_project_conv): Conv2dStaticSamePadding(\n",
              "        96, 24, kernel_size=(1, 1), stride=(1, 1), bias=False\n",
              "        (static_padding): Identity()\n",
              "      )\n",
              "      (_bn2): BatchNorm2d(24, eps=0.001, momentum=0.010000000000000009, affine=True, track_running_stats=True)\n",
              "      (_swish): MemoryEfficientSwish()\n",
              "    )\n",
              "    (2): MBConvBlock(\n",
              "      (_expand_conv): Conv2dStaticSamePadding(\n",
              "        24, 144, kernel_size=(1, 1), stride=(1, 1), bias=False\n",
              "        (static_padding): Identity()\n",
              "      )\n",
              "      (_bn0): BatchNorm2d(144, eps=0.001, momentum=0.010000000000000009, affine=True, track_running_stats=True)\n",
              "      (_depthwise_conv): Conv2dStaticSamePadding(\n",
              "        144, 144, kernel_size=(3, 3), stride=(1, 1), groups=144, bias=False\n",
              "        (static_padding): ZeroPad2d(padding=(1, 1, 1, 1), value=0.0)\n",
              "      )\n",
              "      (_bn1): BatchNorm2d(144, eps=0.001, momentum=0.010000000000000009, affine=True, track_running_stats=True)\n",
              "      (_se_reduce): Conv2dStaticSamePadding(\n",
              "        144, 6, kernel_size=(1, 1), stride=(1, 1)\n",
              "        (static_padding): Identity()\n",
              "      )\n",
              "      (_se_expand): Conv2dStaticSamePadding(\n",
              "        6, 144, kernel_size=(1, 1), stride=(1, 1)\n",
              "        (static_padding): Identity()\n",
              "      )\n",
              "      (_project_conv): Conv2dStaticSamePadding(\n",
              "        144, 24, kernel_size=(1, 1), stride=(1, 1), bias=False\n",
              "        (static_padding): Identity()\n",
              "      )\n",
              "      (_bn2): BatchNorm2d(24, eps=0.001, momentum=0.010000000000000009, affine=True, track_running_stats=True)\n",
              "      (_swish): MemoryEfficientSwish()\n",
              "    )\n",
              "    (3): MBConvBlock(\n",
              "      (_expand_conv): Conv2dStaticSamePadding(\n",
              "        24, 144, kernel_size=(1, 1), stride=(1, 1), bias=False\n",
              "        (static_padding): Identity()\n",
              "      )\n",
              "      (_bn0): BatchNorm2d(144, eps=0.001, momentum=0.010000000000000009, affine=True, track_running_stats=True)\n",
              "      (_depthwise_conv): Conv2dStaticSamePadding(\n",
              "        144, 144, kernel_size=(5, 5), stride=[2, 2], groups=144, bias=False\n",
              "        (static_padding): ZeroPad2d(padding=(1, 2, 1, 2), value=0.0)\n",
              "      )\n",
              "      (_bn1): BatchNorm2d(144, eps=0.001, momentum=0.010000000000000009, affine=True, track_running_stats=True)\n",
              "      (_se_reduce): Conv2dStaticSamePadding(\n",
              "        144, 6, kernel_size=(1, 1), stride=(1, 1)\n",
              "        (static_padding): Identity()\n",
              "      )\n",
              "      (_se_expand): Conv2dStaticSamePadding(\n",
              "        6, 144, kernel_size=(1, 1), stride=(1, 1)\n",
              "        (static_padding): Identity()\n",
              "      )\n",
              "      (_project_conv): Conv2dStaticSamePadding(\n",
              "        144, 40, kernel_size=(1, 1), stride=(1, 1), bias=False\n",
              "        (static_padding): Identity()\n",
              "      )\n",
              "      (_bn2): BatchNorm2d(40, eps=0.001, momentum=0.010000000000000009, affine=True, track_running_stats=True)\n",
              "      (_swish): MemoryEfficientSwish()\n",
              "    )\n",
              "    (4): MBConvBlock(\n",
              "      (_expand_conv): Conv2dStaticSamePadding(\n",
              "        40, 240, kernel_size=(1, 1), stride=(1, 1), bias=False\n",
              "        (static_padding): Identity()\n",
              "      )\n",
              "      (_bn0): BatchNorm2d(240, eps=0.001, momentum=0.010000000000000009, affine=True, track_running_stats=True)\n",
              "      (_depthwise_conv): Conv2dStaticSamePadding(\n",
              "        240, 240, kernel_size=(5, 5), stride=(1, 1), groups=240, bias=False\n",
              "        (static_padding): ZeroPad2d(padding=(2, 2, 2, 2), value=0.0)\n",
              "      )\n",
              "      (_bn1): BatchNorm2d(240, eps=0.001, momentum=0.010000000000000009, affine=True, track_running_stats=True)\n",
              "      (_se_reduce): Conv2dStaticSamePadding(\n",
              "        240, 10, kernel_size=(1, 1), stride=(1, 1)\n",
              "        (static_padding): Identity()\n",
              "      )\n",
              "      (_se_expand): Conv2dStaticSamePadding(\n",
              "        10, 240, kernel_size=(1, 1), stride=(1, 1)\n",
              "        (static_padding): Identity()\n",
              "      )\n",
              "      (_project_conv): Conv2dStaticSamePadding(\n",
              "        240, 40, kernel_size=(1, 1), stride=(1, 1), bias=False\n",
              "        (static_padding): Identity()\n",
              "      )\n",
              "      (_bn2): BatchNorm2d(40, eps=0.001, momentum=0.010000000000000009, affine=True, track_running_stats=True)\n",
              "      (_swish): MemoryEfficientSwish()\n",
              "    )\n",
              "    (5): MBConvBlock(\n",
              "      (_expand_conv): Conv2dStaticSamePadding(\n",
              "        40, 240, kernel_size=(1, 1), stride=(1, 1), bias=False\n",
              "        (static_padding): Identity()\n",
              "      )\n",
              "      (_bn0): BatchNorm2d(240, eps=0.001, momentum=0.010000000000000009, affine=True, track_running_stats=True)\n",
              "      (_depthwise_conv): Conv2dStaticSamePadding(\n",
              "        240, 240, kernel_size=(3, 3), stride=[2, 2], groups=240, bias=False\n",
              "        (static_padding): ZeroPad2d(padding=(0, 1, 0, 1), value=0.0)\n",
              "      )\n",
              "      (_bn1): BatchNorm2d(240, eps=0.001, momentum=0.010000000000000009, affine=True, track_running_stats=True)\n",
              "      (_se_reduce): Conv2dStaticSamePadding(\n",
              "        240, 10, kernel_size=(1, 1), stride=(1, 1)\n",
              "        (static_padding): Identity()\n",
              "      )\n",
              "      (_se_expand): Conv2dStaticSamePadding(\n",
              "        10, 240, kernel_size=(1, 1), stride=(1, 1)\n",
              "        (static_padding): Identity()\n",
              "      )\n",
              "      (_project_conv): Conv2dStaticSamePadding(\n",
              "        240, 80, kernel_size=(1, 1), stride=(1, 1), bias=False\n",
              "        (static_padding): Identity()\n",
              "      )\n",
              "      (_bn2): BatchNorm2d(80, eps=0.001, momentum=0.010000000000000009, affine=True, track_running_stats=True)\n",
              "      (_swish): MemoryEfficientSwish()\n",
              "    )\n",
              "    (6): MBConvBlock(\n",
              "      (_expand_conv): Conv2dStaticSamePadding(\n",
              "        80, 480, kernel_size=(1, 1), stride=(1, 1), bias=False\n",
              "        (static_padding): Identity()\n",
              "      )\n",
              "      (_bn0): BatchNorm2d(480, eps=0.001, momentum=0.010000000000000009, affine=True, track_running_stats=True)\n",
              "      (_depthwise_conv): Conv2dStaticSamePadding(\n",
              "        480, 480, kernel_size=(3, 3), stride=(1, 1), groups=480, bias=False\n",
              "        (static_padding): ZeroPad2d(padding=(1, 1, 1, 1), value=0.0)\n",
              "      )\n",
              "      (_bn1): BatchNorm2d(480, eps=0.001, momentum=0.010000000000000009, affine=True, track_running_stats=True)\n",
              "      (_se_reduce): Conv2dStaticSamePadding(\n",
              "        480, 20, kernel_size=(1, 1), stride=(1, 1)\n",
              "        (static_padding): Identity()\n",
              "      )\n",
              "      (_se_expand): Conv2dStaticSamePadding(\n",
              "        20, 480, kernel_size=(1, 1), stride=(1, 1)\n",
              "        (static_padding): Identity()\n",
              "      )\n",
              "      (_project_conv): Conv2dStaticSamePadding(\n",
              "        480, 80, kernel_size=(1, 1), stride=(1, 1), bias=False\n",
              "        (static_padding): Identity()\n",
              "      )\n",
              "      (_bn2): BatchNorm2d(80, eps=0.001, momentum=0.010000000000000009, affine=True, track_running_stats=True)\n",
              "      (_swish): MemoryEfficientSwish()\n",
              "    )\n",
              "    (7): MBConvBlock(\n",
              "      (_expand_conv): Conv2dStaticSamePadding(\n",
              "        80, 480, kernel_size=(1, 1), stride=(1, 1), bias=False\n",
              "        (static_padding): Identity()\n",
              "      )\n",
              "      (_bn0): BatchNorm2d(480, eps=0.001, momentum=0.010000000000000009, affine=True, track_running_stats=True)\n",
              "      (_depthwise_conv): Conv2dStaticSamePadding(\n",
              "        480, 480, kernel_size=(3, 3), stride=(1, 1), groups=480, bias=False\n",
              "        (static_padding): ZeroPad2d(padding=(1, 1, 1, 1), value=0.0)\n",
              "      )\n",
              "      (_bn1): BatchNorm2d(480, eps=0.001, momentum=0.010000000000000009, affine=True, track_running_stats=True)\n",
              "      (_se_reduce): Conv2dStaticSamePadding(\n",
              "        480, 20, kernel_size=(1, 1), stride=(1, 1)\n",
              "        (static_padding): Identity()\n",
              "      )\n",
              "      (_se_expand): Conv2dStaticSamePadding(\n",
              "        20, 480, kernel_size=(1, 1), stride=(1, 1)\n",
              "        (static_padding): Identity()\n",
              "      )\n",
              "      (_project_conv): Conv2dStaticSamePadding(\n",
              "        480, 80, kernel_size=(1, 1), stride=(1, 1), bias=False\n",
              "        (static_padding): Identity()\n",
              "      )\n",
              "      (_bn2): BatchNorm2d(80, eps=0.001, momentum=0.010000000000000009, affine=True, track_running_stats=True)\n",
              "      (_swish): MemoryEfficientSwish()\n",
              "    )\n",
              "    (8): MBConvBlock(\n",
              "      (_expand_conv): Conv2dStaticSamePadding(\n",
              "        80, 480, kernel_size=(1, 1), stride=(1, 1), bias=False\n",
              "        (static_padding): Identity()\n",
              "      )\n",
              "      (_bn0): BatchNorm2d(480, eps=0.001, momentum=0.010000000000000009, affine=True, track_running_stats=True)\n",
              "      (_depthwise_conv): Conv2dStaticSamePadding(\n",
              "        480, 480, kernel_size=(5, 5), stride=[1, 1], groups=480, bias=False\n",
              "        (static_padding): ZeroPad2d(padding=(2, 2, 2, 2), value=0.0)\n",
              "      )\n",
              "      (_bn1): BatchNorm2d(480, eps=0.001, momentum=0.010000000000000009, affine=True, track_running_stats=True)\n",
              "      (_se_reduce): Conv2dStaticSamePadding(\n",
              "        480, 20, kernel_size=(1, 1), stride=(1, 1)\n",
              "        (static_padding): Identity()\n",
              "      )\n",
              "      (_se_expand): Conv2dStaticSamePadding(\n",
              "        20, 480, kernel_size=(1, 1), stride=(1, 1)\n",
              "        (static_padding): Identity()\n",
              "      )\n",
              "      (_project_conv): Conv2dStaticSamePadding(\n",
              "        480, 112, kernel_size=(1, 1), stride=(1, 1), bias=False\n",
              "        (static_padding): Identity()\n",
              "      )\n",
              "      (_bn2): BatchNorm2d(112, eps=0.001, momentum=0.010000000000000009, affine=True, track_running_stats=True)\n",
              "      (_swish): MemoryEfficientSwish()\n",
              "    )\n",
              "    (9): MBConvBlock(\n",
              "      (_expand_conv): Conv2dStaticSamePadding(\n",
              "        112, 672, kernel_size=(1, 1), stride=(1, 1), bias=False\n",
              "        (static_padding): Identity()\n",
              "      )\n",
              "      (_bn0): BatchNorm2d(672, eps=0.001, momentum=0.010000000000000009, affine=True, track_running_stats=True)\n",
              "      (_depthwise_conv): Conv2dStaticSamePadding(\n",
              "        672, 672, kernel_size=(5, 5), stride=(1, 1), groups=672, bias=False\n",
              "        (static_padding): ZeroPad2d(padding=(2, 2, 2, 2), value=0.0)\n",
              "      )\n",
              "      (_bn1): BatchNorm2d(672, eps=0.001, momentum=0.010000000000000009, affine=True, track_running_stats=True)\n",
              "      (_se_reduce): Conv2dStaticSamePadding(\n",
              "        672, 28, kernel_size=(1, 1), stride=(1, 1)\n",
              "        (static_padding): Identity()\n",
              "      )\n",
              "      (_se_expand): Conv2dStaticSamePadding(\n",
              "        28, 672, kernel_size=(1, 1), stride=(1, 1)\n",
              "        (static_padding): Identity()\n",
              "      )\n",
              "      (_project_conv): Conv2dStaticSamePadding(\n",
              "        672, 112, kernel_size=(1, 1), stride=(1, 1), bias=False\n",
              "        (static_padding): Identity()\n",
              "      )\n",
              "      (_bn2): BatchNorm2d(112, eps=0.001, momentum=0.010000000000000009, affine=True, track_running_stats=True)\n",
              "      (_swish): MemoryEfficientSwish()\n",
              "    )\n",
              "    (10): MBConvBlock(\n",
              "      (_expand_conv): Conv2dStaticSamePadding(\n",
              "        112, 672, kernel_size=(1, 1), stride=(1, 1), bias=False\n",
              "        (static_padding): Identity()\n",
              "      )\n",
              "      (_bn0): BatchNorm2d(672, eps=0.001, momentum=0.010000000000000009, affine=True, track_running_stats=True)\n",
              "      (_depthwise_conv): Conv2dStaticSamePadding(\n",
              "        672, 672, kernel_size=(5, 5), stride=(1, 1), groups=672, bias=False\n",
              "        (static_padding): ZeroPad2d(padding=(2, 2, 2, 2), value=0.0)\n",
              "      )\n",
              "      (_bn1): BatchNorm2d(672, eps=0.001, momentum=0.010000000000000009, affine=True, track_running_stats=True)\n",
              "      (_se_reduce): Conv2dStaticSamePadding(\n",
              "        672, 28, kernel_size=(1, 1), stride=(1, 1)\n",
              "        (static_padding): Identity()\n",
              "      )\n",
              "      (_se_expand): Conv2dStaticSamePadding(\n",
              "        28, 672, kernel_size=(1, 1), stride=(1, 1)\n",
              "        (static_padding): Identity()\n",
              "      )\n",
              "      (_project_conv): Conv2dStaticSamePadding(\n",
              "        672, 112, kernel_size=(1, 1), stride=(1, 1), bias=False\n",
              "        (static_padding): Identity()\n",
              "      )\n",
              "      (_bn2): BatchNorm2d(112, eps=0.001, momentum=0.010000000000000009, affine=True, track_running_stats=True)\n",
              "      (_swish): MemoryEfficientSwish()\n",
              "    )\n",
              "    (11): MBConvBlock(\n",
              "      (_expand_conv): Conv2dStaticSamePadding(\n",
              "        112, 672, kernel_size=(1, 1), stride=(1, 1), bias=False\n",
              "        (static_padding): Identity()\n",
              "      )\n",
              "      (_bn0): BatchNorm2d(672, eps=0.001, momentum=0.010000000000000009, affine=True, track_running_stats=True)\n",
              "      (_depthwise_conv): Conv2dStaticSamePadding(\n",
              "        672, 672, kernel_size=(5, 5), stride=[2, 2], groups=672, bias=False\n",
              "        (static_padding): ZeroPad2d(padding=(1, 2, 1, 2), value=0.0)\n",
              "      )\n",
              "      (_bn1): BatchNorm2d(672, eps=0.001, momentum=0.010000000000000009, affine=True, track_running_stats=True)\n",
              "      (_se_reduce): Conv2dStaticSamePadding(\n",
              "        672, 28, kernel_size=(1, 1), stride=(1, 1)\n",
              "        (static_padding): Identity()\n",
              "      )\n",
              "      (_se_expand): Conv2dStaticSamePadding(\n",
              "        28, 672, kernel_size=(1, 1), stride=(1, 1)\n",
              "        (static_padding): Identity()\n",
              "      )\n",
              "      (_project_conv): Conv2dStaticSamePadding(\n",
              "        672, 192, kernel_size=(1, 1), stride=(1, 1), bias=False\n",
              "        (static_padding): Identity()\n",
              "      )\n",
              "      (_bn2): BatchNorm2d(192, eps=0.001, momentum=0.010000000000000009, affine=True, track_running_stats=True)\n",
              "      (_swish): MemoryEfficientSwish()\n",
              "    )\n",
              "    (12): MBConvBlock(\n",
              "      (_expand_conv): Conv2dStaticSamePadding(\n",
              "        192, 1152, kernel_size=(1, 1), stride=(1, 1), bias=False\n",
              "        (static_padding): Identity()\n",
              "      )\n",
              "      (_bn0): BatchNorm2d(1152, eps=0.001, momentum=0.010000000000000009, affine=True, track_running_stats=True)\n",
              "      (_depthwise_conv): Conv2dStaticSamePadding(\n",
              "        1152, 1152, kernel_size=(5, 5), stride=(1, 1), groups=1152, bias=False\n",
              "        (static_padding): ZeroPad2d(padding=(2, 2, 2, 2), value=0.0)\n",
              "      )\n",
              "      (_bn1): BatchNorm2d(1152, eps=0.001, momentum=0.010000000000000009, affine=True, track_running_stats=True)\n",
              "      (_se_reduce): Conv2dStaticSamePadding(\n",
              "        1152, 48, kernel_size=(1, 1), stride=(1, 1)\n",
              "        (static_padding): Identity()\n",
              "      )\n",
              "      (_se_expand): Conv2dStaticSamePadding(\n",
              "        48, 1152, kernel_size=(1, 1), stride=(1, 1)\n",
              "        (static_padding): Identity()\n",
              "      )\n",
              "      (_project_conv): Conv2dStaticSamePadding(\n",
              "        1152, 192, kernel_size=(1, 1), stride=(1, 1), bias=False\n",
              "        (static_padding): Identity()\n",
              "      )\n",
              "      (_bn2): BatchNorm2d(192, eps=0.001, momentum=0.010000000000000009, affine=True, track_running_stats=True)\n",
              "      (_swish): MemoryEfficientSwish()\n",
              "    )\n",
              "    (13): MBConvBlock(\n",
              "      (_expand_conv): Conv2dStaticSamePadding(\n",
              "        192, 1152, kernel_size=(1, 1), stride=(1, 1), bias=False\n",
              "        (static_padding): Identity()\n",
              "      )\n",
              "      (_bn0): BatchNorm2d(1152, eps=0.001, momentum=0.010000000000000009, affine=True, track_running_stats=True)\n",
              "      (_depthwise_conv): Conv2dStaticSamePadding(\n",
              "        1152, 1152, kernel_size=(5, 5), stride=(1, 1), groups=1152, bias=False\n",
              "        (static_padding): ZeroPad2d(padding=(2, 2, 2, 2), value=0.0)\n",
              "      )\n",
              "      (_bn1): BatchNorm2d(1152, eps=0.001, momentum=0.010000000000000009, affine=True, track_running_stats=True)\n",
              "      (_se_reduce): Conv2dStaticSamePadding(\n",
              "        1152, 48, kernel_size=(1, 1), stride=(1, 1)\n",
              "        (static_padding): Identity()\n",
              "      )\n",
              "      (_se_expand): Conv2dStaticSamePadding(\n",
              "        48, 1152, kernel_size=(1, 1), stride=(1, 1)\n",
              "        (static_padding): Identity()\n",
              "      )\n",
              "      (_project_conv): Conv2dStaticSamePadding(\n",
              "        1152, 192, kernel_size=(1, 1), stride=(1, 1), bias=False\n",
              "        (static_padding): Identity()\n",
              "      )\n",
              "      (_bn2): BatchNorm2d(192, eps=0.001, momentum=0.010000000000000009, affine=True, track_running_stats=True)\n",
              "      (_swish): MemoryEfficientSwish()\n",
              "    )\n",
              "    (14): MBConvBlock(\n",
              "      (_expand_conv): Conv2dStaticSamePadding(\n",
              "        192, 1152, kernel_size=(1, 1), stride=(1, 1), bias=False\n",
              "        (static_padding): Identity()\n",
              "      )\n",
              "      (_bn0): BatchNorm2d(1152, eps=0.001, momentum=0.010000000000000009, affine=True, track_running_stats=True)\n",
              "      (_depthwise_conv): Conv2dStaticSamePadding(\n",
              "        1152, 1152, kernel_size=(5, 5), stride=(1, 1), groups=1152, bias=False\n",
              "        (static_padding): ZeroPad2d(padding=(2, 2, 2, 2), value=0.0)\n",
              "      )\n",
              "      (_bn1): BatchNorm2d(1152, eps=0.001, momentum=0.010000000000000009, affine=True, track_running_stats=True)\n",
              "      (_se_reduce): Conv2dStaticSamePadding(\n",
              "        1152, 48, kernel_size=(1, 1), stride=(1, 1)\n",
              "        (static_padding): Identity()\n",
              "      )\n",
              "      (_se_expand): Conv2dStaticSamePadding(\n",
              "        48, 1152, kernel_size=(1, 1), stride=(1, 1)\n",
              "        (static_padding): Identity()\n",
              "      )\n",
              "      (_project_conv): Conv2dStaticSamePadding(\n",
              "        1152, 192, kernel_size=(1, 1), stride=(1, 1), bias=False\n",
              "        (static_padding): Identity()\n",
              "      )\n",
              "      (_bn2): BatchNorm2d(192, eps=0.001, momentum=0.010000000000000009, affine=True, track_running_stats=True)\n",
              "      (_swish): MemoryEfficientSwish()\n",
              "    )\n",
              "    (15): MBConvBlock(\n",
              "      (_expand_conv): Conv2dStaticSamePadding(\n",
              "        192, 1152, kernel_size=(1, 1), stride=(1, 1), bias=False\n",
              "        (static_padding): Identity()\n",
              "      )\n",
              "      (_bn0): BatchNorm2d(1152, eps=0.001, momentum=0.010000000000000009, affine=True, track_running_stats=True)\n",
              "      (_depthwise_conv): Conv2dStaticSamePadding(\n",
              "        1152, 1152, kernel_size=(3, 3), stride=[1, 1], groups=1152, bias=False\n",
              "        (static_padding): ZeroPad2d(padding=(1, 1, 1, 1), value=0.0)\n",
              "      )\n",
              "      (_bn1): BatchNorm2d(1152, eps=0.001, momentum=0.010000000000000009, affine=True, track_running_stats=True)\n",
              "      (_se_reduce): Conv2dStaticSamePadding(\n",
              "        1152, 48, kernel_size=(1, 1), stride=(1, 1)\n",
              "        (static_padding): Identity()\n",
              "      )\n",
              "      (_se_expand): Conv2dStaticSamePadding(\n",
              "        48, 1152, kernel_size=(1, 1), stride=(1, 1)\n",
              "        (static_padding): Identity()\n",
              "      )\n",
              "      (_project_conv): Conv2dStaticSamePadding(\n",
              "        1152, 320, kernel_size=(1, 1), stride=(1, 1), bias=False\n",
              "        (static_padding): Identity()\n",
              "      )\n",
              "      (_bn2): BatchNorm2d(320, eps=0.001, momentum=0.010000000000000009, affine=True, track_running_stats=True)\n",
              "      (_swish): MemoryEfficientSwish()\n",
              "    )\n",
              "  )\n",
              "  (_conv_head): Conv2dStaticSamePadding(\n",
              "    320, 1280, kernel_size=(1, 1), stride=(1, 1), bias=False\n",
              "    (static_padding): Identity()\n",
              "  )\n",
              "  (_bn1): BatchNorm2d(1280, eps=0.001, momentum=0.010000000000000009, affine=True, track_running_stats=True)\n",
              "  (_avg_pooling): AdaptiveAvgPool2d(output_size=1)\n",
              "  (_dropout): Dropout(p=0.2, inplace=False)\n",
              "  (_fc): Linear(in_features=1280, out_features=1000, bias=True)\n",
              "  (_swish): MemoryEfficientSwish()\n",
              "), opt_func=functools.partial(<class 'torch.optim.adam.Adam'>, betas=(0.9, 0.99)), loss_func=FlattenedLoss of CrossEntropyLoss(), metrics=[<function accuracy at 0x7f27bd441440>, functools.partial(<function top_k_accuracy at 0x7f275610b830>, k=5)], true_wd=True, bn_wd=True, wd=0.01, train_bn=True, path=PosixPath('/root/.fastai/data/food-101/images'), model_dir='models', callback_fns=[functools.partial(<class 'fastai.basic_train.Recorder'>, add_time=True, silent=False)], callbacks=[MixedPrecision\n",
              "learn: ...\n",
              "loss_scale: 65536\n",
              "max_noskip: 1000\n",
              "dynamic: True\n",
              "clip: None\n",
              "flat_master: False\n",
              "max_scale: 16777216\n",
              "loss_fp32: True], layer_groups=[Sequential(\n",
              "  (0): ZeroPad2d(padding=(0, 1, 0, 1), value=0.0)\n",
              "  (1): ParameterModule()\n",
              "  (2): BatchNorm2d(32, eps=0.001, momentum=0.010000000000000009, affine=True, track_running_stats=True)\n",
              "  (3): ZeroPad2d(padding=(1, 1, 1, 1), value=0.0)\n",
              "  (4): ParameterModule()\n",
              "  (5): BatchNorm2d(32, eps=0.001, momentum=0.010000000000000009, affine=True, track_running_stats=True)\n",
              "  (6): Identity()\n",
              "  (7): ParameterModule()\n",
              "  (8): ParameterModule()\n",
              "  (9): Identity()\n",
              "  (10): ParameterModule()\n",
              "  (11): ParameterModule()\n",
              "  (12): Identity()\n",
              "  (13): ParameterModule()\n",
              "  (14): BatchNorm2d(16, eps=0.001, momentum=0.010000000000000009, affine=True, track_running_stats=True)\n",
              "  (15): MemoryEfficientSwish()\n",
              "  (16): Identity()\n",
              "  (17): ParameterModule()\n",
              "  (18): BatchNorm2d(96, eps=0.001, momentum=0.010000000000000009, affine=True, track_running_stats=True)\n",
              "  (19): ZeroPad2d(padding=(0, 1, 0, 1), value=0.0)\n",
              "  (20): ParameterModule()\n",
              "  (21): BatchNorm2d(96, eps=0.001, momentum=0.010000000000000009, affine=True, track_running_stats=True)\n",
              "  (22): Identity()\n",
              "  (23): ParameterModule()\n",
              "  (24): ParameterModule()\n",
              "  (25): Identity()\n",
              "  (26): ParameterModule()\n",
              "  (27): ParameterModule()\n",
              "  (28): Identity()\n",
              "  (29): ParameterModule()\n",
              "  (30): BatchNorm2d(24, eps=0.001, momentum=0.010000000000000009, affine=True, track_running_stats=True)\n",
              "  (31): MemoryEfficientSwish()\n",
              "  (32): Identity()\n",
              "  (33): ParameterModule()\n",
              "  (34): BatchNorm2d(144, eps=0.001, momentum=0.010000000000000009, affine=True, track_running_stats=True)\n",
              "  (35): ZeroPad2d(padding=(1, 1, 1, 1), value=0.0)\n",
              "  (36): ParameterModule()\n",
              "  (37): BatchNorm2d(144, eps=0.001, momentum=0.010000000000000009, affine=True, track_running_stats=True)\n",
              "  (38): Identity()\n",
              "  (39): ParameterModule()\n",
              "  (40): ParameterModule()\n",
              "  (41): Identity()\n",
              "  (42): ParameterModule()\n",
              "  (43): ParameterModule()\n",
              "  (44): Identity()\n",
              "  (45): ParameterModule()\n",
              "  (46): BatchNorm2d(24, eps=0.001, momentum=0.010000000000000009, affine=True, track_running_stats=True)\n",
              "  (47): MemoryEfficientSwish()\n",
              "  (48): Identity()\n",
              "  (49): ParameterModule()\n",
              "  (50): BatchNorm2d(144, eps=0.001, momentum=0.010000000000000009, affine=True, track_running_stats=True)\n",
              "  (51): ZeroPad2d(padding=(1, 2, 1, 2), value=0.0)\n",
              "  (52): ParameterModule()\n",
              "  (53): BatchNorm2d(144, eps=0.001, momentum=0.010000000000000009, affine=True, track_running_stats=True)\n",
              "  (54): Identity()\n",
              "  (55): ParameterModule()\n",
              "  (56): ParameterModule()\n",
              "  (57): Identity()\n",
              "  (58): ParameterModule()\n",
              "  (59): ParameterModule()\n",
              "  (60): Identity()\n",
              "  (61): ParameterModule()\n",
              "  (62): BatchNorm2d(40, eps=0.001, momentum=0.010000000000000009, affine=True, track_running_stats=True)\n",
              "  (63): MemoryEfficientSwish()\n",
              "  (64): Identity()\n",
              "  (65): ParameterModule()\n",
              "  (66): BatchNorm2d(240, eps=0.001, momentum=0.010000000000000009, affine=True, track_running_stats=True)\n",
              "  (67): ZeroPad2d(padding=(2, 2, 2, 2), value=0.0)\n",
              "  (68): ParameterModule()\n",
              "  (69): BatchNorm2d(240, eps=0.001, momentum=0.010000000000000009, affine=True, track_running_stats=True)\n",
              "  (70): Identity()\n",
              "  (71): ParameterModule()\n",
              "  (72): ParameterModule()\n",
              "  (73): Identity()\n",
              "  (74): ParameterModule()\n",
              "  (75): ParameterModule()\n",
              "  (76): Identity()\n",
              "  (77): ParameterModule()\n",
              "  (78): BatchNorm2d(40, eps=0.001, momentum=0.010000000000000009, affine=True, track_running_stats=True)\n",
              "  (79): MemoryEfficientSwish()\n",
              "  (80): Identity()\n",
              "  (81): ParameterModule()\n",
              "  (82): BatchNorm2d(240, eps=0.001, momentum=0.010000000000000009, affine=True, track_running_stats=True)\n",
              "  (83): ZeroPad2d(padding=(0, 1, 0, 1), value=0.0)\n",
              "  (84): ParameterModule()\n",
              "  (85): BatchNorm2d(240, eps=0.001, momentum=0.010000000000000009, affine=True, track_running_stats=True)\n",
              "  (86): Identity()\n",
              "  (87): ParameterModule()\n",
              "  (88): ParameterModule()\n",
              "  (89): Identity()\n",
              "  (90): ParameterModule()\n",
              "  (91): ParameterModule()\n",
              "  (92): Identity()\n",
              "  (93): ParameterModule()\n",
              "  (94): BatchNorm2d(80, eps=0.001, momentum=0.010000000000000009, affine=True, track_running_stats=True)\n",
              "  (95): MemoryEfficientSwish()\n",
              "  (96): Identity()\n",
              "  (97): ParameterModule()\n",
              "  (98): BatchNorm2d(480, eps=0.001, momentum=0.010000000000000009, affine=True, track_running_stats=True)\n",
              "  (99): ZeroPad2d(padding=(1, 1, 1, 1), value=0.0)\n",
              "  (100): ParameterModule()\n",
              "  (101): BatchNorm2d(480, eps=0.001, momentum=0.010000000000000009, affine=True, track_running_stats=True)\n",
              "  (102): Identity()\n",
              "  (103): ParameterModule()\n",
              "  (104): ParameterModule()\n",
              "  (105): Identity()\n",
              "  (106): ParameterModule()\n",
              "  (107): ParameterModule()\n",
              "  (108): Identity()\n",
              "  (109): ParameterModule()\n",
              "  (110): BatchNorm2d(80, eps=0.001, momentum=0.010000000000000009, affine=True, track_running_stats=True)\n",
              "  (111): MemoryEfficientSwish()\n",
              "  (112): Identity()\n",
              "  (113): ParameterModule()\n",
              "  (114): BatchNorm2d(480, eps=0.001, momentum=0.010000000000000009, affine=True, track_running_stats=True)\n",
              "  (115): ZeroPad2d(padding=(1, 1, 1, 1), value=0.0)\n",
              "  (116): ParameterModule()\n",
              "  (117): BatchNorm2d(480, eps=0.001, momentum=0.010000000000000009, affine=True, track_running_stats=True)\n",
              "  (118): Identity()\n",
              "  (119): ParameterModule()\n",
              "  (120): ParameterModule()\n",
              "  (121): Identity()\n",
              "  (122): ParameterModule()\n",
              "  (123): ParameterModule()\n",
              "  (124): Identity()\n",
              "  (125): ParameterModule()\n",
              "  (126): BatchNorm2d(80, eps=0.001, momentum=0.010000000000000009, affine=True, track_running_stats=True)\n",
              "  (127): MemoryEfficientSwish()\n",
              "  (128): Identity()\n",
              "  (129): ParameterModule()\n",
              "  (130): BatchNorm2d(480, eps=0.001, momentum=0.010000000000000009, affine=True, track_running_stats=True)\n",
              "  (131): ZeroPad2d(padding=(2, 2, 2, 2), value=0.0)\n",
              "  (132): ParameterModule()\n",
              "  (133): BatchNorm2d(480, eps=0.001, momentum=0.010000000000000009, affine=True, track_running_stats=True)\n",
              "  (134): Identity()\n",
              "  (135): ParameterModule()\n",
              "  (136): ParameterModule()\n",
              "  (137): Identity()\n",
              "  (138): ParameterModule()\n",
              "  (139): ParameterModule()\n",
              "  (140): Identity()\n",
              "  (141): ParameterModule()\n",
              "  (142): BatchNorm2d(112, eps=0.001, momentum=0.010000000000000009, affine=True, track_running_stats=True)\n",
              "  (143): MemoryEfficientSwish()\n",
              "  (144): Identity()\n",
              "  (145): ParameterModule()\n",
              "  (146): BatchNorm2d(672, eps=0.001, momentum=0.010000000000000009, affine=True, track_running_stats=True)\n",
              "  (147): ZeroPad2d(padding=(2, 2, 2, 2), value=0.0)\n",
              "  (148): ParameterModule()\n",
              "  (149): BatchNorm2d(672, eps=0.001, momentum=0.010000000000000009, affine=True, track_running_stats=True)\n",
              "  (150): Identity()\n",
              "  (151): ParameterModule()\n",
              "  (152): ParameterModule()\n",
              "  (153): Identity()\n",
              "  (154): ParameterModule()\n",
              "  (155): ParameterModule()\n",
              "  (156): Identity()\n",
              "  (157): ParameterModule()\n",
              "  (158): BatchNorm2d(112, eps=0.001, momentum=0.010000000000000009, affine=True, track_running_stats=True)\n",
              "  (159): MemoryEfficientSwish()\n",
              "  (160): Identity()\n",
              "  (161): ParameterModule()\n",
              "  (162): BatchNorm2d(672, eps=0.001, momentum=0.010000000000000009, affine=True, track_running_stats=True)\n",
              "  (163): ZeroPad2d(padding=(2, 2, 2, 2), value=0.0)\n",
              "  (164): ParameterModule()\n",
              "  (165): BatchNorm2d(672, eps=0.001, momentum=0.010000000000000009, affine=True, track_running_stats=True)\n",
              "  (166): Identity()\n",
              "  (167): ParameterModule()\n",
              "  (168): ParameterModule()\n",
              "  (169): Identity()\n",
              "  (170): ParameterModule()\n",
              "  (171): ParameterModule()\n",
              "  (172): Identity()\n",
              "  (173): ParameterModule()\n",
              "  (174): BatchNorm2d(112, eps=0.001, momentum=0.010000000000000009, affine=True, track_running_stats=True)\n",
              "  (175): MemoryEfficientSwish()\n",
              "  (176): Identity()\n",
              "  (177): ParameterModule()\n",
              "  (178): BatchNorm2d(672, eps=0.001, momentum=0.010000000000000009, affine=True, track_running_stats=True)\n",
              "  (179): ZeroPad2d(padding=(1, 2, 1, 2), value=0.0)\n",
              "  (180): ParameterModule()\n",
              "  (181): BatchNorm2d(672, eps=0.001, momentum=0.010000000000000009, affine=True, track_running_stats=True)\n",
              "  (182): Identity()\n",
              "  (183): ParameterModule()\n",
              "  (184): ParameterModule()\n",
              "  (185): Identity()\n",
              "  (186): ParameterModule()\n",
              "  (187): ParameterModule()\n",
              "  (188): Identity()\n",
              "  (189): ParameterModule()\n",
              "  (190): BatchNorm2d(192, eps=0.001, momentum=0.010000000000000009, affine=True, track_running_stats=True)\n",
              "  (191): MemoryEfficientSwish()\n",
              "  (192): Identity()\n",
              "  (193): ParameterModule()\n",
              "  (194): BatchNorm2d(1152, eps=0.001, momentum=0.010000000000000009, affine=True, track_running_stats=True)\n",
              "  (195): ZeroPad2d(padding=(2, 2, 2, 2), value=0.0)\n",
              "  (196): ParameterModule()\n",
              "  (197): BatchNorm2d(1152, eps=0.001, momentum=0.010000000000000009, affine=True, track_running_stats=True)\n",
              "  (198): Identity()\n",
              "  (199): ParameterModule()\n",
              "  (200): ParameterModule()\n",
              "  (201): Identity()\n",
              "  (202): ParameterModule()\n",
              "  (203): ParameterModule()\n",
              "  (204): Identity()\n",
              "  (205): ParameterModule()\n",
              "  (206): BatchNorm2d(192, eps=0.001, momentum=0.010000000000000009, affine=True, track_running_stats=True)\n",
              "  (207): MemoryEfficientSwish()\n",
              "  (208): Identity()\n",
              "  (209): ParameterModule()\n",
              "  (210): BatchNorm2d(1152, eps=0.001, momentum=0.010000000000000009, affine=True, track_running_stats=True)\n",
              "  (211): ZeroPad2d(padding=(2, 2, 2, 2), value=0.0)\n",
              "  (212): ParameterModule()\n",
              "  (213): BatchNorm2d(1152, eps=0.001, momentum=0.010000000000000009, affine=True, track_running_stats=True)\n",
              "  (214): Identity()\n",
              "  (215): ParameterModule()\n",
              "  (216): ParameterModule()\n",
              "  (217): Identity()\n",
              "  (218): ParameterModule()\n",
              "  (219): ParameterModule()\n",
              "  (220): Identity()\n",
              "  (221): ParameterModule()\n",
              "  (222): BatchNorm2d(192, eps=0.001, momentum=0.010000000000000009, affine=True, track_running_stats=True)\n",
              "  (223): MemoryEfficientSwish()\n",
              "  (224): Identity()\n",
              "  (225): ParameterModule()\n",
              "  (226): BatchNorm2d(1152, eps=0.001, momentum=0.010000000000000009, affine=True, track_running_stats=True)\n",
              "  (227): ZeroPad2d(padding=(2, 2, 2, 2), value=0.0)\n",
              "  (228): ParameterModule()\n",
              "  (229): BatchNorm2d(1152, eps=0.001, momentum=0.010000000000000009, affine=True, track_running_stats=True)\n",
              "  (230): Identity()\n",
              "  (231): ParameterModule()\n",
              "  (232): ParameterModule()\n",
              "  (233): Identity()\n",
              "  (234): ParameterModule()\n",
              "  (235): ParameterModule()\n",
              "  (236): Identity()\n",
              "  (237): ParameterModule()\n",
              "  (238): BatchNorm2d(192, eps=0.001, momentum=0.010000000000000009, affine=True, track_running_stats=True)\n",
              "  (239): MemoryEfficientSwish()\n",
              "  (240): Identity()\n",
              "  (241): ParameterModule()\n",
              "  (242): BatchNorm2d(1152, eps=0.001, momentum=0.010000000000000009, affine=True, track_running_stats=True)\n",
              "  (243): ZeroPad2d(padding=(1, 1, 1, 1), value=0.0)\n",
              "  (244): ParameterModule()\n",
              "  (245): BatchNorm2d(1152, eps=0.001, momentum=0.010000000000000009, affine=True, track_running_stats=True)\n",
              "  (246): Identity()\n",
              "  (247): ParameterModule()\n",
              "  (248): ParameterModule()\n",
              "  (249): Identity()\n",
              "  (250): ParameterModule()\n",
              "  (251): ParameterModule()\n",
              "  (252): Identity()\n",
              "  (253): ParameterModule()\n",
              "  (254): BatchNorm2d(320, eps=0.001, momentum=0.010000000000000009, affine=True, track_running_stats=True)\n",
              "  (255): MemoryEfficientSwish()\n",
              "  (256): Identity()\n",
              "  (257): ParameterModule()\n",
              "  (258): BatchNorm2d(1280, eps=0.001, momentum=0.010000000000000009, affine=True, track_running_stats=True)\n",
              "  (259): AdaptiveAvgPool2d(output_size=1)\n",
              "  (260): Dropout(p=0.2, inplace=False)\n",
              "  (261): Linear(in_features=1280, out_features=1000, bias=True)\n",
              "  (262): MemoryEfficientSwish()\n",
              ")], add_time=True, silent=False)"
            ]
          },
          "metadata": {
            "tags": []
          },
          "execution_count": 79
        }
      ]
    },
    {
      "cell_type": "code",
      "metadata": {
        "id": "Fvems4hxfnwi",
        "colab": {
          "base_uri": "https://localhost:8080/",
          "height": 17
        },
        "outputId": "39f86218-f9ca-4569-b531-80e9d245d15d"
      },
      "source": [
        "preds, y = learn.get_preds(test_data)"
      ],
      "execution_count": null,
      "outputs": [
        {
          "output_type": "display_data",
          "data": {
            "text/html": [
              ""
            ],
            "text/plain": [
              "<IPython.core.display.HTML object>"
            ]
          },
          "metadata": {
            "tags": []
          }
        }
      ]
    },
    {
      "cell_type": "code",
      "metadata": {
        "id": "3KaUGY0ffn6T",
        "colab": {
          "base_uri": "https://localhost:8080/"
        },
        "outputId": "4319aa4a-3af9-48c4-bf69-9087143f6358"
      },
      "source": [
        "test_df.label.unique"
      ],
      "execution_count": null,
      "outputs": [
        {
          "output_type": "execute_result",
          "data": {
            "text/plain": [
              "<bound method Series.unique of 0        apple_pie\n",
              "1        apple_pie\n",
              "2        apple_pie\n",
              "3        apple_pie\n",
              "4        apple_pie\n",
              "           ...    \n",
              "25245      waffles\n",
              "25246      waffles\n",
              "25247      waffles\n",
              "25248      waffles\n",
              "25249      waffles\n",
              "Name: label, Length: 25250, dtype: object>"
            ]
          },
          "metadata": {
            "tags": []
          },
          "execution_count": 52
        }
      ]
    },
    {
      "cell_type": "code",
      "metadata": {
        "id": "y1M73ucI7OHh"
      },
      "source": [
        "import pandas as pd"
      ],
      "execution_count": null,
      "outputs": []
    },
    {
      "cell_type": "code",
      "metadata": {
        "colab": {
          "base_uri": "https://localhost:8080/"
        },
        "id": "7VFIsNLk7TfD",
        "outputId": "2837b8f9-042d-4301-ae0a-a02a038d2d17"
      },
      "source": [
        "test_df.label.value_counts()"
      ],
      "execution_count": null,
      "outputs": [
        {
          "output_type": "execute_result",
          "data": {
            "text/plain": [
              "beef_carpaccio          250\n",
              "sushi                   250\n",
              "caesar_salad            250\n",
              "french_toast            250\n",
              "peking_duck             250\n",
              "                       ... \n",
              "chicken_quesadilla      250\n",
              "clam_chowder            250\n",
              "strawberry_shortcake    250\n",
              "greek_salad             250\n",
              "grilled_salmon          250\n",
              "Name: label, Length: 101, dtype: int64"
            ]
          },
          "metadata": {
            "tags": []
          },
          "execution_count": 57
        }
      ]
    },
    {
      "cell_type": "code",
      "metadata": {
        "id": "3vYEcLk47jeJ"
      },
      "source": [
        "def show_images(images, nmax=64):\n",
        "    fig, ax = plt.subplots(figsize=(8, 8))\n",
        "    ax.set_xticks([]); ax.set_yticks([])\n",
        "    ax.imshow(make_grid((images.detach()[:nmax]), nrow=8).permute(1, 2, 0))\n",
        "def show_batch(dl, nmax=64):\n",
        "    for images in dl:\n",
        "        show_images(images, nmax)\n",
        "        break"
      ],
      "execution_count": null,
      "outputs": []
    },
    {
      "cell_type": "code",
      "metadata": {
        "colab": {
          "base_uri": "https://localhost:8080/"
        },
        "id": "7lVTMJub9t1g",
        "outputId": "91699916-56fa-468c-925a-161ed7223729"
      },
      "source": [
        "from google.colab import drive\n",
        "drive.mount('/content/drive')"
      ],
      "execution_count": null,
      "outputs": [
        {
          "output_type": "stream",
          "text": [
            "Drive already mounted at /content/drive; to attempt to forcibly remount, call drive.mount(\"/content/drive\", force_remount=True).\n"
          ],
          "name": "stdout"
        }
      ]
    }
  ]
}