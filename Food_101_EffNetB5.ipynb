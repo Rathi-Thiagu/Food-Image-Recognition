{
  "nbformat": 4,
  "nbformat_minor": 0,
  "metadata": {
    "colab": {
      "name": "Food_101_EffNetB5.ipynb",
      "provenance": [],
      "collapsed_sections": [],
      "machine_shape": "hm"
    },
    "kernelspec": {
      "name": "python3",
      "display_name": "Python 3"
    },
    "language_info": {
      "name": "python"
    },
    "accelerator": "GPU",
    "widgets": {
      "application/vnd.jupyter.widget-state+json": {
        "4bf80a4e89114a05be3dccfec853d285": {
          "model_module": "@jupyter-widgets/controls",
          "model_name": "HBoxModel",
          "state": {
            "_view_name": "HBoxView",
            "_dom_classes": [],
            "_model_name": "HBoxModel",
            "_view_module": "@jupyter-widgets/controls",
            "_model_module_version": "1.5.0",
            "_view_count": null,
            "_view_module_version": "1.5.0",
            "box_style": "",
            "layout": "IPY_MODEL_d95ee315c911475693d4606154fc4417",
            "_model_module": "@jupyter-widgets/controls",
            "children": [
              "IPY_MODEL_a03bb34b492a4c66b73644040f667d49",
              "IPY_MODEL_92bb22c0e87a4ab1984927fc22b6afb2"
            ]
          }
        },
        "d95ee315c911475693d4606154fc4417": {
          "model_module": "@jupyter-widgets/base",
          "model_name": "LayoutModel",
          "state": {
            "_view_name": "LayoutView",
            "grid_template_rows": null,
            "right": null,
            "justify_content": null,
            "_view_module": "@jupyter-widgets/base",
            "overflow": null,
            "_model_module_version": "1.2.0",
            "_view_count": null,
            "flex_flow": null,
            "width": null,
            "min_width": null,
            "border": null,
            "align_items": null,
            "bottom": null,
            "_model_module": "@jupyter-widgets/base",
            "top": null,
            "grid_column": null,
            "overflow_y": null,
            "overflow_x": null,
            "grid_auto_flow": null,
            "grid_area": null,
            "grid_template_columns": null,
            "flex": null,
            "_model_name": "LayoutModel",
            "justify_items": null,
            "grid_row": null,
            "max_height": null,
            "align_content": null,
            "visibility": null,
            "align_self": null,
            "height": null,
            "min_height": null,
            "padding": null,
            "grid_auto_rows": null,
            "grid_gap": null,
            "max_width": null,
            "order": null,
            "_view_module_version": "1.2.0",
            "grid_template_areas": null,
            "object_position": null,
            "object_fit": null,
            "grid_auto_columns": null,
            "margin": null,
            "display": null,
            "left": null
          }
        },
        "a03bb34b492a4c66b73644040f667d49": {
          "model_module": "@jupyter-widgets/controls",
          "model_name": "FloatProgressModel",
          "state": {
            "_view_name": "ProgressView",
            "style": "IPY_MODEL_630b091d70f04752a3cbeece88d97640",
            "_dom_classes": [],
            "description": "100%",
            "_model_name": "FloatProgressModel",
            "bar_style": "success",
            "max": 122410125,
            "_view_module": "@jupyter-widgets/controls",
            "_model_module_version": "1.5.0",
            "value": 122410125,
            "_view_count": null,
            "_view_module_version": "1.5.0",
            "orientation": "horizontal",
            "min": 0,
            "description_tooltip": null,
            "_model_module": "@jupyter-widgets/controls",
            "layout": "IPY_MODEL_14a19214fd51420ea106509bb8a274d2"
          }
        },
        "92bb22c0e87a4ab1984927fc22b6afb2": {
          "model_module": "@jupyter-widgets/controls",
          "model_name": "HTMLModel",
          "state": {
            "_view_name": "HTMLView",
            "style": "IPY_MODEL_0f60f11cb84149a39762695725299f54",
            "_dom_classes": [],
            "description": "",
            "_model_name": "HTMLModel",
            "placeholder": "​",
            "_view_module": "@jupyter-widgets/controls",
            "_model_module_version": "1.5.0",
            "value": " 117M/117M [00:01&lt;00:00, 77.8MB/s]",
            "_view_count": null,
            "_view_module_version": "1.5.0",
            "description_tooltip": null,
            "_model_module": "@jupyter-widgets/controls",
            "layout": "IPY_MODEL_e9112645dcca4de1ba72eba3476d1486"
          }
        },
        "630b091d70f04752a3cbeece88d97640": {
          "model_module": "@jupyter-widgets/controls",
          "model_name": "ProgressStyleModel",
          "state": {
            "_view_name": "StyleView",
            "_model_name": "ProgressStyleModel",
            "description_width": "initial",
            "_view_module": "@jupyter-widgets/base",
            "_model_module_version": "1.5.0",
            "_view_count": null,
            "_view_module_version": "1.2.0",
            "bar_color": null,
            "_model_module": "@jupyter-widgets/controls"
          }
        },
        "14a19214fd51420ea106509bb8a274d2": {
          "model_module": "@jupyter-widgets/base",
          "model_name": "LayoutModel",
          "state": {
            "_view_name": "LayoutView",
            "grid_template_rows": null,
            "right": null,
            "justify_content": null,
            "_view_module": "@jupyter-widgets/base",
            "overflow": null,
            "_model_module_version": "1.2.0",
            "_view_count": null,
            "flex_flow": null,
            "width": null,
            "min_width": null,
            "border": null,
            "align_items": null,
            "bottom": null,
            "_model_module": "@jupyter-widgets/base",
            "top": null,
            "grid_column": null,
            "overflow_y": null,
            "overflow_x": null,
            "grid_auto_flow": null,
            "grid_area": null,
            "grid_template_columns": null,
            "flex": null,
            "_model_name": "LayoutModel",
            "justify_items": null,
            "grid_row": null,
            "max_height": null,
            "align_content": null,
            "visibility": null,
            "align_self": null,
            "height": null,
            "min_height": null,
            "padding": null,
            "grid_auto_rows": null,
            "grid_gap": null,
            "max_width": null,
            "order": null,
            "_view_module_version": "1.2.0",
            "grid_template_areas": null,
            "object_position": null,
            "object_fit": null,
            "grid_auto_columns": null,
            "margin": null,
            "display": null,
            "left": null
          }
        },
        "0f60f11cb84149a39762695725299f54": {
          "model_module": "@jupyter-widgets/controls",
          "model_name": "DescriptionStyleModel",
          "state": {
            "_view_name": "StyleView",
            "_model_name": "DescriptionStyleModel",
            "description_width": "",
            "_view_module": "@jupyter-widgets/base",
            "_model_module_version": "1.5.0",
            "_view_count": null,
            "_view_module_version": "1.2.0",
            "_model_module": "@jupyter-widgets/controls"
          }
        },
        "e9112645dcca4de1ba72eba3476d1486": {
          "model_module": "@jupyter-widgets/base",
          "model_name": "LayoutModel",
          "state": {
            "_view_name": "LayoutView",
            "grid_template_rows": null,
            "right": null,
            "justify_content": null,
            "_view_module": "@jupyter-widgets/base",
            "overflow": null,
            "_model_module_version": "1.2.0",
            "_view_count": null,
            "flex_flow": null,
            "width": null,
            "min_width": null,
            "border": null,
            "align_items": null,
            "bottom": null,
            "_model_module": "@jupyter-widgets/base",
            "top": null,
            "grid_column": null,
            "overflow_y": null,
            "overflow_x": null,
            "grid_auto_flow": null,
            "grid_area": null,
            "grid_template_columns": null,
            "flex": null,
            "_model_name": "LayoutModel",
            "justify_items": null,
            "grid_row": null,
            "max_height": null,
            "align_content": null,
            "visibility": null,
            "align_self": null,
            "height": null,
            "min_height": null,
            "padding": null,
            "grid_auto_rows": null,
            "grid_gap": null,
            "max_width": null,
            "order": null,
            "_view_module_version": "1.2.0",
            "grid_template_areas": null,
            "object_position": null,
            "object_fit": null,
            "grid_auto_columns": null,
            "margin": null,
            "display": null,
            "left": null
          }
        }
      }
    }
  },
  "cells": [
    {
      "cell_type": "markdown",
      "metadata": {
        "id": "ppPjl1BFzeUr"
      },
      "source": [
        "**EfficientNetB5 Training and Evaluation**"
      ]
    },
    {
      "cell_type": "markdown",
      "metadata": {
        "id": "GgJlPSO1ChaK"
      },
      "source": [
        "    No of Epochs : 3    [Used lr_find() to find the best learning rate and Data Augmentation on training dataset]\n",
        "\n",
        "    Top K Accuracy : 0.960528  \n",
        "    Validation Accuracy : 0.853201 "
      ]
    },
    {
      "cell_type": "code",
      "metadata": {
        "colab": {
          "base_uri": "https://localhost:8080/"
        },
        "id": "sP7_3bPl32rL",
        "outputId": "57b4adc9-c874-48a9-b6cb-b12ac2129584"
      },
      "source": [
        "# cheking the number of cored this system has.\n",
        "!cat /proc/cpuinfo | grep \"cpu cores\" | uniq\n",
        "\n",
        "# GPU info\n",
        "!nvidia-smi\n",
        "\n",
        "# Amount of system RAM available to be used.\n",
        "from psutil import virtual_memory\n",
        "ram_gb = virtual_memory().total / (1024 * 1024 * 1024)   \n",
        "print('Your runtime has {:.1f} gigabyte of availabe\\n'.format(ram_gb))\n",
        "\n",
        "#finding the recursion limit to avoid Augmentation recursion error \n",
        "import sys\n",
        "print(sys.getrecursionlimit())\n",
        "\n",
        "#installing fastai\n",
        "!pip install torch===1.4.0 torchvision===0.5.0 -f https://download.pytorch.org/whl/torch_stable.html"
      ],
      "execution_count": null,
      "outputs": [
        {
          "output_type": "stream",
          "text": [
            "cpu cores\t: 2\n",
            "Thu May 13 04:22:39 2021       \n",
            "+-----------------------------------------------------------------------------+\n",
            "| NVIDIA-SMI 465.19.01    Driver Version: 460.32.03    CUDA Version: 11.2     |\n",
            "|-------------------------------+----------------------+----------------------+\n",
            "| GPU  Name        Persistence-M| Bus-Id        Disp.A | Volatile Uncorr. ECC |\n",
            "| Fan  Temp  Perf  Pwr:Usage/Cap|         Memory-Usage | GPU-Util  Compute M. |\n",
            "|                               |                      |               MIG M. |\n",
            "|===============================+======================+======================|\n",
            "|   0  Tesla P100-PCIE...  Off  | 00000000:00:04.0 Off |                    0 |\n",
            "| N/A   39C    P0    27W / 250W |      0MiB / 16280MiB |      0%      Default |\n",
            "|                               |                      |                  N/A |\n",
            "+-------------------------------+----------------------+----------------------+\n",
            "                                                                               \n",
            "+-----------------------------------------------------------------------------+\n",
            "| Processes:                                                                  |\n",
            "|  GPU   GI   CI        PID   Type   Process name                  GPU Memory |\n",
            "|        ID   ID                                                   Usage      |\n",
            "|=============================================================================|\n",
            "|  No running processes found                                                 |\n",
            "+-----------------------------------------------------------------------------+\n",
            "Your runtime has 25.5 gigabyte of availabe\n",
            "\n",
            "1000\n",
            "Looking in links: https://download.pytorch.org/whl/torch_stable.html\n",
            "Collecting torch===1.4.0\n",
            "\u001b[?25l  Downloading https://files.pythonhosted.org/packages/1a/3b/fa92ece1e58a6a48ec598bab327f39d69808133e5b2fb33002ca754e381e/torch-1.4.0-cp37-cp37m-manylinux1_x86_64.whl (753.4MB)\n",
            "\u001b[K     |████████████████████████████████| 753.4MB 22kB/s \n",
            "\u001b[?25hCollecting torchvision===0.5.0\n",
            "\u001b[?25l  Downloading https://files.pythonhosted.org/packages/1c/32/cb0e4c43cd717da50258887b088471568990b5a749784c465a8a1962e021/torchvision-0.5.0-cp37-cp37m-manylinux1_x86_64.whl (4.0MB)\n",
            "\u001b[K     |████████████████████████████████| 4.0MB 41.7MB/s \n",
            "\u001b[?25hRequirement already satisfied: six in /usr/local/lib/python3.7/dist-packages (from torchvision===0.5.0) (1.15.0)\n",
            "Requirement already satisfied: numpy in /usr/local/lib/python3.7/dist-packages (from torchvision===0.5.0) (1.19.5)\n",
            "Requirement already satisfied: pillow>=4.1.1 in /usr/local/lib/python3.7/dist-packages (from torchvision===0.5.0) (7.1.2)\n",
            "\u001b[31mERROR: torchtext 0.9.1 has requirement torch==1.8.1, but you'll have torch 1.4.0 which is incompatible.\u001b[0m\n",
            "Installing collected packages: torch, torchvision\n",
            "  Found existing installation: torch 1.8.1+cu101\n",
            "    Uninstalling torch-1.8.1+cu101:\n",
            "      Successfully uninstalled torch-1.8.1+cu101\n",
            "  Found existing installation: torchvision 0.9.1+cu101\n",
            "    Uninstalling torchvision-0.9.1+cu101:\n",
            "      Successfully uninstalled torchvision-0.9.1+cu101\n",
            "Successfully installed torch-1.4.0 torchvision-0.5.0\n"
          ],
          "name": "stdout"
        }
      ]
    },
    {
      "cell_type": "code",
      "metadata": {
        "colab": {
          "base_uri": "https://localhost:8080/"
        },
        "id": "9kcKaJn232o9",
        "outputId": "77e8d495-762f-470f-d0ff-139576613214"
      },
      "source": [
        "#importing libraries and initializing fastai \n",
        "import pandas as pd \n",
        "import numpy as np \n",
        "import time\n",
        "\n",
        "#Mounting google drive for saving the models after training \n",
        "from google.colab import drive\n",
        "drive.mount('/content/drive')\n",
        "\n",
        "from fastai.vision import *\n",
        "from fastai.metrics import error_rate"
      ],
      "execution_count": null,
      "outputs": [
        {
          "output_type": "stream",
          "text": [
            "Mounted at /content/drive\n",
            "1000\n"
          ],
          "name": "stdout"
        }
      ]
    },
    {
      "cell_type": "code",
      "metadata": {
        "colab": {
          "base_uri": "https://localhost:8080/"
        },
        "id": "xbquy6fq-c27",
        "outputId": "f35a082a-5900-4330-db42-7fb18ff763a5"
      },
      "source": [
        "#Installing the pytorch Implementation of EfficientNet \n",
        "!pip install --upgrade efficientnet-pytorch\n",
        "\n",
        "from efficientnet_pytorch import EfficientNet"
      ],
      "execution_count": null,
      "outputs": [
        {
          "output_type": "stream",
          "text": [
            "Collecting efficientnet-pytorch\n",
            "  Downloading https://files.pythonhosted.org/packages/2e/a0/dd40b50aebf0028054b6b35062948da01123d7be38d08b6b1e5435df6363/efficientnet_pytorch-0.7.1.tar.gz\n",
            "Requirement already satisfied, skipping upgrade: torch in /usr/local/lib/python3.7/dist-packages (from efficientnet-pytorch) (1.4.0)\n",
            "Building wheels for collected packages: efficientnet-pytorch\n",
            "  Building wheel for efficientnet-pytorch (setup.py) ... \u001b[?25l\u001b[?25hdone\n",
            "  Created wheel for efficientnet-pytorch: filename=efficientnet_pytorch-0.7.1-cp37-none-any.whl size=16443 sha256=fb4abf01757d95541303aa0e570596ff7d461aa45bc2d9c4b8cc2af0553a2d82\n",
            "  Stored in directory: /root/.cache/pip/wheels/84/27/aa/c46d23c4e8cc72d41283862b1437e0b3ad318417e8ed7d5921\n",
            "Successfully built efficientnet-pytorch\n",
            "Installing collected packages: efficientnet-pytorch\n",
            "Successfully installed efficientnet-pytorch-0.7.1\n"
          ],
          "name": "stdout"
        }
      ]
    },
    {
      "cell_type": "code",
      "metadata": {
        "colab": {
          "base_uri": "https://localhost:8080/",
          "height": 34
        },
        "id": "xSb0hTDM327t",
        "outputId": "5a8a6430-123a-4b70-8b11-255b160ed0e6"
      },
      "source": [
        "#Data Download \n",
        "path = untar_data(URLs.FOOD)\n",
        "\n",
        "train_path = '/root/.fastai/data/food-101/train.txt'\n",
        "test_path = '/root/.fastai/data/food-101/test.txt'\n",
        "\n",
        "def filelist2df(path):\n",
        "    df = pd.read_csv(path, delimiter='/', header=None, names=['label', 'name'])\n",
        "    df['name'] =  df['label'].astype(str) + \"/\" + df['name'].astype(str) + \".jpg\"\n",
        "    return df\n",
        "\n",
        "train_df = filelist2df(train_path) #Training dataset from Train.txt\n",
        "test_df = filelist2df(test_path)   #Test dataset from Test.txt\n",
        "\n",
        "#DataAugmentation on the Training set \n",
        "ds_tfms = ([RandTransform(tfm=TfmCrop (crop_pad), kwargs={'row_pct': (0, 1), 'col_pct': (0, 1), 'padding_mode': 'reflection'}, p=1.0, resolved={}, do_run=True, is_random=True), \n",
        "            RandTransform(tfm=TfmCoord (symmetric_warp), kwargs={'magnitude': (-0.2, 0.2)}, p=0.75, resolved={}, do_run=True, is_random=True), \n",
        "            RandTransform(tfm=TfmAffine (rotate), kwargs={'degrees': (-40, 40)}, p=0.75, resolved={}, do_run=True, is_random=True), \n",
        "            RandTransform(tfm=TfmAffine (flip_affine), kwargs={}, p=0.5, resolved={}, do_run=True, is_random=True), \n",
        "            RandTransform(tfm=TfmAffine (zoom), kwargs={'scale': (1.0, 1.4), 'row_pct': (0, 1), 'col_pct': (0, 1)}, p=0.75, resolved={}, do_run=True, is_random=True), \n",
        "            RandTransform(tfm=TfmLighting (brightness), kwargs={'change': (0.35, 0.65)}, p=0.75, resolved={}, do_run=True, is_random=True), \n",
        "            RandTransform(tfm=TfmLighting (contrast), kwargs={'scale': (0.7, 1.43)}, p=0.75, resolved={}, do_run=True, is_random=True),\n",
        "            RandTransform(tfm=TfmCoord (jitter), kwargs={'magnitude': (-0.01, 0.01)}, p=0.3, resolved={}, do_run=True, is_random=True),\n",
        "            RandTransform(tfm=TfmCoord (skew), kwargs={'direction': (0, 7), 'magnitude': (0.2)}, p=0.75, resolved={}, do_run=True, is_random=True),\n",
        "            RandTransform(tfm=TfmAffine (squish), kwargs={'scale': (0.42, 2.4), 'row_pct': (0, 1), 'col_pct': (0, 1)}, p=0.75, resolved={}, do_run=True, is_random=True)], \n",
        "           [RandTransform(tfm=TfmCrop (crop_pad), kwargs={}, p=1.0, resolved={}, do_run=True, is_random=True)])"
      ],
      "execution_count": null,
      "outputs": [
        {
          "output_type": "stream",
          "text": [
            "Downloading https://s3.amazonaws.com/fast-ai-imageclas/food-101.tgz\n"
          ],
          "name": "stdout"
        },
        {
          "output_type": "display_data",
          "data": {
            "text/html": [
              ""
            ],
            "text/plain": [
              "<IPython.core.display.HTML object>"
            ]
          },
          "metadata": {
            "tags": []
          }
        }
      ]
    },
    {
      "cell_type": "code",
      "metadata": {
        "id": "3qKTqX4I32-C"
      },
      "source": [
        "#Fixing the seeding to fix the randomness in splitting the validation dataset \n",
        "def seed_everything(seed):\n",
        "    random.seed(seed)\n",
        "    os.environ['PYTHONHASHSEED'] = str(seed)\n",
        "    np.random.seed(seed)\n",
        "    torch.manual_seed(seed)\n",
        "    torch.cuda.manual_seed(seed)\n",
        "    torch.backends.cudnn.deterministic = True\n",
        "    \n",
        "seed_everything(40)"
      ],
      "execution_count": null,
      "outputs": []
    },
    {
      "cell_type": "code",
      "metadata": {
        "id": "AkFvW6sP33Al"
      },
      "source": [
        "#Performance Evaluation \n",
        "def evaluate_performance(y_true, y_predict):\n",
        "  \"\"\"\n",
        "    y_true    : True labels of the Images in test dataset \n",
        "    y_predict : Predicted labels of the images in test dataset \n",
        "\n",
        "    prints the Confusion Matrix , No.Of Misclassifications, Recall and Food class with maximum and minimum accuracy \n",
        "\n",
        "    Used for performance evaluation of any true and predicted labels\n",
        "  \"\"\"\n",
        "  #For classification report \n",
        "  import sklearn.metrics as metrics\n",
        "  print(f\"{metrics.classification_report(y_true.items, y_predict)}\\n\")\n",
        "\n",
        "  import matplotlib.pyplot as plt\n",
        "  from sklearn.metrics import confusion_matrix\n",
        "\n",
        "  #Confusion Matrix \n",
        "  cm1 = confusion_matrix(y_true.items,y_predict)\n",
        "  print(cm1)\n",
        "\n",
        "  print(\"No.of validation set samples predicted correctly \",sum(cm1.diagonal()))\n",
        "  print(\"No.of misclassified samples \", len(y_predict)-sum(cm1.diagonal()))\n",
        "\n",
        "  #Calculating the True Occurences\n",
        "  true_occ= []\n",
        "  for i in range(len(cm1)):\n",
        "    true_occ.append(sum(cm1[:,i]))\n",
        "\n",
        "  #Calculating the recall for all the categories\n",
        "  dia = cm1.diagonal()\n",
        "  prediction_prob=[]\n",
        "  for i in range(len(cm1)):\n",
        "    tmp_prob = dia[i]/true_occ[i]\n",
        "    prediction_prob.append(tmp_prob)\n",
        "\n",
        "  incorrect_class = prediction_prob.index(min(prediction_prob))\n",
        "  correct_class = prediction_prob.index(max(prediction_prob))\n",
        "  print(\"Food category with more no.of correct predictions \",y_true.classes[correct_class] )\n",
        "  print(\"Food category with min no.of correct predictions \",y_true.classes[incorrect_class] )"
      ],
      "execution_count": null,
      "outputs": []
    },
    {
      "cell_type": "code",
      "metadata": {
        "id": "IJnHjcr-33DP"
      },
      "source": [
        "#checking if the data.valid_dl.y items are the same\n",
        "def crossverify(data_valid_y):\n",
        "  \"\"\"\n",
        "    data_valid_y : labels of the Validation dataset \n",
        "    Returns a Boolean value if the validation dataset has the same labels \n",
        "\n",
        "    Expecting the same validation data to perform majority vote ensemble\n",
        "  \"\"\"\n",
        "  oop = pd.DataFrame(data_valid_y.items)\n",
        "  count_valid = oop.value_counts()\n",
        "  cat_vd = []\n",
        "  count_vd=[]\n",
        "  for i in range(101):\n",
        "    cat_vd.append(i)\n",
        "    count_vd.append(count_valid[i])\n",
        "  dict_shift = dict(zip(cat_vd, count_vd))\n",
        "  count_id = np.array(count_vd)\n",
        "  if (count_id[0] == 149 and count_id[1]==138 and count_id[2]==150 and count_id[3]==154):\n",
        "    return True\n",
        "  else:\n",
        "    return False"
      ],
      "execution_count": null,
      "outputs": []
    },
    {
      "cell_type": "markdown",
      "metadata": {
        "id": "jkQ4dAJx4lIK"
      },
      "source": [
        "**EfficientNetB5**"
      ]
    },
    {
      "cell_type": "code",
      "metadata": {
        "id": "LPrNg9PJ4kgJ"
      },
      "source": [
        "bs_effb5 = 16  #Batchsize \n",
        "img_size_effb5 = 512  #Image Size \n",
        "    \n",
        "seed_everything(40) #Setting the seed to 40 before creating the data bunch "
      ],
      "execution_count": null,
      "outputs": []
    },
    {
      "cell_type": "code",
      "metadata": {
        "id": "Ad8ES0xt44li"
      },
      "source": [
        "#Creating the databunch with data augmentation for training data  \n",
        "data = (ImageList.from_df(df=train_df, path=path/'images', cols=1)\n",
        "        .split_by_rand_pct(0.2)\n",
        "        .label_from_df(cols=0)\n",
        "        .transform(ds_tfms, size=img_size_effb5)\n",
        "        .databunch(bs=bs_effb5)\n",
        "        .normalize(imagenet_stats))"
      ],
      "execution_count": null,
      "outputs": []
    },
    {
      "cell_type": "code",
      "metadata": {
        "colab": {
          "base_uri": "https://localhost:8080/",
          "height": 511,
          "referenced_widgets": [
            "4bf80a4e89114a05be3dccfec853d285",
            "d95ee315c911475693d4606154fc4417",
            "a03bb34b492a4c66b73644040f667d49",
            "92bb22c0e87a4ab1984927fc22b6afb2",
            "630b091d70f04752a3cbeece88d97640",
            "14a19214fd51420ea106509bb8a274d2",
            "0f60f11cb84149a39762695725299f54",
            "e9112645dcca4de1ba72eba3476d1486"
          ]
        },
        "id": "3TsGGtf1_h-5",
        "outputId": "eb42a188-7600-4d1e-df59-1fec96187ca0"
      },
      "source": [
        "if crossverify(data.valid_dl.y):\n",
        "  #Loading the EfficientNet Model    \n",
        "  model = EfficientNet.from_pretrained(\"efficientnet-b5\")   \n",
        "  top_5 = partial(top_k_accuracy, k=5)\n",
        "  #Initializing the fastai learner \n",
        "  learneffb5 = Learner(data, model, metrics=[accuracy, top_5], callback_fns=ShowGraph).to_fp16()\n",
        "  learneffb5.split( lambda m: (model._conv_head,) )\n",
        "  #Finding the best learning rate using lr_find()\n",
        "  learneffb5.lr_find()\n",
        "  learneffb5.recorder.plot(suggestion=True)\n",
        "else:\n",
        "  print(\"Data Mismatch\")"
      ],
      "execution_count": null,
      "outputs": [
        {
          "output_type": "stream",
          "text": [
            "Downloading: \"https://github.com/lukemelas/EfficientNet-PyTorch/releases/download/1.0/efficientnet-b5-b6417697.pth\" to /root/.cache/torch/checkpoints/efficientnet-b5-b6417697.pth\n"
          ],
          "name": "stderr"
        },
        {
          "output_type": "display_data",
          "data": {
            "application/vnd.jupyter.widget-view+json": {
              "model_id": "4bf80a4e89114a05be3dccfec853d285",
              "version_minor": 0,
              "version_major": 2
            },
            "text/plain": [
              "HBox(children=(FloatProgress(value=0.0, max=122410125.0), HTML(value='')))"
            ]
          },
          "metadata": {
            "tags": []
          }
        },
        {
          "output_type": "stream",
          "text": [
            "\n",
            "Loaded pretrained weights for efficientnet-b5\n"
          ],
          "name": "stdout"
        },
        {
          "output_type": "display_data",
          "data": {
            "text/html": [
              "\n",
              "    <div>\n",
              "        <style>\n",
              "            /* Turns off some styling */\n",
              "            progress {\n",
              "                /* gets rid of default border in Firefox and Opera. */\n",
              "                border: none;\n",
              "                /* Needs to be in here for Safari polyfill so background images work as expected. */\n",
              "                background-size: auto;\n",
              "            }\n",
              "            .progress-bar-interrupted, .progress-bar-interrupted::-webkit-progress-bar {\n",
              "                background: #F44336;\n",
              "            }\n",
              "        </style>\n",
              "      <progress value='0' class='' max='1' style='width:300px; height:20px; vertical-align: middle;'></progress>\n",
              "      0.00% [0/1 00:00<00:00]\n",
              "    </div>\n",
              "    \n",
              "<table border=\"1\" class=\"dataframe\">\n",
              "  <thead>\n",
              "    <tr style=\"text-align: left;\">\n",
              "      <th>epoch</th>\n",
              "      <th>train_loss</th>\n",
              "      <th>valid_loss</th>\n",
              "      <th>accuracy</th>\n",
              "      <th>top_k_accuracy</th>\n",
              "      <th>time</th>\n",
              "    </tr>\n",
              "  </thead>\n",
              "  <tbody>\n",
              "  </tbody>\n",
              "</table><p>\n",
              "\n",
              "    <div>\n",
              "        <style>\n",
              "            /* Turns off some styling */\n",
              "            progress {\n",
              "                /* gets rid of default border in Firefox and Opera. */\n",
              "                border: none;\n",
              "                /* Needs to be in here for Safari polyfill so background images work as expected. */\n",
              "                background-size: auto;\n",
              "            }\n",
              "            .progress-bar-interrupted, .progress-bar-interrupted::-webkit-progress-bar {\n",
              "                background: #F44336;\n",
              "            }\n",
              "        </style>\n",
              "      <progress value='89' class='' max='3787' style='width:300px; height:20px; vertical-align: middle;'></progress>\n",
              "      2.35% [89/3787 01:48<1:14:52 24.9683]\n",
              "    </div>\n",
              "    "
            ],
            "text/plain": [
              "<IPython.core.display.HTML object>"
            ]
          },
          "metadata": {
            "tags": []
          }
        },
        {
          "output_type": "stream",
          "text": [
            "LR Finder is complete, type {learner_name}.recorder.plot() to see the graph.\n",
            "Min numerical gradient: 5.25E-03\n",
            "Min loss divided by 10: 6.92E-03\n"
          ],
          "name": "stdout"
        },
        {
          "output_type": "display_data",
          "data": {
            "image/png": "[encoded data removed]",
            "text/plain": [
              "<Figure size 432x288 with 1 Axes>"
            ]
          },
          "metadata": {
            "tags": [],
            "needs_background": "light"
          }
        }
      ]
    },
    {
      "cell_type": "code",
      "metadata": {
        "colab": {
          "base_uri": "https://localhost:8080/",
          "height": 571
        },
        "id": "pfY23PqY8eU-",
        "outputId": "e0d97230-09e0-43c1-8feb-0105fcd29f68"
      },
      "source": [
        "lr = 4e-3 #setting the learning rate \n",
        "learneffb5.fit_one_cycle(3,max_lr=slice(lr)) #Training the model for 3 epochs"
      ],
      "execution_count": null,
      "outputs": [
        {
          "output_type": "display_data",
          "data": {
            "text/html": [
              "<table border=\"1\" class=\"dataframe\">\n",
              "  <thead>\n",
              "    <tr style=\"text-align: left;\">\n",
              "      <th>epoch</th>\n",
              "      <th>train_loss</th>\n",
              "      <th>valid_loss</th>\n",
              "      <th>accuracy</th>\n",
              "      <th>top_k_accuracy</th>\n",
              "      <th>time</th>\n",
              "    </tr>\n",
              "  </thead>\n",
              "  <tbody>\n",
              "    <tr>\n",
              "      <td>0</td>\n",
              "      <td>1.867954</td>\n",
              "      <td>1.267833</td>\n",
              "      <td>0.682772</td>\n",
              "      <td>0.894125</td>\n",
              "      <td>1:19:55</td>\n",
              "    </tr>\n",
              "    <tr>\n",
              "      <td>1</td>\n",
              "      <td>1.217065</td>\n",
              "      <td>0.784500</td>\n",
              "      <td>0.807987</td>\n",
              "      <td>0.948581</td>\n",
              "      <td>1:19:54</td>\n",
              "    </tr>\n",
              "    <tr>\n",
              "      <td>2</td>\n",
              "      <td>0.837500</td>\n",
              "      <td>0.595656</td>\n",
              "      <td>0.853201</td>\n",
              "      <td>0.960528</td>\n",
              "      <td>1:19:59</td>\n",
              "    </tr>\n",
              "  </tbody>\n",
              "</table>"
            ],
            "text/plain": [
              "<IPython.core.display.HTML object>"
            ]
          },
          "metadata": {
            "tags": []
          }
        },
        {
          "output_type": "display_data",
          "data": {
            "image/png": "[encoded data removed]",
            "text/plain": [
              "<Figure size 432x288 with 1 Axes>"
            ]
          },
          "metadata": {
            "tags": []
          }
        },
        {
          "output_type": "error",
          "ename": "NameError",
          "evalue": "ignored",
          "traceback": [
            "\u001b[0;31m---------------------------------------------------------------------------\u001b[0m",
            "\u001b[0;31mNameError\u001b[0m                                 Traceback (most recent call last)",
            "\u001b[0;32m<ipython-input-13-2f4c973076a5>\u001b[0m in \u001b[0;36m<module>\u001b[0;34m()\u001b[0m\n\u001b[1;32m      1\u001b[0m \u001b[0mlr\u001b[0m \u001b[0;34m=\u001b[0m \u001b[0;36m4e-3\u001b[0m\u001b[0;34m\u001b[0m\u001b[0;34m\u001b[0m\u001b[0m\n\u001b[1;32m      2\u001b[0m \u001b[0mlearneffb5\u001b[0m\u001b[0;34m.\u001b[0m\u001b[0mfit_one_cycle\u001b[0m\u001b[0;34m(\u001b[0m\u001b[0;36m3\u001b[0m\u001b[0;34m,\u001b[0m\u001b[0mmax_lr\u001b[0m\u001b[0;34m=\u001b[0m\u001b[0mslice\u001b[0m\u001b[0;34m(\u001b[0m\u001b[0mlr\u001b[0m\u001b[0;34m)\u001b[0m\u001b[0;34m)\u001b[0m\u001b[0;34m\u001b[0m\u001b[0;34m\u001b[0m\u001b[0m\n\u001b[0;32m----> 3\u001b[0;31m \u001b[0mleraneffb5\u001b[0m\u001b[0;34m.\u001b[0m\u001b[0msave\u001b[0m\u001b[0;34m(\u001b[0m\u001b[0;34m'/content/drive/MyDrive/food101-effNetb5-train-e3'\u001b[0m\u001b[0;34m)\u001b[0m\u001b[0;34m\u001b[0m\u001b[0;34m\u001b[0m\u001b[0m\n\u001b[0m",
            "\u001b[0;31mNameError\u001b[0m: name 'leraneffb5' is not defined"
          ]
        }
      ]
    },
    {
      "cell_type": "code",
      "metadata": {
        "id": "7qUkme8u4BQJ"
      },
      "source": [
        "#Saving the model for ensembling \n",
        "learneffb5.save('/content/drive/MyDrive/food101-effNetb5-train-e3') "
      ],
      "execution_count": null,
      "outputs": []
    },
    {
      "cell_type": "code",
      "metadata": {
        "colab": {
          "base_uri": "https://localhost:8080/"
        },
        "id": "HEusChviB1A1",
        "outputId": "6d0808d5-d538-4b13-a2d1-cfdecee2aa79"
      },
      "source": [
        "#Prediction for the vaidation dataset \n",
        "if crossverify(data.valid_dl.y):\n",
        "  start= time.time()\n",
        "  Y_valid_predict_effb5 = []\n",
        "  for img in data.valid_dl.x:\n",
        "      tmp_predict = learneffb5.predict(img) \n",
        "      Y_valid_predict_effb5.append(tmp_predict[1]) #predict will return three tensor values along with the probability for each category. Extracting only the predicted label\n",
        "  end = time.time()\n",
        "  print('Time taken to predict for EfficientNetb3  :',{end - start})\n",
        "else:\n",
        "  print('Data Mismatch')\n",
        "\n",
        "evaluate_performance(data.valid_dl.y,Y_valid_predict_effb5)"
      ],
      "execution_count": null,
      "outputs": [
        {
          "output_type": "stream",
          "text": [
            "Time taken to predict for EfficientNetb3  : {905.0052115917206}\n",
            "              precision    recall  f1-score   support\n",
            "\n",
            "           0       0.71      0.71      0.71       149\n",
            "           1       0.80      0.83      0.81       138\n",
            "           2       0.87      0.88      0.87       150\n",
            "           3       0.88      0.92      0.90       154\n",
            "           4       0.80      0.89      0.84       141\n",
            "           5       0.82      0.81      0.81       159\n",
            "           6       0.82      0.89      0.85       133\n",
            "           7       0.85      0.95      0.90       136\n",
            "           8       0.73      0.72      0.73       164\n",
            "           9       0.79      0.83      0.81       136\n",
            "          10       0.80      0.78      0.79       143\n",
            "          11       0.91      0.88      0.90       145\n",
            "          12       0.91      0.89      0.90       157\n",
            "          13       0.87      0.91      0.89       148\n",
            "          14       0.84      0.74      0.79       149\n",
            "          15       0.77      0.74      0.76       148\n",
            "          16       0.92      0.94      0.93       167\n",
            "          17       0.84      0.75      0.79       142\n",
            "          18       0.81      0.81      0.81       148\n",
            "          19       0.86      0.84      0.85       151\n",
            "          20       0.86      0.90      0.88       163\n",
            "          21       0.66      0.70      0.68       149\n",
            "          22       0.54      0.62      0.58       145\n",
            "          23       0.91      0.91      0.91       173\n",
            "          24       0.89      0.90      0.90       154\n",
            "          25       0.85      0.90      0.87       129\n",
            "          26       0.80      0.81      0.81       154\n",
            "          27       0.95      0.89      0.92       167\n",
            "          28       0.83      0.87      0.85       154\n",
            "          29       0.79      0.85      0.82       156\n",
            "          30       0.90      0.95      0.93       127\n",
            "          31       0.81      0.82      0.81       163\n",
            "          32       0.94      0.85      0.89       149\n",
            "          33       0.99      0.99      0.99       151\n",
            "          34       0.91      0.91      0.91       139\n",
            "          35       0.87      0.94      0.90       147\n",
            "          36       0.81      0.87      0.84       151\n",
            "          37       0.62      0.76      0.68       158\n",
            "          38       0.93      0.93      0.93       134\n",
            "          39       0.67      0.70      0.69       142\n",
            "          40       0.96      0.92      0.94       135\n",
            "          41       0.89      0.87      0.88       138\n",
            "          42       0.82      0.84      0.83       148\n",
            "          43       0.85      0.91      0.88       139\n",
            "          44       0.87      0.88      0.87       139\n",
            "          45       0.80      0.94      0.86       154\n",
            "          46       0.87      0.79      0.83       155\n",
            "          47       0.80      0.79      0.79       154\n",
            "          48       0.92      0.87      0.89       152\n",
            "          49       0.84      0.78      0.81       166\n",
            "          50       0.87      0.86      0.86       160\n",
            "          51       0.93      0.90      0.91       154\n",
            "          52       0.85      0.90      0.87       149\n",
            "          53       0.84      0.85      0.85       172\n",
            "          54       0.92      0.97      0.94       159\n",
            "          55       0.91      0.85      0.88       149\n",
            "          56       0.82      0.82      0.82       146\n",
            "          57       0.90      0.82      0.86       157\n",
            "          58       0.72      0.77      0.74       133\n",
            "          59       0.78      0.82      0.80       152\n",
            "          60       0.91      0.88      0.90       164\n",
            "          61       0.95      0.93      0.94       159\n",
            "          62       0.90      0.86      0.88       141\n",
            "          63       0.93      0.94      0.93       146\n",
            "          64       0.96      0.94      0.95       145\n",
            "          65       0.93      0.96      0.95       149\n",
            "          66       0.83      0.89      0.86       165\n",
            "          67       0.83      0.77      0.80       138\n",
            "          68       0.91      0.87      0.89       148\n",
            "          69       0.99      0.96      0.97       161\n",
            "          70       0.95      0.94      0.94       171\n",
            "          71       0.93      0.87      0.90       151\n",
            "          72       0.86      0.84      0.85       147\n",
            "          73       0.73      0.82      0.77       131\n",
            "          74       0.85      0.88      0.86       150\n",
            "          75       0.94      0.96      0.95       156\n",
            "          76       0.88      0.91      0.89       149\n",
            "          77       0.75      0.64      0.69       151\n",
            "          78       0.94      0.90      0.92       163\n",
            "          79       0.91      0.81      0.86       165\n",
            "          80       0.88      0.86      0.87       142\n",
            "          81       0.93      0.89      0.91       140\n",
            "          82       0.84      0.69      0.76       162\n",
            "          83       0.89      0.87      0.88       157\n",
            "          84       0.75      0.87      0.80       131\n",
            "          85       0.90      0.90      0.90       163\n",
            "          86       0.90      0.90      0.90       147\n",
            "          87       0.83      0.82      0.83       141\n",
            "          88       0.96      0.95      0.95       143\n",
            "          89       0.90      0.86      0.88       153\n",
            "          90       0.94      0.93      0.94       151\n",
            "          91       0.90      0.96      0.93       137\n",
            "          92       0.87      0.89      0.88       151\n",
            "          93       0.57      0.51      0.54       142\n",
            "          94       0.85      0.82      0.83       150\n",
            "          95       0.91      0.87      0.89       146\n",
            "          96       0.88      0.84      0.86       133\n",
            "          97       0.88      0.95      0.91       152\n",
            "          98       0.77      0.78      0.78       152\n",
            "          99       0.89      0.69      0.78       169\n",
            "         100       0.89      0.86      0.87       164\n",
            "\n",
            "    accuracy                           0.85     15150\n",
            "   macro avg       0.85      0.85      0.85     15150\n",
            "weighted avg       0.86      0.85      0.85     15150\n",
            "\n",
            "\n",
            "[[106   0   4   0 ...   0   2   0   4]\n",
            " [  0 114   0   0 ...   0   0   0   0]\n",
            " [  6   0 132   0 ...   0   1   0   0]\n",
            " [  0   0   0 141 ...   0   0   0   0]\n",
            " ...\n",
            " [  0   0   0   0 ... 144   0   0   0]\n",
            " [  1   0   0   0 ...   0 119   0   0]\n",
            " [  0   1   0   3 ...   0   0 116   0]\n",
            " [  2   0   0   0 ...   1   0   0 141]]\n",
            "No.of validation set samples predicted correctly  12927\n",
            "No.of misclassified samples  2223\n",
            "Food category with more no.of correct predictions  oysters\n",
            "Food category with min no.of correct predictions  chocolate_mousse\n"
          ],
          "name": "stdout"
        }
      ]
    },
    {
      "cell_type": "code",
      "metadata": {
        "id": "YKh_2t_iDUqp"
      },
      "source": [
        "# Applying TestTime Augmentation and finding the test accuracy \n",
        "test_data=(ImageList.from_df(df=test_df,path=path/'images',cols=1)\n",
        "      .split_none()\n",
        "      .label_from_df(cols=0)\n",
        "      .transform(ds_tfms,size=img_size_effb5)\n",
        "      .databunch(bs=bs_effb5)\n",
        "      .normalize(imagenet_stats))\n",
        "\n",
        "top_5 = partial(top_k_accuracy,k=5)\n",
        "learneffb5 = Learner(data, model, metrics=[accuracy, top_5], callback_fns=ShowGraph).to_fp16() #by default float 32 training in 16 bits..takes only half the size. \n",
        "learneffb5.load('/content/drive/MyDrive/food101-effNetb5-train-e3')\n",
        "\n",
        "learneffb5.validate(test_data.train_dl)"
      ],
      "execution_count": null,
      "outputs": []
    },
    {
      "cell_type": "code",
      "metadata": {
        "id": "I5E8DQfJP_Gl"
      },
      "source": [
        "test_pred, y = learn.TTA(ds_type=test_data.train_dl)\n",
        "accuracy(test_pred, y)"
      ],
      "execution_count": null,
      "outputs": []
    }
  ]
}