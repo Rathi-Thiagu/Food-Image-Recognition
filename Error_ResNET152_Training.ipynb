{
  "nbformat": 4,
  "nbformat_minor": 0,
  "metadata": {
    "colab": {
      "name": "Exception_Food_101_ResNET152.ipynb",
      "provenance": [],
      "machine_shape": "hm"
    },
    "kernelspec": {
      "name": "python3",
      "display_name": "Python 3"
    },
    "language_info": {
      "name": "python"
    },
    "accelerator": "GPU",
    "widgets": {
      "application/vnd.jupyter.widget-state+json": {
        "71c3c7e23e6a47669971735550968bbb": {
          "model_module": "@jupyter-widgets/controls",
          "model_name": "HBoxModel",
          "state": {
            "_view_name": "HBoxView",
            "_dom_classes": [],
            "_model_name": "HBoxModel",
            "_view_module": "@jupyter-widgets/controls",
            "_model_module_version": "1.5.0",
            "_view_count": null,
            "_view_module_version": "1.5.0",
            "box_style": "",
            "layout": "IPY_MODEL_e33edf4a0abd485b9e929cfe2fe35914",
            "_model_module": "@jupyter-widgets/controls",
            "children": [
              "IPY_MODEL_55fd516b68694b069613b4c5feefb889",
              "IPY_MODEL_bf2cc73b28ed4aab97b990198eff398f"
            ]
          }
        },
        "e33edf4a0abd485b9e929cfe2fe35914": {
          "model_module": "@jupyter-widgets/base",
          "model_name": "LayoutModel",
          "state": {
            "_view_name": "LayoutView",
            "grid_template_rows": null,
            "right": null,
            "justify_content": null,
            "_view_module": "@jupyter-widgets/base",
            "overflow": null,
            "_model_module_version": "1.2.0",
            "_view_count": null,
            "flex_flow": null,
            "width": null,
            "min_width": null,
            "border": null,
            "align_items": null,
            "bottom": null,
            "_model_module": "@jupyter-widgets/base",
            "top": null,
            "grid_column": null,
            "overflow_y": null,
            "overflow_x": null,
            "grid_auto_flow": null,
            "grid_area": null,
            "grid_template_columns": null,
            "flex": null,
            "_model_name": "LayoutModel",
            "justify_items": null,
            "grid_row": null,
            "max_height": null,
            "align_content": null,
            "visibility": null,
            "align_self": null,
            "height": null,
            "min_height": null,
            "padding": null,
            "grid_auto_rows": null,
            "grid_gap": null,
            "max_width": null,
            "order": null,
            "_view_module_version": "1.2.0",
            "grid_template_areas": null,
            "object_position": null,
            "object_fit": null,
            "grid_auto_columns": null,
            "margin": null,
            "display": null,
            "left": null
          }
        },
        "55fd516b68694b069613b4c5feefb889": {
          "model_module": "@jupyter-widgets/controls",
          "model_name": "FloatProgressModel",
          "state": {
            "_view_name": "ProgressView",
            "style": "IPY_MODEL_f022027224ab4c6781752406c8fe2123",
            "_dom_classes": [],
            "description": "100%",
            "_model_name": "FloatProgressModel",
            "bar_style": "success",
            "max": 21388428,
            "_view_module": "@jupyter-widgets/controls",
            "_model_module_version": "1.5.0",
            "value": 21388428,
            "_view_count": null,
            "_view_module_version": "1.5.0",
            "orientation": "horizontal",
            "min": 0,
            "description_tooltip": null,
            "_model_module": "@jupyter-widgets/controls",
            "layout": "IPY_MODEL_fcbe39854a6142e5af6023d79def5e60"
          }
        },
        "bf2cc73b28ed4aab97b990198eff398f": {
          "model_module": "@jupyter-widgets/controls",
          "model_name": "HTMLModel",
          "state": {
            "_view_name": "HTMLView",
            "style": "IPY_MODEL_ea7e07accdbf4baa90ae8724d0e78b0c",
            "_dom_classes": [],
            "description": "",
            "_model_name": "HTMLModel",
            "placeholder": "​",
            "_view_module": "@jupyter-widgets/controls",
            "_model_module_version": "1.5.0",
            "value": " 20.4M/20.4M [03:18&lt;00:00, 108kB/s]",
            "_view_count": null,
            "_view_module_version": "1.5.0",
            "description_tooltip": null,
            "_model_module": "@jupyter-widgets/controls",
            "layout": "IPY_MODEL_d33c4b3d9c5f4cc3af8ec07fa48fa357"
          }
        },
        "f022027224ab4c6781752406c8fe2123": {
          "model_module": "@jupyter-widgets/controls",
          "model_name": "ProgressStyleModel",
          "state": {
            "_view_name": "StyleView",
            "_model_name": "ProgressStyleModel",
            "description_width": "initial",
            "_view_module": "@jupyter-widgets/base",
            "_model_module_version": "1.5.0",
            "_view_count": null,
            "_view_module_version": "1.2.0",
            "bar_color": null,
            "_model_module": "@jupyter-widgets/controls"
          }
        },
        "fcbe39854a6142e5af6023d79def5e60": {
          "model_module": "@jupyter-widgets/base",
          "model_name": "LayoutModel",
          "state": {
            "_view_name": "LayoutView",
            "grid_template_rows": null,
            "right": null,
            "justify_content": null,
            "_view_module": "@jupyter-widgets/base",
            "overflow": null,
            "_model_module_version": "1.2.0",
            "_view_count": null,
            "flex_flow": null,
            "width": null,
            "min_width": null,
            "border": null,
            "align_items": null,
            "bottom": null,
            "_model_module": "@jupyter-widgets/base",
            "top": null,
            "grid_column": null,
            "overflow_y": null,
            "overflow_x": null,
            "grid_auto_flow": null,
            "grid_area": null,
            "grid_template_columns": null,
            "flex": null,
            "_model_name": "LayoutModel",
            "justify_items": null,
            "grid_row": null,
            "max_height": null,
            "align_content": null,
            "visibility": null,
            "align_self": null,
            "height": null,
            "min_height": null,
            "padding": null,
            "grid_auto_rows": null,
            "grid_gap": null,
            "max_width": null,
            "order": null,
            "_view_module_version": "1.2.0",
            "grid_template_areas": null,
            "object_position": null,
            "object_fit": null,
            "grid_auto_columns": null,
            "margin": null,
            "display": null,
            "left": null
          }
        },
        "ea7e07accdbf4baa90ae8724d0e78b0c": {
          "model_module": "@jupyter-widgets/controls",
          "model_name": "DescriptionStyleModel",
          "state": {
            "_view_name": "StyleView",
            "_model_name": "DescriptionStyleModel",
            "description_width": "",
            "_view_module": "@jupyter-widgets/base",
            "_model_module_version": "1.5.0",
            "_view_count": null,
            "_view_module_version": "1.2.0",
            "_model_module": "@jupyter-widgets/controls"
          }
        },
        "d33c4b3d9c5f4cc3af8ec07fa48fa357": {
          "model_module": "@jupyter-widgets/base",
          "model_name": "LayoutModel",
          "state": {
            "_view_name": "LayoutView",
            "grid_template_rows": null,
            "right": null,
            "justify_content": null,
            "_view_module": "@jupyter-widgets/base",
            "overflow": null,
            "_model_module_version": "1.2.0",
            "_view_count": null,
            "flex_flow": null,
            "width": null,
            "min_width": null,
            "border": null,
            "align_items": null,
            "bottom": null,
            "_model_module": "@jupyter-widgets/base",
            "top": null,
            "grid_column": null,
            "overflow_y": null,
            "overflow_x": null,
            "grid_auto_flow": null,
            "grid_area": null,
            "grid_template_columns": null,
            "flex": null,
            "_model_name": "LayoutModel",
            "justify_items": null,
            "grid_row": null,
            "max_height": null,
            "align_content": null,
            "visibility": null,
            "align_self": null,
            "height": null,
            "min_height": null,
            "padding": null,
            "grid_auto_rows": null,
            "grid_gap": null,
            "max_width": null,
            "order": null,
            "_view_module_version": "1.2.0",
            "grid_template_areas": null,
            "object_position": null,
            "object_fit": null,
            "grid_auto_columns": null,
            "margin": null,
            "display": null,
            "left": null
          }
        },
        "4d124c53e1824fac9f6b0620e241dbd5": {
          "model_module": "@jupyter-widgets/controls",
          "model_name": "HBoxModel",
          "state": {
            "_view_name": "HBoxView",
            "_dom_classes": [],
            "_model_name": "HBoxModel",
            "_view_module": "@jupyter-widgets/controls",
            "_model_module_version": "1.5.0",
            "_view_count": null,
            "_view_module_version": "1.5.0",
            "box_style": "",
            "layout": "IPY_MODEL_8ca2a26c08664c92954151efc28fe98d",
            "_model_module": "@jupyter-widgets/controls",
            "children": [
              "IPY_MODEL_05b79f8bf11b43388ce53b9dbfcfe2cf",
              "IPY_MODEL_e50bb442b3a048cc8213e638c8e86707"
            ]
          }
        },
        "8ca2a26c08664c92954151efc28fe98d": {
          "model_module": "@jupyter-widgets/base",
          "model_name": "LayoutModel",
          "state": {
            "_view_name": "LayoutView",
            "grid_template_rows": null,
            "right": null,
            "justify_content": null,
            "_view_module": "@jupyter-widgets/base",
            "overflow": null,
            "_model_module_version": "1.2.0",
            "_view_count": null,
            "flex_flow": null,
            "width": null,
            "min_width": null,
            "border": null,
            "align_items": null,
            "bottom": null,
            "_model_module": "@jupyter-widgets/base",
            "top": null,
            "grid_column": null,
            "overflow_y": null,
            "overflow_x": null,
            "grid_auto_flow": null,
            "grid_area": null,
            "grid_template_columns": null,
            "flex": null,
            "_model_name": "LayoutModel",
            "justify_items": null,
            "grid_row": null,
            "max_height": null,
            "align_content": null,
            "visibility": null,
            "align_self": null,
            "height": null,
            "min_height": null,
            "padding": null,
            "grid_auto_rows": null,
            "grid_gap": null,
            "max_width": null,
            "order": null,
            "_view_module_version": "1.2.0",
            "grid_template_areas": null,
            "object_position": null,
            "object_fit": null,
            "grid_auto_columns": null,
            "margin": null,
            "display": null,
            "left": null
          }
        },
        "05b79f8bf11b43388ce53b9dbfcfe2cf": {
          "model_module": "@jupyter-widgets/controls",
          "model_name": "FloatProgressModel",
          "state": {
            "_view_name": "ProgressView",
            "style": "IPY_MODEL_4eb2a85f09c247189adfa649cf784eb3",
            "_dom_classes": [],
            "description": "100%",
            "_model_name": "FloatProgressModel",
            "bar_style": "success",
            "max": 77999237,
            "_view_module": "@jupyter-widgets/controls",
            "_model_module_version": "1.5.0",
            "value": 77999237,
            "_view_count": null,
            "_view_module_version": "1.5.0",
            "orientation": "horizontal",
            "min": 0,
            "description_tooltip": null,
            "_model_module": "@jupyter-widgets/controls",
            "layout": "IPY_MODEL_830a2edc4b684ee5a197111468c5fd86"
          }
        },
        "e50bb442b3a048cc8213e638c8e86707": {
          "model_module": "@jupyter-widgets/controls",
          "model_name": "HTMLModel",
          "state": {
            "_view_name": "HTMLView",
            "style": "IPY_MODEL_5561b522c84148bebcc08408dafe32fc",
            "_dom_classes": [],
            "description": "",
            "_model_name": "HTMLModel",
            "placeholder": "​",
            "_view_module": "@jupyter-widgets/controls",
            "_model_module_version": "1.5.0",
            "value": " 74.4M/74.4M [00:01&lt;00:00, 50.5MB/s]",
            "_view_count": null,
            "_view_module_version": "1.5.0",
            "description_tooltip": null,
            "_model_module": "@jupyter-widgets/controls",
            "layout": "IPY_MODEL_94d0ae74dd4b46d8a37834dcf4f9a4bf"
          }
        },
        "4eb2a85f09c247189adfa649cf784eb3": {
          "model_module": "@jupyter-widgets/controls",
          "model_name": "ProgressStyleModel",
          "state": {
            "_view_name": "StyleView",
            "_model_name": "ProgressStyleModel",
            "description_width": "initial",
            "_view_module": "@jupyter-widgets/base",
            "_model_module_version": "1.5.0",
            "_view_count": null,
            "_view_module_version": "1.2.0",
            "bar_color": null,
            "_model_module": "@jupyter-widgets/controls"
          }
        },
        "830a2edc4b684ee5a197111468c5fd86": {
          "model_module": "@jupyter-widgets/base",
          "model_name": "LayoutModel",
          "state": {
            "_view_name": "LayoutView",
            "grid_template_rows": null,
            "right": null,
            "justify_content": null,
            "_view_module": "@jupyter-widgets/base",
            "overflow": null,
            "_model_module_version": "1.2.0",
            "_view_count": null,
            "flex_flow": null,
            "width": null,
            "min_width": null,
            "border": null,
            "align_items": null,
            "bottom": null,
            "_model_module": "@jupyter-widgets/base",
            "top": null,
            "grid_column": null,
            "overflow_y": null,
            "overflow_x": null,
            "grid_auto_flow": null,
            "grid_area": null,
            "grid_template_columns": null,
            "flex": null,
            "_model_name": "LayoutModel",
            "justify_items": null,
            "grid_row": null,
            "max_height": null,
            "align_content": null,
            "visibility": null,
            "align_self": null,
            "height": null,
            "min_height": null,
            "padding": null,
            "grid_auto_rows": null,
            "grid_gap": null,
            "max_width": null,
            "order": null,
            "_view_module_version": "1.2.0",
            "grid_template_areas": null,
            "object_position": null,
            "object_fit": null,
            "grid_auto_columns": null,
            "margin": null,
            "display": null,
            "left": null
          }
        },
        "5561b522c84148bebcc08408dafe32fc": {
          "model_module": "@jupyter-widgets/controls",
          "model_name": "DescriptionStyleModel",
          "state": {
            "_view_name": "StyleView",
            "_model_name": "DescriptionStyleModel",
            "description_width": "",
            "_view_module": "@jupyter-widgets/base",
            "_model_module_version": "1.5.0",
            "_view_count": null,
            "_view_module_version": "1.2.0",
            "_model_module": "@jupyter-widgets/controls"
          }
        },
        "94d0ae74dd4b46d8a37834dcf4f9a4bf": {
          "model_module": "@jupyter-widgets/base",
          "model_name": "LayoutModel",
          "state": {
            "_view_name": "LayoutView",
            "grid_template_rows": null,
            "right": null,
            "justify_content": null,
            "_view_module": "@jupyter-widgets/base",
            "overflow": null,
            "_model_module_version": "1.2.0",
            "_view_count": null,
            "flex_flow": null,
            "width": null,
            "min_width": null,
            "border": null,
            "align_items": null,
            "bottom": null,
            "_model_module": "@jupyter-widgets/base",
            "top": null,
            "grid_column": null,
            "overflow_y": null,
            "overflow_x": null,
            "grid_auto_flow": null,
            "grid_area": null,
            "grid_template_columns": null,
            "flex": null,
            "_model_name": "LayoutModel",
            "justify_items": null,
            "grid_row": null,
            "max_height": null,
            "align_content": null,
            "visibility": null,
            "align_self": null,
            "height": null,
            "min_height": null,
            "padding": null,
            "grid_auto_rows": null,
            "grid_gap": null,
            "max_width": null,
            "order": null,
            "_view_module_version": "1.2.0",
            "grid_template_areas": null,
            "object_position": null,
            "object_fit": null,
            "grid_auto_columns": null,
            "margin": null,
            "display": null,
            "left": null
          }
        }
      }
    }
  },
  "cells": [
    {
      "cell_type": "markdown",
      "metadata": {
        "id": "FHI3szvFLoxB"
      },
      "source": [
        "Training ResNET152 and Ensemble of different models - Recursive Exception error\n",
        "  \n",
        "    Exception: It's not possible to apply those transforms to your dataset:\n",
        "    maximum recursion depth exceeded while calling a Python object \n",
        "\n",
        "This file is only for the error note. Kindly do not try this"
      ]
    },
    {
      "cell_type": "code",
      "metadata": {
        "id": "lJ9yZtnQVC70"
      },
      "source": [
        "import numpy as np\n",
        "import pandas as pd"
      ],
      "execution_count": null,
      "outputs": []
    },
    {
      "cell_type": "code",
      "metadata": {
        "colab": {
          "base_uri": "https://localhost:8080/"
        },
        "id": "zHnw6HgjJa0W",
        "outputId": "635916fc-b04e-4989-b11f-d817eb3b0c94"
      },
      "source": [
        "from google.colab import drive\n",
        "drive.mount('/content/drive')"
      ],
      "execution_count": null,
      "outputs": [
        {
          "output_type": "stream",
          "text": [
            "Mounted at /content/drive\n"
          ],
          "name": "stdout"
        }
      ]
    },
    {
      "cell_type": "code",
      "metadata": {
        "colab": {
          "base_uri": "https://localhost:8080/"
        },
        "id": "mCbG7Uw59pgp",
        "outputId": "5e477e36-eeac-4506-cc6c-8368948b3298"
      },
      "source": [
        "# cheking the number of cored this system has.\n",
        "!cat /proc/cpuinfo | grep \"cpu cores\" | uniq"
      ],
      "execution_count": null,
      "outputs": [
        {
          "output_type": "stream",
          "text": [
            "cpu cores\t: 2\n"
          ],
          "name": "stdout"
        }
      ]
    },
    {
      "cell_type": "code",
      "metadata": {
        "colab": {
          "base_uri": "https://localhost:8080/"
        },
        "id": "Ycecxkhj-CQA",
        "outputId": "1c93e4ee-f9f0-4aa7-97c1-a302fc0d6121"
      },
      "source": [
        "# GPU info\n",
        "!nvidia-smi"
      ],
      "execution_count": null,
      "outputs": [
        {
          "output_type": "stream",
          "text": [
            "Wed May 12 13:49:34 2021       \n",
            "+-----------------------------------------------------------------------------+\n",
            "| NVIDIA-SMI 465.19.01    Driver Version: 460.32.03    CUDA Version: 11.2     |\n",
            "|-------------------------------+----------------------+----------------------+\n",
            "| GPU  Name        Persistence-M| Bus-Id        Disp.A | Volatile Uncorr. ECC |\n",
            "| Fan  Temp  Perf  Pwr:Usage/Cap|         Memory-Usage | GPU-Util  Compute M. |\n",
            "|                               |                      |               MIG M. |\n",
            "|===============================+======================+======================|\n",
            "|   0  Tesla P100-PCIE...  Off  | 00000000:00:04.0 Off |                    0 |\n",
            "| N/A   37C    P0    35W / 250W |   2269MiB / 16280MiB |      0%      Default |\n",
            "|                               |                      |                  N/A |\n",
            "+-------------------------------+----------------------+----------------------+\n",
            "                                                                               \n",
            "+-----------------------------------------------------------------------------+\n",
            "| Processes:                                                                  |\n",
            "|  GPU   GI   CI        PID   Type   Process name                  GPU Memory |\n",
            "|        ID   ID                                                   Usage      |\n",
            "|=============================================================================|\n",
            "+-----------------------------------------------------------------------------+\n"
          ],
          "name": "stdout"
        }
      ]
    },
    {
      "cell_type": "code",
      "metadata": {
        "colab": {
          "base_uri": "https://localhost:8080/"
        },
        "id": "VilO3zv0-Fku",
        "outputId": "25cb57d9-4e8e-48fb-d470-126030570eca"
      },
      "source": [
        "# Amount of system RAM available to be used.\n",
        "from psutil import virtual_memory\n",
        "ram_gb = virtual_memory().total / (1024 * 1024 * 1024)   \n",
        "print('Your runtime has {:.1f} gigabyte of availabe\\n'.format(ram_gb))"
      ],
      "execution_count": null,
      "outputs": [
        {
          "output_type": "stream",
          "text": [
            "Your runtime has 25.5 gigabyte of availabe\n",
            "\n"
          ],
          "name": "stdout"
        }
      ]
    },
    {
      "cell_type": "code",
      "metadata": {
        "colab": {
          "base_uri": "https://localhost:8080/"
        },
        "id": "VfjRQarM2C8_",
        "outputId": "e520b92c-d314-44a7-b889-0f175cae1db0"
      },
      "source": [
        "import sys\n",
        "print(sys.getrecursionlimit())\n",
        "sys.setrecursionlimit(10000)"
      ],
      "execution_count": null,
      "outputs": [
        {
          "output_type": "stream",
          "text": [
            "1000\n"
          ],
          "name": "stdout"
        }
      ]
    },
    {
      "cell_type": "code",
      "metadata": {
        "colab": {
          "base_uri": "https://localhost:8080/"
        },
        "id": "fzU8eZeu3HwJ",
        "outputId": "8b5e46e6-8665-4f9c-aa7f-46c1f3420fa5"
      },
      "source": [
        "print(sys.getrecursionlimit())"
      ],
      "execution_count": null,
      "outputs": [
        {
          "output_type": "stream",
          "text": [
            "10000\n"
          ],
          "name": "stdout"
        }
      ]
    },
    {
      "cell_type": "code",
      "metadata": {
        "colab": {
          "base_uri": "https://localhost:8080/"
        },
        "id": "cs3nIqkl-SG_",
        "outputId": "f67dad45-3fb2-47f5-8677-dd0057b8670c"
      },
      "source": [
        "\n",
        "# !pip install git+https://github.com/fastai/fastai.git\n",
        "!pip install torch===1.4.0 torchvision===0.5.0 -f https://download.pytorch.org/whl/torch_stable.html"
      ],
      "execution_count": null,
      "outputs": [
        {
          "output_type": "stream",
          "text": [
            "Looking in links: https://download.pytorch.org/whl/torch_stable.html\n",
            "Requirement already satisfied: torch===1.4.0 in /usr/local/lib/python3.7/dist-packages (1.4.0)\n",
            "Requirement already satisfied: torchvision===0.5.0 in /usr/local/lib/python3.7/dist-packages (0.5.0)\n",
            "Requirement already satisfied: numpy in /usr/local/lib/python3.7/dist-packages (from torchvision===0.5.0) (1.19.5)\n",
            "Requirement already satisfied: pillow>=4.1.1 in /usr/local/lib/python3.7/dist-packages (from torchvision===0.5.0) (7.1.2)\n",
            "Requirement already satisfied: six in /usr/local/lib/python3.7/dist-packages (from torchvision===0.5.0) (1.15.0)\n"
          ],
          "name": "stdout"
        }
      ]
    },
    {
      "cell_type": "code",
      "metadata": {
        "id": "XcbeqqEo-U6J"
      },
      "source": [
        "from fastai.vision import *\n",
        "from fastai.metrics import error_rate"
      ],
      "execution_count": null,
      "outputs": []
    },
    {
      "cell_type": "code",
      "metadata": {
        "id": "m-1tMPMz-XrC"
      },
      "source": [
        "path = untar_data(URLs.FOOD)"
      ],
      "execution_count": null,
      "outputs": []
    },
    {
      "cell_type": "code",
      "metadata": {
        "id": "q6N-HS6x-ajO"
      },
      "source": [
        "train_path = '/root/.fastai/data/food-101/train.txt'\n",
        "test_path = '/root/.fastai/data/food-101/test.txt'\n",
        "\n",
        "def filelist2df(path):\n",
        "    df = pd.read_csv(path, delimiter='/', header=None, names=['label', 'name'])\n",
        "    df['name'] =  df['label'].astype(str) + \"/\" + df['name'].astype(str) + \".jpg\"\n",
        "    return df\n",
        "\n",
        "train_df = filelist2df(train_path)\n",
        "test_df = filelist2df(test_path)\n",
        "\n",
        "ds_tfms = ([RandTransform(tfm=TfmCrop (crop_pad), kwargs={'row_pct': (0, 1), 'col_pct': (0, 1), 'padding_mode': 'reflection'}, p=1.0, resolved={}, do_run=True, is_random=True), \n",
        "            RandTransform(tfm=TfmCoord (symmetric_warp), kwargs={'magnitude': (-0.2, 0.2)}, p=0.75, resolved={}, do_run=True, is_random=True), \n",
        "            RandTransform(tfm=TfmAffine (rotate), kwargs={'degrees': (-40, 40)}, p=0.75, resolved={}, do_run=True, is_random=True), \n",
        "            RandTransform(tfm=TfmAffine (flip_affine), kwargs={}, p=0.5, resolved={}, do_run=True, is_random=True), \n",
        "            RandTransform(tfm=TfmAffine (zoom), kwargs={'scale': (1.0, 1.4), 'row_pct': (0, 1), 'col_pct': (0, 1)}, p=0.75, resolved={}, do_run=True, is_random=True), \n",
        "            RandTransform(tfm=TfmLighting (brightness), kwargs={'change': (0.35, 0.65)}, p=0.75, resolved={}, do_run=True, is_random=True), \n",
        "            RandTransform(tfm=TfmLighting (contrast), kwargs={'scale': (0.7, 1.43)}, p=0.75, resolved={}, do_run=True, is_random=True),\n",
        "            RandTransform(tfm=TfmCoord (jitter), kwargs={'magnitude': (-0.01, 0.01)}, p=0.3, resolved={}, do_run=True, is_random=True),\n",
        "            RandTransform(tfm=TfmCoord (skew), kwargs={'direction': (0, 7), 'magnitude': (0.2)}, p=0.75, resolved={}, do_run=True, is_random=True),\n",
        "            RandTransform(tfm=TfmAffine (squish), kwargs={'scale': (0.42, 2.4), 'row_pct': (0, 1), 'col_pct': (0, 1)}, p=0.75, resolved={}, do_run=True, is_random=True)], \n",
        "           [RandTransform(tfm=TfmCrop (crop_pad), kwargs={}, p=1.0, resolved={}, do_run=True, is_random=True)])"
      ],
      "execution_count": null,
      "outputs": []
    },
    {
      "cell_type": "code",
      "metadata": {
        "id": "Ne-_gnVw-hLE"
      },
      "source": [
        "def seed_everything(seed):\n",
        "    random.seed(seed)\n",
        "    os.environ['PYTHONHASHSEED'] = str(seed)\n",
        "    np.random.seed(seed)\n",
        "    torch.manual_seed(seed)\n",
        "    torch.cuda.manual_seed(seed)\n",
        "    torch.backends.cudnn.deterministic = True\n",
        "    \n",
        "seed_everything(40)"
      ],
      "execution_count": null,
      "outputs": []
    },
    {
      "cell_type": "code",
      "metadata": {
        "id": "qqKJau5dTR-f"
      },
      "source": [
        "def evaluate_performance(y_true, y_predict):\n",
        "  import sklearn.metrics as metrics\n",
        "  print(f\"{metrics.classification_report(y_true.items, y_predict)}\\n\")\n",
        "\n",
        "  import matplotlib.pyplot as plt\n",
        "  from sklearn.metrics import confusion_matrix\n",
        "\n",
        "  cm1 = confusion_matrix(y_true.items,y_predict)\n",
        "  print(cm1)\n",
        "\n",
        "  print(\"No.of validation set samples predicted correctly \",sum(cm1.diagonal()))\n",
        "  print(\"No.of misclassified samples \", len(y_predict)-sum(cm1.diagonal()))\n",
        "\n",
        "  #Calculating the True Occurences\n",
        "  true_occ= []\n",
        "  for i in range(len(cm1)):\n",
        "    true_occ.append(sum(cm1[:,i]))\n",
        "\n",
        "  #Calculating the recall for all the categories\n",
        "  dia = cm1.diagonal()\n",
        "  prediction_prob=[]\n",
        "  for i in range(len(cm1)):\n",
        "    tmp_prob = dia[i]/true_occ[i]\n",
        "    prediction_prob.append(tmp_prob)\n",
        "\n",
        "  incorrect_class = prediction_prob.index(min(prediction_prob))\n",
        "  correct_class = prediction_prob.index(max(prediction_prob))\n",
        "  print(\"Food category with more no.of correct predictions \",y_true.classes[correct_class] )\n",
        "  print(\"Food category with min no.of correct predictions \",y_true.classes[incorrect_class] )"
      ],
      "execution_count": null,
      "outputs": []
    },
    {
      "cell_type": "code",
      "metadata": {
        "id": "LBLwPgl3gfKL"
      },
      "source": [
        "#checking if the valid items are the same\n",
        "def crossverify(data_valid_y):\n",
        "  oop = pd.DataFrame(data_valid_y.items)\n",
        "  count_valid = oop.value_counts()\n",
        "  cat_vd = []\n",
        "  count_vd=[]\n",
        "  for i in range(101):\n",
        "    cat_vd.append(i)\n",
        "    count_vd.append(count_valid[i])\n",
        "  dict_shift = dict(zip(cat_vd, count_vd))\n",
        "  count_id = np.array(count_vd)\n",
        "  if (count_id[0] == 149 and count_id[1]==138 and count_id[2]==150 and count_id[3]==154):\n",
        "    return True\n",
        "  else:\n",
        "    return False"
      ],
      "execution_count": null,
      "outputs": []
    },
    {
      "cell_type": "markdown",
      "metadata": {
        "id": "O6R_S_GJUApT"
      },
      "source": [
        "**ResNET152** "
      ]
    },
    {
      "cell_type": "code",
      "metadata": {
        "id": "YbiJ4HXJ-sqM"
      },
      "source": [
        "bs_res = 16\n",
        "arch = models.resnet152\n",
        "img_size_res = 224\n",
        "\n",
        "def seed_everything(seed):\n",
        "    random.seed(seed)\n",
        "    os.environ['PYTHONHASHSEED'] = str(seed)\n",
        "    np.random.seed(seed)\n",
        "    torch.manual_seed(seed)\n",
        "    torch.cuda.manual_seed(seed)\n",
        "    torch.backends.cudnn.deterministic = True\n",
        "    \n",
        "seed_everything(40)"
      ],
      "execution_count": null,
      "outputs": []
    },
    {
      "cell_type": "code",
      "metadata": {
        "colab": {
          "base_uri": "https://localhost:8080/",
          "height": 476
        },
        "id": "Uiuc4uHa-vKB",
        "outputId": "052e7f5b-40e5-41f9-97e0-96b17950ff4c"
      },
      "source": [
        "data = (ImageList.from_df(df=train_df, path=path/'images', cols=1)\n",
        "        .split_by_rand_pct(0.2)\n",
        "        .label_from_df(cols=0)\n",
        "        .transform(ds_tfms, size=img_size)\n",
        "        .databunch(bs=bs)\n",
        "        .normalize(imagenet_stats))"
      ],
      "execution_count": null,
      "outputs": [
        {
          "output_type": "error",
          "ename": "Exception",
          "evalue": "ignored",
          "traceback": [
            "\u001b[0;31m---------------------------------------------------------------------------\u001b[0m",
            "\u001b[0;31mRecursionError\u001b[0m                            Traceback (most recent call last)",
            "\u001b[0;32m/usr/local/lib/python3.7/dist-packages/fastai/data_block.py\u001b[0m in \u001b[0;36m_check_kwargs\u001b[0;34m(ds, tfms, **kwargs)\u001b[0m\n\u001b[1;32m    597\u001b[0m         \u001b[0mx\u001b[0m \u001b[0;34m=\u001b[0m \u001b[0mds\u001b[0m\u001b[0;34m[\u001b[0m\u001b[0;36m0\u001b[0m\u001b[0;34m]\u001b[0m\u001b[0;34m\u001b[0m\u001b[0;34m\u001b[0m\u001b[0m\n\u001b[0;32m--> 598\u001b[0;31m         \u001b[0;32mtry\u001b[0m\u001b[0;34m:\u001b[0m \u001b[0mx\u001b[0m\u001b[0;34m.\u001b[0m\u001b[0mapply_tfms\u001b[0m\u001b[0;34m(\u001b[0m\u001b[0mtfms\u001b[0m\u001b[0;34m,\u001b[0m \u001b[0;34m**\u001b[0m\u001b[0mkwargs\u001b[0m\u001b[0;34m)\u001b[0m\u001b[0;34m\u001b[0m\u001b[0;34m\u001b[0m\u001b[0m\n\u001b[0m\u001b[1;32m    599\u001b[0m         \u001b[0;32mexcept\u001b[0m \u001b[0mException\u001b[0m \u001b[0;32mas\u001b[0m \u001b[0me\u001b[0m\u001b[0;34m:\u001b[0m\u001b[0;34m\u001b[0m\u001b[0;34m\u001b[0m\u001b[0m\n",
            "\u001b[0;32m/usr/local/lib/python3.7/dist-packages/fastai/vision/image.py\u001b[0m in \u001b[0;36mapply_tfms\u001b[0;34m(self, tfms, do_resolve, xtra, size, resize_method, mult, padding_mode, mode, remove_out)\u001b[0m\n\u001b[1;32m    122\u001b[0m                     \u001b[0mx\u001b[0m \u001b[0;34m=\u001b[0m \u001b[0mtfm\u001b[0m\u001b[0;34m(\u001b[0m\u001b[0mx\u001b[0m\u001b[0;34m,\u001b[0m \u001b[0msize\u001b[0m\u001b[0;34m=\u001b[0m\u001b[0m_get_crop_target\u001b[0m\u001b[0;34m(\u001b[0m\u001b[0msize\u001b[0m\u001b[0;34m,\u001b[0m\u001b[0mmult\u001b[0m\u001b[0;34m=\u001b[0m\u001b[0mmult\u001b[0m\u001b[0;34m)\u001b[0m\u001b[0;34m,\u001b[0m \u001b[0mpadding_mode\u001b[0m\u001b[0;34m=\u001b[0m\u001b[0mpadding_mode\u001b[0m\u001b[0;34m)\u001b[0m\u001b[0;34m\u001b[0m\u001b[0;34m\u001b[0m\u001b[0m\n\u001b[0;32m--> 123\u001b[0;31m             \u001b[0;32melse\u001b[0m\u001b[0;34m:\u001b[0m \u001b[0mx\u001b[0m \u001b[0;34m=\u001b[0m \u001b[0mtfm\u001b[0m\u001b[0;34m(\u001b[0m\u001b[0mx\u001b[0m\u001b[0;34m)\u001b[0m\u001b[0;34m\u001b[0m\u001b[0;34m\u001b[0m\u001b[0m\n\u001b[0m\u001b[1;32m    124\u001b[0m         \u001b[0;32mreturn\u001b[0m \u001b[0mx\u001b[0m\u001b[0;34m.\u001b[0m\u001b[0mrefresh\u001b[0m\u001b[0;34m(\u001b[0m\u001b[0;34m)\u001b[0m\u001b[0;34m\u001b[0m\u001b[0;34m\u001b[0m\u001b[0m\n",
            "\u001b[0;32m/usr/local/lib/python3.7/dist-packages/fastai/vision/image.py\u001b[0m in \u001b[0;36m__call__\u001b[0;34m(self, x, *args, **kwargs)\u001b[0m\n\u001b[1;32m    523\u001b[0m         \u001b[0;34m\"Randomly execute our tfm on `x`.\"\u001b[0m\u001b[0;34m\u001b[0m\u001b[0;34m\u001b[0m\u001b[0m\n\u001b[0;32m--> 524\u001b[0;31m         \u001b[0;32mreturn\u001b[0m \u001b[0mself\u001b[0m\u001b[0;34m.\u001b[0m\u001b[0mtfm\u001b[0m\u001b[0;34m(\u001b[0m\u001b[0mx\u001b[0m\u001b[0;34m,\u001b[0m \u001b[0;34m*\u001b[0m\u001b[0margs\u001b[0m\u001b[0;34m,\u001b[0m \u001b[0;34m**\u001b[0m\u001b[0;34m{\u001b[0m\u001b[0;34m**\u001b[0m\u001b[0mself\u001b[0m\u001b[0;34m.\u001b[0m\u001b[0mresolved\u001b[0m\u001b[0;34m,\u001b[0m \u001b[0;34m**\u001b[0m\u001b[0mkwargs\u001b[0m\u001b[0;34m}\u001b[0m\u001b[0;34m)\u001b[0m \u001b[0;32mif\u001b[0m \u001b[0mself\u001b[0m\u001b[0;34m.\u001b[0m\u001b[0mdo_run\u001b[0m \u001b[0;32melse\u001b[0m \u001b[0mx\u001b[0m\u001b[0;34m\u001b[0m\u001b[0;34m\u001b[0m\u001b[0m\n\u001b[0m\u001b[1;32m    525\u001b[0m \u001b[0;34m\u001b[0m\u001b[0m\n",
            "\u001b[0;32m/usr/local/lib/python3.7/dist-packages/fastai/vision/image.py\u001b[0m in \u001b[0;36m__call__\u001b[0;34m(self, p, is_random, use_on_y, *args, **kwargs)\u001b[0m\n\u001b[1;32m    469\u001b[0m         \u001b[0;34m\"Calc now if `args` passed; else create a transform called prob `p` if `random`.\"\u001b[0m\u001b[0;34m\u001b[0m\u001b[0;34m\u001b[0m\u001b[0m\n\u001b[0;32m--> 470\u001b[0;31m         \u001b[0;32mif\u001b[0m \u001b[0margs\u001b[0m\u001b[0;34m:\u001b[0m \u001b[0;32mreturn\u001b[0m \u001b[0mself\u001b[0m\u001b[0;34m.\u001b[0m\u001b[0mcalc\u001b[0m\u001b[0;34m(\u001b[0m\u001b[0;34m*\u001b[0m\u001b[0margs\u001b[0m\u001b[0;34m,\u001b[0m \u001b[0;34m**\u001b[0m\u001b[0mkwargs\u001b[0m\u001b[0;34m)\u001b[0m\u001b[0;34m\u001b[0m\u001b[0;34m\u001b[0m\u001b[0m\n\u001b[0m\u001b[1;32m    471\u001b[0m         \u001b[0;32melse\u001b[0m\u001b[0;34m:\u001b[0m \u001b[0;32mreturn\u001b[0m \u001b[0mRandTransform\u001b[0m\u001b[0;34m(\u001b[0m\u001b[0mself\u001b[0m\u001b[0;34m,\u001b[0m \u001b[0mkwargs\u001b[0m\u001b[0;34m=\u001b[0m\u001b[0mkwargs\u001b[0m\u001b[0;34m,\u001b[0m \u001b[0mis_random\u001b[0m\u001b[0;34m=\u001b[0m\u001b[0mis_random\u001b[0m\u001b[0;34m,\u001b[0m \u001b[0muse_on_y\u001b[0m\u001b[0;34m=\u001b[0m\u001b[0muse_on_y\u001b[0m\u001b[0;34m,\u001b[0m \u001b[0mp\u001b[0m\u001b[0;34m=\u001b[0m\u001b[0mp\u001b[0m\u001b[0;34m)\u001b[0m\u001b[0;34m\u001b[0m\u001b[0;34m\u001b[0m\u001b[0m\n",
            "\u001b[0;32m/usr/local/lib/python3.7/dist-packages/fastai/vision/image.py\u001b[0m in \u001b[0;36mcalc\u001b[0;34m(self, x, *args, **kwargs)\u001b[0m\n\u001b[1;32m    474\u001b[0m         \u001b[0;34m\"Apply to image `x`, wrapping it if necessary.\"\u001b[0m\u001b[0;34m\u001b[0m\u001b[0;34m\u001b[0m\u001b[0m\n\u001b[0;32m--> 475\u001b[0;31m         \u001b[0;32mif\u001b[0m \u001b[0mself\u001b[0m\u001b[0;34m.\u001b[0m\u001b[0m_wrap\u001b[0m\u001b[0;34m:\u001b[0m \u001b[0;32mreturn\u001b[0m \u001b[0mgetattr\u001b[0m\u001b[0;34m(\u001b[0m\u001b[0mx\u001b[0m\u001b[0;34m,\u001b[0m \u001b[0mself\u001b[0m\u001b[0;34m.\u001b[0m\u001b[0m_wrap\u001b[0m\u001b[0;34m)\u001b[0m\u001b[0;34m(\u001b[0m\u001b[0mself\u001b[0m\u001b[0;34m.\u001b[0m\u001b[0mfunc\u001b[0m\u001b[0;34m,\u001b[0m \u001b[0;34m*\u001b[0m\u001b[0margs\u001b[0m\u001b[0;34m,\u001b[0m \u001b[0;34m**\u001b[0m\u001b[0mkwargs\u001b[0m\u001b[0;34m)\u001b[0m\u001b[0;34m\u001b[0m\u001b[0;34m\u001b[0m\u001b[0m\n\u001b[0m\u001b[1;32m    476\u001b[0m         \u001b[0;32melse\u001b[0m\u001b[0;34m:\u001b[0m          \u001b[0;32mreturn\u001b[0m \u001b[0mself\u001b[0m\u001b[0;34m.\u001b[0m\u001b[0mfunc\u001b[0m\u001b[0;34m(\u001b[0m\u001b[0mx\u001b[0m\u001b[0;34m,\u001b[0m \u001b[0;34m*\u001b[0m\u001b[0margs\u001b[0m\u001b[0;34m,\u001b[0m \u001b[0;34m**\u001b[0m\u001b[0mkwargs\u001b[0m\u001b[0;34m)\u001b[0m\u001b[0;34m\u001b[0m\u001b[0;34m\u001b[0m\u001b[0m\n",
            "\u001b[0;32m/usr/local/lib/python3.7/dist-packages/fastai/vision/image.py\u001b[0m in \u001b[0;36m<lambda>\u001b[0;34m(x, *args, **kwargs)\u001b[0m\n\u001b[1;32m    465\u001b[0m         setattr(Image, func.__name__,\n\u001b[0;32m--> 466\u001b[0;31m                 lambda x, *args, **kwargs: self.calc(x, *args, **kwargs))\n\u001b[0m\u001b[1;32m    467\u001b[0m \u001b[0;34m\u001b[0m\u001b[0m\n",
            "... last 2 frames repeated, from the frame below ...\n",
            "\u001b[0;32m/usr/local/lib/python3.7/dist-packages/fastai/vision/image.py\u001b[0m in \u001b[0;36mcalc\u001b[0;34m(self, x, *args, **kwargs)\u001b[0m\n\u001b[1;32m    474\u001b[0m         \u001b[0;34m\"Apply to image `x`, wrapping it if necessary.\"\u001b[0m\u001b[0;34m\u001b[0m\u001b[0;34m\u001b[0m\u001b[0m\n\u001b[0;32m--> 475\u001b[0;31m         \u001b[0;32mif\u001b[0m \u001b[0mself\u001b[0m\u001b[0;34m.\u001b[0m\u001b[0m_wrap\u001b[0m\u001b[0;34m:\u001b[0m \u001b[0;32mreturn\u001b[0m \u001b[0mgetattr\u001b[0m\u001b[0;34m(\u001b[0m\u001b[0mx\u001b[0m\u001b[0;34m,\u001b[0m \u001b[0mself\u001b[0m\u001b[0;34m.\u001b[0m\u001b[0m_wrap\u001b[0m\u001b[0;34m)\u001b[0m\u001b[0;34m(\u001b[0m\u001b[0mself\u001b[0m\u001b[0;34m.\u001b[0m\u001b[0mfunc\u001b[0m\u001b[0;34m,\u001b[0m \u001b[0;34m*\u001b[0m\u001b[0margs\u001b[0m\u001b[0;34m,\u001b[0m \u001b[0;34m**\u001b[0m\u001b[0mkwargs\u001b[0m\u001b[0;34m)\u001b[0m\u001b[0;34m\u001b[0m\u001b[0;34m\u001b[0m\u001b[0m\n\u001b[0m\u001b[1;32m    476\u001b[0m         \u001b[0;32melse\u001b[0m\u001b[0;34m:\u001b[0m          \u001b[0;32mreturn\u001b[0m \u001b[0mself\u001b[0m\u001b[0;34m.\u001b[0m\u001b[0mfunc\u001b[0m\u001b[0;34m(\u001b[0m\u001b[0mx\u001b[0m\u001b[0;34m,\u001b[0m \u001b[0;34m*\u001b[0m\u001b[0margs\u001b[0m\u001b[0;34m,\u001b[0m \u001b[0;34m**\u001b[0m\u001b[0mkwargs\u001b[0m\u001b[0;34m)\u001b[0m\u001b[0;34m\u001b[0m\u001b[0;34m\u001b[0m\u001b[0m\n",
            "\u001b[0;31mRecursionError\u001b[0m: maximum recursion depth exceeded while calling a Python object",
            "\nDuring handling of the above exception, another exception occurred:\n",
            "\u001b[0;31mException\u001b[0m                                 Traceback (most recent call last)",
            "\u001b[0;32m<ipython-input-454-26a59476b257>\u001b[0m in \u001b[0;36m<module>\u001b[0;34m()\u001b[0m\n\u001b[1;32m      2\u001b[0m         \u001b[0;34m.\u001b[0m\u001b[0msplit_by_rand_pct\u001b[0m\u001b[0;34m(\u001b[0m\u001b[0;36m0.2\u001b[0m\u001b[0;34m)\u001b[0m\u001b[0;34m\u001b[0m\u001b[0;34m\u001b[0m\u001b[0m\n\u001b[1;32m      3\u001b[0m         \u001b[0;34m.\u001b[0m\u001b[0mlabel_from_df\u001b[0m\u001b[0;34m(\u001b[0m\u001b[0mcols\u001b[0m\u001b[0;34m=\u001b[0m\u001b[0;36m0\u001b[0m\u001b[0;34m)\u001b[0m\u001b[0;34m\u001b[0m\u001b[0;34m\u001b[0m\u001b[0m\n\u001b[0;32m----> 4\u001b[0;31m         \u001b[0;34m.\u001b[0m\u001b[0mtransform\u001b[0m\u001b[0;34m(\u001b[0m\u001b[0mds_tfms\u001b[0m\u001b[0;34m,\u001b[0m \u001b[0msize\u001b[0m\u001b[0;34m=\u001b[0m\u001b[0mimg_size\u001b[0m\u001b[0;34m)\u001b[0m\u001b[0;34m\u001b[0m\u001b[0;34m\u001b[0m\u001b[0m\n\u001b[0m\u001b[1;32m      5\u001b[0m         \u001b[0;34m.\u001b[0m\u001b[0mdatabunch\u001b[0m\u001b[0;34m(\u001b[0m\u001b[0mbs\u001b[0m\u001b[0;34m=\u001b[0m\u001b[0mbs\u001b[0m\u001b[0;34m)\u001b[0m\u001b[0;34m\u001b[0m\u001b[0;34m\u001b[0m\u001b[0m\n\u001b[1;32m      6\u001b[0m         .normalize(imagenet_stats))\n",
            "\u001b[0;32m/usr/local/lib/python3.7/dist-packages/fastai/data_block.py\u001b[0m in \u001b[0;36mtransform\u001b[0;34m(self, tfms, **kwargs)\u001b[0m\n\u001b[1;32m    507\u001b[0m         \u001b[0;32mif\u001b[0m \u001b[0;32mnot\u001b[0m \u001b[0mtfms\u001b[0m\u001b[0;34m:\u001b[0m \u001b[0mtfms\u001b[0m\u001b[0;34m=\u001b[0m\u001b[0;34m(\u001b[0m\u001b[0;32mNone\u001b[0m\u001b[0;34m,\u001b[0m\u001b[0;32mNone\u001b[0m\u001b[0;34m)\u001b[0m\u001b[0;34m\u001b[0m\u001b[0;34m\u001b[0m\u001b[0m\n\u001b[1;32m    508\u001b[0m         \u001b[0;32massert\u001b[0m \u001b[0mis_listy\u001b[0m\u001b[0;34m(\u001b[0m\u001b[0mtfms\u001b[0m\u001b[0;34m)\u001b[0m \u001b[0;32mand\u001b[0m \u001b[0mlen\u001b[0m\u001b[0;34m(\u001b[0m\u001b[0mtfms\u001b[0m\u001b[0;34m)\u001b[0m \u001b[0;34m==\u001b[0m \u001b[0;36m2\u001b[0m\u001b[0;34m,\u001b[0m \u001b[0;34m\"Please pass a list of two lists of transforms (train and valid).\"\u001b[0m\u001b[0;34m\u001b[0m\u001b[0;34m\u001b[0m\u001b[0m\n\u001b[0;32m--> 509\u001b[0;31m         \u001b[0mself\u001b[0m\u001b[0;34m.\u001b[0m\u001b[0mtrain\u001b[0m\u001b[0;34m.\u001b[0m\u001b[0mtransform\u001b[0m\u001b[0;34m(\u001b[0m\u001b[0mtfms\u001b[0m\u001b[0;34m[\u001b[0m\u001b[0;36m0\u001b[0m\u001b[0;34m]\u001b[0m\u001b[0;34m,\u001b[0m \u001b[0;34m**\u001b[0m\u001b[0mkwargs\u001b[0m\u001b[0;34m)\u001b[0m\u001b[0;34m\u001b[0m\u001b[0;34m\u001b[0m\u001b[0m\n\u001b[0m\u001b[1;32m    510\u001b[0m         \u001b[0mself\u001b[0m\u001b[0;34m.\u001b[0m\u001b[0mvalid\u001b[0m\u001b[0;34m.\u001b[0m\u001b[0mtransform\u001b[0m\u001b[0;34m(\u001b[0m\u001b[0mtfms\u001b[0m\u001b[0;34m[\u001b[0m\u001b[0;36m1\u001b[0m\u001b[0;34m]\u001b[0m\u001b[0;34m,\u001b[0m \u001b[0;34m**\u001b[0m\u001b[0mkwargs\u001b[0m\u001b[0;34m)\u001b[0m\u001b[0;34m\u001b[0m\u001b[0;34m\u001b[0m\u001b[0m\n\u001b[1;32m    511\u001b[0m         \u001b[0;32mif\u001b[0m \u001b[0mself\u001b[0m\u001b[0;34m.\u001b[0m\u001b[0mtest\u001b[0m\u001b[0;34m:\u001b[0m \u001b[0mself\u001b[0m\u001b[0;34m.\u001b[0m\u001b[0mtest\u001b[0m\u001b[0;34m.\u001b[0m\u001b[0mtransform\u001b[0m\u001b[0;34m(\u001b[0m\u001b[0mtfms\u001b[0m\u001b[0;34m[\u001b[0m\u001b[0;36m1\u001b[0m\u001b[0;34m]\u001b[0m\u001b[0;34m,\u001b[0m \u001b[0;34m**\u001b[0m\u001b[0mkwargs\u001b[0m\u001b[0;34m)\u001b[0m\u001b[0;34m\u001b[0m\u001b[0;34m\u001b[0m\u001b[0m\n",
            "\u001b[0;32m/usr/local/lib/python3.7/dist-packages/fastai/data_block.py\u001b[0m in \u001b[0;36mtransform\u001b[0;34m(self, tfms, tfm_y, **kwargs)\u001b[0m\n\u001b[1;32m    726\u001b[0m     \u001b[0;32mdef\u001b[0m \u001b[0mtransform\u001b[0m\u001b[0;34m(\u001b[0m\u001b[0mself\u001b[0m\u001b[0;34m,\u001b[0m \u001b[0mtfms\u001b[0m\u001b[0;34m:\u001b[0m\u001b[0mTfmList\u001b[0m\u001b[0;34m,\u001b[0m \u001b[0mtfm_y\u001b[0m\u001b[0;34m:\u001b[0m\u001b[0mbool\u001b[0m\u001b[0;34m=\u001b[0m\u001b[0;32mNone\u001b[0m\u001b[0;34m,\u001b[0m \u001b[0;34m**\u001b[0m\u001b[0mkwargs\u001b[0m\u001b[0;34m)\u001b[0m\u001b[0;34m:\u001b[0m\u001b[0;34m\u001b[0m\u001b[0;34m\u001b[0m\u001b[0m\n\u001b[1;32m    727\u001b[0m         \u001b[0;34m\"Set the `tfms` and `tfm_y` value to be applied to the inputs and targets.\"\u001b[0m\u001b[0;34m\u001b[0m\u001b[0;34m\u001b[0m\u001b[0m\n\u001b[0;32m--> 728\u001b[0;31m         \u001b[0m_check_kwargs\u001b[0m\u001b[0;34m(\u001b[0m\u001b[0mself\u001b[0m\u001b[0;34m.\u001b[0m\u001b[0mx\u001b[0m\u001b[0;34m,\u001b[0m \u001b[0mtfms\u001b[0m\u001b[0;34m,\u001b[0m \u001b[0;34m**\u001b[0m\u001b[0mkwargs\u001b[0m\u001b[0;34m)\u001b[0m\u001b[0;34m\u001b[0m\u001b[0;34m\u001b[0m\u001b[0m\n\u001b[0m\u001b[1;32m    729\u001b[0m         \u001b[0;32mif\u001b[0m \u001b[0mtfm_y\u001b[0m \u001b[0;32mis\u001b[0m \u001b[0;32mNone\u001b[0m\u001b[0;34m:\u001b[0m \u001b[0mtfm_y\u001b[0m \u001b[0;34m=\u001b[0m \u001b[0mself\u001b[0m\u001b[0;34m.\u001b[0m\u001b[0mtfm_y\u001b[0m\u001b[0;34m\u001b[0m\u001b[0;34m\u001b[0m\u001b[0m\n\u001b[1;32m    730\u001b[0m         \u001b[0mtfms_y\u001b[0m \u001b[0;34m=\u001b[0m \u001b[0;32mNone\u001b[0m \u001b[0;32mif\u001b[0m \u001b[0mtfms\u001b[0m \u001b[0;32mis\u001b[0m \u001b[0;32mNone\u001b[0m \u001b[0;32melse\u001b[0m \u001b[0mlist\u001b[0m\u001b[0;34m(\u001b[0m\u001b[0mfilter\u001b[0m\u001b[0;34m(\u001b[0m\u001b[0;32mlambda\u001b[0m \u001b[0mt\u001b[0m\u001b[0;34m:\u001b[0m \u001b[0mgetattr\u001b[0m\u001b[0;34m(\u001b[0m\u001b[0mt\u001b[0m\u001b[0;34m,\u001b[0m \u001b[0;34m'use_on_y'\u001b[0m\u001b[0;34m,\u001b[0m \u001b[0;32mTrue\u001b[0m\u001b[0;34m)\u001b[0m\u001b[0;34m,\u001b[0m \u001b[0mlistify\u001b[0m\u001b[0;34m(\u001b[0m\u001b[0mtfms\u001b[0m\u001b[0;34m)\u001b[0m\u001b[0;34m)\u001b[0m\u001b[0;34m)\u001b[0m\u001b[0;34m\u001b[0m\u001b[0;34m\u001b[0m\u001b[0m\n",
            "\u001b[0;32m/usr/local/lib/python3.7/dist-packages/fastai/data_block.py\u001b[0m in \u001b[0;36m_check_kwargs\u001b[0;34m(ds, tfms, **kwargs)\u001b[0m\n\u001b[1;32m    598\u001b[0m         \u001b[0;32mtry\u001b[0m\u001b[0;34m:\u001b[0m \u001b[0mx\u001b[0m\u001b[0;34m.\u001b[0m\u001b[0mapply_tfms\u001b[0m\u001b[0;34m(\u001b[0m\u001b[0mtfms\u001b[0m\u001b[0;34m,\u001b[0m \u001b[0;34m**\u001b[0m\u001b[0mkwargs\u001b[0m\u001b[0;34m)\u001b[0m\u001b[0;34m\u001b[0m\u001b[0;34m\u001b[0m\u001b[0m\n\u001b[1;32m    599\u001b[0m         \u001b[0;32mexcept\u001b[0m \u001b[0mException\u001b[0m \u001b[0;32mas\u001b[0m \u001b[0me\u001b[0m\u001b[0;34m:\u001b[0m\u001b[0;34m\u001b[0m\u001b[0;34m\u001b[0m\u001b[0m\n\u001b[0;32m--> 600\u001b[0;31m             \u001b[0;32mraise\u001b[0m \u001b[0mException\u001b[0m\u001b[0;34m(\u001b[0m\u001b[0;34mf\"It's not possible to apply those transforms to your dataset:\\n {e}\"\u001b[0m\u001b[0;34m)\u001b[0m\u001b[0;34m\u001b[0m\u001b[0;34m\u001b[0m\u001b[0m\n\u001b[0m\u001b[1;32m    601\u001b[0m \u001b[0;34m\u001b[0m\u001b[0m\n\u001b[1;32m    602\u001b[0m \u001b[0;32mclass\u001b[0m \u001b[0mLabelList\u001b[0m\u001b[0;34m(\u001b[0m\u001b[0mDataset\u001b[0m\u001b[0;34m)\u001b[0m\u001b[0;34m:\u001b[0m\u001b[0;34m\u001b[0m\u001b[0;34m\u001b[0m\u001b[0m\n",
            "\u001b[0;31mException\u001b[0m: It's not possible to apply those transforms to your dataset:\n maximum recursion depth exceeded while calling a Python object"
          ]
        }
      ]
    },
    {
      "cell_type": "code",
      "metadata": {
        "colab": {
          "base_uri": "https://localhost:8080/",
          "height": 408
        },
        "id": "1clcTjCM-2kY",
        "outputId": "017daa94-1cf9-481d-9648-497f06db466e"
      },
      "source": [
        "top_5 = partial(top_k_accuracy, k=5)\n",
        "learn = cnn_learner(data, arch, metrics=[accuracy, top_5], callback_fns=ShowGraph).to_fp16()\n",
        "\n",
        "learn.lr_find()\n",
        "learn.recorder.plot(suggestion=True)"
      ],
      "execution_count": null,
      "outputs": [
        {
          "output_type": "display_data",
          "data": {
            "text/html": [
              "\n",
              "    <div>\n",
              "        <style>\n",
              "            /* Turns off some styling */\n",
              "            progress {\n",
              "                /* gets rid of default border in Firefox and Opera. */\n",
              "                border: none;\n",
              "                /* Needs to be in here for Safari polyfill so background images work as expected. */\n",
              "                background-size: auto;\n",
              "            }\n",
              "            .progress-bar-interrupted, .progress-bar-interrupted::-webkit-progress-bar {\n",
              "                background: #F44336;\n",
              "            }\n",
              "        </style>\n",
              "      <progress value='0' class='' max='1' style='width:300px; height:20px; vertical-align: middle;'></progress>\n",
              "      0.00% [0/1 00:00<00:00]\n",
              "    </div>\n",
              "    \n",
              "<table border=\"1\" class=\"dataframe\">\n",
              "  <thead>\n",
              "    <tr style=\"text-align: left;\">\n",
              "      <th>epoch</th>\n",
              "      <th>train_loss</th>\n",
              "      <th>valid_loss</th>\n",
              "      <th>accuracy</th>\n",
              "      <th>top_k_accuracy</th>\n",
              "      <th>time</th>\n",
              "    </tr>\n",
              "  </thead>\n",
              "  <tbody>\n",
              "  </tbody>\n",
              "</table><p>\n",
              "\n",
              "    <div>\n",
              "        <style>\n",
              "            /* Turns off some styling */\n",
              "            progress {\n",
              "                /* gets rid of default border in Firefox and Opera. */\n",
              "                border: none;\n",
              "                /* Needs to be in here for Safari polyfill so background images work as expected. */\n",
              "                background-size: auto;\n",
              "            }\n",
              "            .progress-bar-interrupted, .progress-bar-interrupted::-webkit-progress-bar {\n",
              "                background: #F44336;\n",
              "            }\n",
              "        </style>\n",
              "      <progress value='89' class='' max='3787' style='width:300px; height:20px; vertical-align: middle;'></progress>\n",
              "      2.35% [89/3787 00:19<13:30 23.0023]\n",
              "    </div>\n",
              "    "
            ],
            "text/plain": [
              "<IPython.core.display.HTML object>"
            ]
          },
          "metadata": {
            "tags": []
          }
        },
        {
          "output_type": "stream",
          "text": [
            "LR Finder is complete, type {learner_name}.recorder.plot() to see the graph.\n",
            "Min numerical gradient: 1.58E-06\n",
            "Min loss divided by 10: 2.29E-03\n"
          ],
          "name": "stdout"
        },
        {
          "output_type": "display_data",
          "data": {
            "image/png": "[encoded data removed]",
            "text/plain": [
              "<Figure size 432x288 with 1 Axes>"
            ]
          },
          "metadata": {
            "tags": [],
            "needs_background": "light"
          }
        }
      ]
    },
    {
      "cell_type": "code",
      "metadata": {
        "colab": {
          "base_uri": "https://localhost:8080/",
          "height": 393
        },
        "id": "9zcy9gG6-6Ec",
        "outputId": "cd1ed21d-1497-415d-888b-6d3454790a17"
      },
      "source": [
        "lr = 3e-3\n",
        "learn.fit_one_cycle(3, max_lr=slice(lr))\n",
        "learn.save('/content/drive/MyDrive/food-ResNET101-train-e3')"
      ],
      "execution_count": null,
      "outputs": [
        {
          "output_type": "display_data",
          "data": {
            "text/html": [
              "<table border=\"1\" class=\"dataframe\">\n",
              "  <thead>\n",
              "    <tr style=\"text-align: left;\">\n",
              "      <th>epoch</th>\n",
              "      <th>train_loss</th>\n",
              "      <th>valid_loss</th>\n",
              "      <th>accuracy</th>\n",
              "      <th>top_k_accuracy</th>\n",
              "      <th>time</th>\n",
              "    </tr>\n",
              "  </thead>\n",
              "  <tbody>\n",
              "    <tr>\n",
              "      <td>0</td>\n",
              "      <td>2.381126</td>\n",
              "      <td>1.640651</td>\n",
              "      <td>0.579076</td>\n",
              "      <td>0.832145</td>\n",
              "      <td>14:07</td>\n",
              "    </tr>\n",
              "    <tr>\n",
              "      <td>1</td>\n",
              "      <td>1.852433</td>\n",
              "      <td>1.254783</td>\n",
              "      <td>0.670165</td>\n",
              "      <td>0.888383</td>\n",
              "      <td>14:10</td>\n",
              "    </tr>\n",
              "    <tr>\n",
              "      <td>2</td>\n",
              "      <td>1.687498</td>\n",
              "      <td>1.130478</td>\n",
              "      <td>0.700924</td>\n",
              "      <td>0.901122</td>\n",
              "      <td>14:06</td>\n",
              "    </tr>\n",
              "  </tbody>\n",
              "</table>"
            ],
            "text/plain": [
              "<IPython.core.display.HTML object>"
            ]
          },
          "metadata": {
            "tags": []
          }
        },
        {
          "output_type": "display_data",
          "data": {
            "image/png": "[encoded data removed]",
            "text/plain": [
              "<Figure size 432x288 with 1 Axes>"
            ]
          },
          "metadata": {
            "tags": []
          }
        }
      ]
    },
    {
      "cell_type": "code",
      "metadata": {
        "colab": {
          "base_uri": "https://localhost:8080/"
        },
        "id": "YpiHZhYssggS",
        "outputId": "aebe96d3-3ecc-44cf-898e-2e2d9d7a725b"
      },
      "source": [
        "top_5 = partial(top_k_accuracy, k=5)\n",
        "arch = models.resnet152\n",
        "learn = cnn_learner(data, arch, metrics=[accuracy, top_5], callback_fns=ShowGraph).to_fp16()\n",
        "learn.load('/content/drive/MyDrive/food-ResNET101-train-e3')\n",
        "\n",
        "start= time.time()\n",
        "Y_valid_predict = []\n",
        "for img in data.valid_dl.x:\n",
        "    tmp_predict = learn.predict(img)\n",
        "    Y_valid_predict.append(tmp_predict[1])\n",
        "end = time.time()\n",
        "print({end - start})"
      ],
      "execution_count": null,
      "outputs": [
        {
          "output_type": "stream",
          "text": [
            "{738.6841576099396}\n"
          ],
          "name": "stdout"
        }
      ]
    },
    {
      "cell_type": "code",
      "metadata": {
        "colab": {
          "base_uri": "https://localhost:8080/"
        },
        "id": "EeDWcL_UXpjV",
        "outputId": "b0f00d6a-a2a5-492c-8129-18152569494b"
      },
      "source": [
        "evaluate_performance(data.valid_dl.y,Y_valid_predict)"
      ],
      "execution_count": null,
      "outputs": [
        {
          "output_type": "stream",
          "text": [
            "              precision    recall  f1-score   support\n",
            "\n",
            "           0       0.01      0.01      0.01       149\n",
            "           1       0.01      0.01      0.01       138\n",
            "           2       0.01      0.01      0.01       150\n",
            "           3       0.01      0.01      0.01       154\n",
            "           4       0.02      0.02      0.02       141\n",
            "           5       0.00      0.00      0.00       159\n",
            "           6       0.00      0.00      0.00       133\n",
            "           7       0.00      0.01      0.01       136\n",
            "           8       0.02      0.02      0.02       164\n",
            "           9       0.01      0.01      0.01       136\n",
            "          10       0.02      0.01      0.01       143\n",
            "          11       0.01      0.01      0.01       145\n",
            "          12       0.00      0.00      0.00       157\n",
            "          13       0.00      0.00      0.00       148\n",
            "          14       0.01      0.01      0.01       149\n",
            "          15       0.01      0.01      0.01       148\n",
            "          16       0.01      0.01      0.01       167\n",
            "          17       0.00      0.01      0.01       142\n",
            "          18       0.00      0.00      0.00       148\n",
            "          19       0.01      0.01      0.01       151\n",
            "          20       0.02      0.01      0.01       163\n",
            "          21       0.01      0.01      0.01       149\n",
            "          22       0.00      0.01      0.00       145\n",
            "          23       0.01      0.01      0.01       173\n",
            "          24       0.00      0.00      0.00       154\n",
            "          25       0.01      0.01      0.01       129\n",
            "          26       0.02      0.02      0.02       154\n",
            "          27       0.04      0.04      0.04       167\n",
            "          28       0.01      0.01      0.01       154\n",
            "          29       0.00      0.00      0.00       156\n",
            "          30       0.00      0.00      0.00       127\n",
            "          31       0.01      0.01      0.01       163\n",
            "          32       0.01      0.01      0.01       149\n",
            "          33       0.01      0.01      0.01       151\n",
            "          34       0.01      0.01      0.01       139\n",
            "          35       0.01      0.01      0.01       147\n",
            "          36       0.00      0.00      0.00       151\n",
            "          37       0.01      0.01      0.01       158\n",
            "          38       0.00      0.01      0.01       134\n",
            "          39       0.01      0.03      0.02       142\n",
            "          40       0.00      0.00      0.00       135\n",
            "          41       0.02      0.02      0.02       138\n",
            "          42       0.03      0.03      0.03       148\n",
            "          43       0.01      0.01      0.01       139\n",
            "          44       0.00      0.00      0.00       139\n",
            "          45       0.02      0.02      0.02       154\n",
            "          46       0.00      0.00      0.00       155\n",
            "          47       0.00      0.00      0.00       154\n",
            "          48       0.00      0.00      0.00       152\n",
            "          49       0.01      0.01      0.01       166\n",
            "          50       0.01      0.03      0.01       160\n",
            "          51       0.00      0.00      0.00       154\n",
            "          52       0.01      0.01      0.01       149\n",
            "          53       0.01      0.01      0.01       172\n",
            "          54       0.00      0.00      0.00       159\n",
            "          55       0.00      0.00      0.00       149\n",
            "          56       0.01      0.01      0.01       146\n",
            "          57       0.01      0.01      0.01       157\n",
            "          58       0.00      0.00      0.00       133\n",
            "          59       0.02      0.01      0.02       152\n",
            "          60       0.01      0.01      0.01       164\n",
            "          61       0.01      0.01      0.01       159\n",
            "          62       0.03      0.01      0.02       141\n",
            "          63       0.02      0.01      0.02       146\n",
            "          64       0.01      0.01      0.01       145\n",
            "          65       0.02      0.02      0.02       149\n",
            "          66       0.02      0.01      0.01       165\n",
            "          67       0.01      0.02      0.01       138\n",
            "          68       0.00      0.00      0.00       148\n",
            "          69       0.01      0.01      0.01       161\n",
            "          70       0.02      0.01      0.01       171\n",
            "          71       0.00      0.00      0.00       151\n",
            "          72       0.01      0.01      0.01       147\n",
            "          73       0.01      0.01      0.01       131\n",
            "          74       0.01      0.01      0.01       150\n",
            "          75       0.00      0.00      0.00       156\n",
            "          76       0.01      0.01      0.01       149\n",
            "          77       0.01      0.06      0.02       151\n",
            "          78       0.01      0.01      0.01       163\n",
            "          79       0.01      0.01      0.01       165\n",
            "          80       0.01      0.01      0.01       142\n",
            "          81       0.01      0.03      0.02       140\n",
            "          82       0.00      0.00      0.00       162\n",
            "          83       0.02      0.01      0.02       157\n",
            "          84       0.01      0.02      0.01       131\n",
            "          85       0.00      0.00      0.00       163\n",
            "          86       0.02      0.02      0.02       147\n",
            "          87       0.01      0.01      0.01       141\n",
            "          88       0.00      0.00      0.00       143\n",
            "          89       0.01      0.01      0.01       153\n",
            "          90       0.02      0.02      0.02       151\n",
            "          91       0.00      0.00      0.00       137\n",
            "          92       0.00      0.00      0.00       151\n",
            "          93       0.00      0.01      0.01       142\n",
            "          94       0.00      0.00      0.00       150\n",
            "          95       0.01      0.01      0.01       146\n",
            "          96       0.01      0.01      0.01       133\n",
            "          97       0.00      0.00      0.00       152\n",
            "          98       0.01      0.01      0.01       152\n",
            "          99       0.02      0.02      0.02       169\n",
            "         100       0.02      0.01      0.01       164\n",
            "\n",
            "    accuracy                           0.01     15150\n",
            "   macro avg       0.01      0.01      0.01     15150\n",
            "weighted avg       0.01      0.01      0.01     15150\n",
            "\n",
            "\n",
            "[[2 0 1 2 ... 1 2 2 1]\n",
            " [0 1 2 5 ... 1 1 1 1]\n",
            " [0 0 1 1 ... 0 1 2 1]\n",
            " [1 0 2 1 ... 1 4 1 2]\n",
            " ...\n",
            " [2 0 1 1 ... 0 1 2 1]\n",
            " [1 1 1 1 ... 2 2 1 1]\n",
            " [0 0 2 0 ... 3 2 3 3]\n",
            " [0 1 1 2 ... 4 2 2 2]]\n",
            "No.of validation set samples predicted correctly  141\n",
            "No.of misclassified samples  15009\n",
            "Food category with more no.of correct predictions  creme_brulee\n",
            "Food category with min no.of correct predictions  beet_salad\n"
          ],
          "name": "stdout"
        }
      ]
    },
    {
      "cell_type": "code",
      "metadata": {
        "id": "d-E8DIdRK3BP"
      },
      "source": [
        "# learn.validate(test_data.train_dl)\n",
        "# y_preds = learn.get_preds(ds_type= test_data.train_dl)\n",
        "\n",
        "# arch = models.resnet152\n",
        "# test_data = (ImageList.from_df(df=test_df, path=path/'images', cols=1)\n",
        "#             .split_none()\n",
        "#             .label_from_df(cols=0)\n",
        "#             .transform(size=224)\n",
        "#             .databunch(bs=16)\n",
        "#             .normalize(imagenet_stats))\n",
        "\n",
        "\n",
        "# top_5 = partial(top_k_accuracy, k=5)\n",
        "# learn = cnn_learner(test_data, arch, metrics=[accuracy, top_5]).to_fp16()\n",
        "# learn.load('/content/models/food-ResNET101-train-e3')\n",
        "\n",
        "# log_preds, y = learn.TTA(ds_type=test_data.train_dl)\n",
        "# # predIdxs = np.argmax(log_preds.numpy(), axis=1)\n",
        "# accuracy(log_preds, y)"
      ],
      "execution_count": null,
      "outputs": []
    },
    {
      "cell_type": "markdown",
      "metadata": {
        "id": "lKa-6xUiVZze"
      },
      "source": [
        "**EfficientNetB0**"
      ]
    },
    {
      "cell_type": "code",
      "metadata": {
        "id": "csu_AECbOF19"
      },
      "source": [
        "#EfficientNet0 and image size 224 and see how fast it converges\n",
        "bs_effb0 = 64\n",
        "img_size_effb0 = 224 \n",
        "\n",
        "def seed_everything(seed):\n",
        "    random.seed(seed)\n",
        "    os.environ['PYTHONHASHSEED'] = str(seed)\n",
        "    np.random.seed(seed)\n",
        "    torch.manual_seed(seed)\n",
        "    torch.cuda.manual_seed(seed)\n",
        "    torch.backends.cudnn.deterministic = True\n",
        "    \n",
        "seed_everything(40)"
      ],
      "execution_count": null,
      "outputs": []
    },
    {
      "cell_type": "code",
      "metadata": {
        "id": "RwKjzt5JVhjj"
      },
      "source": [
        "data=(ImageList.from_df(df=train_df,path=path/'images',cols=1)\n",
        "      .split_by_rand_pct(0.2)\n",
        "      .label_from_df(cols=0)\n",
        "      .transform(ds_tfms,size=img_size_effb0)\n",
        "      .databunch(bs=bs_effb0)\n",
        "      .normalize(imagenet_stats))"
      ],
      "execution_count": null,
      "outputs": []
    },
    {
      "cell_type": "code",
      "metadata": {
        "colab": {
          "base_uri": "https://localhost:8080/"
        },
        "id": "XSDtJ15HVhmj",
        "outputId": "1cbbd99d-5703-4e4e-f4ab-20dca0853193"
      },
      "source": [
        "pip install --upgrade efficientnet-pytorch"
      ],
      "execution_count": null,
      "outputs": [
        {
          "output_type": "stream",
          "text": [
            "Collecting efficientnet-pytorch\n",
            "  Downloading https://files.pythonhosted.org/packages/2e/a0/dd40b50aebf0028054b6b35062948da01123d7be38d08b6b1e5435df6363/efficientnet_pytorch-0.7.1.tar.gz\n",
            "Requirement already satisfied, skipping upgrade: torch in /usr/local/lib/python3.7/dist-packages (from efficientnet-pytorch) (1.4.0)\n",
            "Building wheels for collected packages: efficientnet-pytorch\n",
            "  Building wheel for efficientnet-pytorch (setup.py) ... \u001b[?25l\u001b[?25hdone\n",
            "  Created wheel for efficientnet-pytorch: filename=efficientnet_pytorch-0.7.1-cp37-none-any.whl size=16443 sha256=5a6741d3b59161dd0752be2f647866083cb1a605902f7417206a83630ba295b5\n",
            "  Stored in directory: /root/.cache/pip/wheels/84/27/aa/c46d23c4e8cc72d41283862b1437e0b3ad318417e8ed7d5921\n",
            "Successfully built efficientnet-pytorch\n",
            "Installing collected packages: efficientnet-pytorch\n",
            "Successfully installed efficientnet-pytorch-0.7.1\n"
          ],
          "name": "stdout"
        }
      ]
    },
    {
      "cell_type": "code",
      "metadata": {
        "id": "qMXwL1ryVhpq"
      },
      "source": [
        "#Importing the Efficient net from pytorch : Original paper implemented in Keras (tpu)\n",
        "from efficientnet_pytorch import EfficientNet"
      ],
      "execution_count": null,
      "outputs": []
    },
    {
      "cell_type": "code",
      "metadata": {
        "colab": {
          "base_uri": "https://localhost:8080/",
          "height": 100,
          "referenced_widgets": [
            "71c3c7e23e6a47669971735550968bbb",
            "e33edf4a0abd485b9e929cfe2fe35914",
            "55fd516b68694b069613b4c5feefb889",
            "bf2cc73b28ed4aab97b990198eff398f",
            "f022027224ab4c6781752406c8fe2123",
            "fcbe39854a6142e5af6023d79def5e60",
            "ea7e07accdbf4baa90ae8724d0e78b0c",
            "d33c4b3d9c5f4cc3af8ec07fa48fa357"
          ]
        },
        "id": "ULO5-WrYVhuG",
        "outputId": "f9950a50-913d-4dd6-d283-0045ef61bcf6"
      },
      "source": [
        "#Loading the pretrained efficientNetB0\n",
        "model = EfficientNet.from_pretrained(\"efficientnet-b0\")"
      ],
      "execution_count": null,
      "outputs": [
        {
          "output_type": "stream",
          "text": [
            "Downloading: \"https://github.com/lukemelas/EfficientNet-PyTorch/releases/download/1.0/efficientnet-b0-355c32eb.pth\" to /root/.cache/torch/checkpoints/efficientnet-b0-355c32eb.pth\n"
          ],
          "name": "stderr"
        },
        {
          "output_type": "display_data",
          "data": {
            "application/vnd.jupyter.widget-view+json": {
              "model_id": "71c3c7e23e6a47669971735550968bbb",
              "version_minor": 0,
              "version_major": 2
            },
            "text/plain": [
              "HBox(children=(FloatProgress(value=0.0, max=21388428.0), HTML(value='')))"
            ]
          },
          "metadata": {
            "tags": []
          }
        },
        {
          "output_type": "stream",
          "text": [
            "\n",
            "Loaded pretrained weights for efficientnet-b0\n"
          ],
          "name": "stdout"
        }
      ]
    },
    {
      "cell_type": "code",
      "metadata": {
        "id": "27ZwByxrV4CJ"
      },
      "source": [
        "top_5 = partial(top_k_accuracy,k=5)\n",
        "learneffb0=Learner(data,model,metrics=[accuracy,top_5], callback_fns=ShowGraph).to_fp16() \n",
        "#by default float 32 training in 16 bits..takes only half the size. \n",
        "learneffb0.split(lambda m:(model._conv_head,)) #This helps to break the network in three parts and train with different learning rates "
      ],
      "execution_count": null,
      "outputs": []
    },
    {
      "cell_type": "code",
      "metadata": {
        "colab": {
          "base_uri": "https://localhost:8080/",
          "height": 408
        },
        "id": "1f5_tB5iV4FE",
        "outputId": "2f668a1d-e097-4ef4-b7c0-af6b232f5881"
      },
      "source": [
        "learneffb0.lr_find()\n",
        "learneffb0.recorder.plot(suggestion=True)"
      ],
      "execution_count": null,
      "outputs": [
        {
          "output_type": "display_data",
          "data": {
            "text/html": [
              "\n",
              "    <div>\n",
              "        <style>\n",
              "            /* Turns off some styling */\n",
              "            progress {\n",
              "                /* gets rid of default border in Firefox and Opera. */\n",
              "                border: none;\n",
              "                /* Needs to be in here for Safari polyfill so background images work as expected. */\n",
              "                background-size: auto;\n",
              "            }\n",
              "            .progress-bar-interrupted, .progress-bar-interrupted::-webkit-progress-bar {\n",
              "                background: #F44336;\n",
              "            }\n",
              "        </style>\n",
              "      <progress value='0' class='' max='1' style='width:300px; height:20px; vertical-align: middle;'></progress>\n",
              "      0.00% [0/1 00:00<00:00]\n",
              "    </div>\n",
              "    \n",
              "<table border=\"1\" class=\"dataframe\">\n",
              "  <thead>\n",
              "    <tr style=\"text-align: left;\">\n",
              "      <th>epoch</th>\n",
              "      <th>train_loss</th>\n",
              "      <th>valid_loss</th>\n",
              "      <th>accuracy</th>\n",
              "      <th>top_k_accuracy</th>\n",
              "      <th>time</th>\n",
              "    </tr>\n",
              "  </thead>\n",
              "  <tbody>\n",
              "  </tbody>\n",
              "</table><p>\n",
              "\n",
              "    <div>\n",
              "        <style>\n",
              "            /* Turns off some styling */\n",
              "            progress {\n",
              "                /* gets rid of default border in Firefox and Opera. */\n",
              "                border: none;\n",
              "                /* Needs to be in here for Safari polyfill so background images work as expected. */\n",
              "                background-size: auto;\n",
              "            }\n",
              "            .progress-bar-interrupted, .progress-bar-interrupted::-webkit-progress-bar {\n",
              "                background: #F44336;\n",
              "            }\n",
              "        </style>\n",
              "      <progress value='91' class='' max='946' style='width:300px; height:20px; vertical-align: middle;'></progress>\n",
              "      9.62% [91/946 00:52<08:11 21.4117]\n",
              "    </div>\n",
              "    "
            ],
            "text/plain": [
              "<IPython.core.display.HTML object>"
            ]
          },
          "metadata": {
            "tags": []
          }
        },
        {
          "output_type": "stream",
          "text": [
            "LR Finder is complete, type {learner_name}.recorder.plot() to see the graph.\n",
            "Min numerical gradient: 7.59E-03\n",
            "Min loss divided by 10: 1.00E-02\n"
          ],
          "name": "stdout"
        },
        {
          "output_type": "display_data",
          "data": {
            "image/png": "[encoded data removed]",
            "text/plain": [
              "<Figure size 432x288 with 1 Axes>"
            ]
          },
          "metadata": {
            "tags": [],
            "needs_background": "light"
          }
        }
      ]
    },
    {
      "cell_type": "code",
      "metadata": {
        "colab": {
          "base_uri": "https://localhost:8080/",
          "height": 421
        },
        "id": "j_9BF_bVV4LL",
        "outputId": "c7aed3e9-e917-418e-9d8d-5564f663112f"
      },
      "source": [
        "lr = 9e-3\n",
        "learneffb0.fit_one_cycle(4,max_lr=slice(lr))\n",
        "learneffb0.save('/content/drive/MyDrive/food-effNetb0101-train-e4')"
      ],
      "execution_count": null,
      "outputs": [
        {
          "output_type": "display_data",
          "data": {
            "text/html": [
              "<table border=\"1\" class=\"dataframe\">\n",
              "  <thead>\n",
              "    <tr style=\"text-align: left;\">\n",
              "      <th>epoch</th>\n",
              "      <th>train_loss</th>\n",
              "      <th>valid_loss</th>\n",
              "      <th>accuracy</th>\n",
              "      <th>top_k_accuracy</th>\n",
              "      <th>time</th>\n",
              "    </tr>\n",
              "  </thead>\n",
              "  <tbody>\n",
              "    <tr>\n",
              "      <td>0</td>\n",
              "      <td>1.940203</td>\n",
              "      <td>2.023063</td>\n",
              "      <td>0.564950</td>\n",
              "      <td>0.817690</td>\n",
              "      <td>10:12</td>\n",
              "    </tr>\n",
              "    <tr>\n",
              "      <td>1</td>\n",
              "      <td>1.642788</td>\n",
              "      <td>1.301134</td>\n",
              "      <td>0.672409</td>\n",
              "      <td>0.883234</td>\n",
              "      <td>10:21</td>\n",
              "    </tr>\n",
              "    <tr>\n",
              "      <td>2</td>\n",
              "      <td>1.169452</td>\n",
              "      <td>0.914325</td>\n",
              "      <td>0.762574</td>\n",
              "      <td>0.928779</td>\n",
              "      <td>10:15</td>\n",
              "    </tr>\n",
              "    <tr>\n",
              "      <td>3</td>\n",
              "      <td>0.905310</td>\n",
              "      <td>0.799026</td>\n",
              "      <td>0.792739</td>\n",
              "      <td>0.939076</td>\n",
              "      <td>10:14</td>\n",
              "    </tr>\n",
              "  </tbody>\n",
              "</table>"
            ],
            "text/plain": [
              "<IPython.core.display.HTML object>"
            ]
          },
          "metadata": {
            "tags": []
          }
        },
        {
          "output_type": "display_data",
          "data": {
            "image/png": "[encoded data removed]",
            "text/plain": [
              "<Figure size 432x288 with 1 Axes>"
            ]
          },
          "metadata": {
            "tags": []
          }
        }
      ]
    },
    {
      "cell_type": "code",
      "metadata": {
        "colab": {
          "base_uri": "https://localhost:8080/"
        },
        "id": "0pe6PswVXshl",
        "outputId": "e11faf22-fd4b-4f20-e0a8-cc66af5d5687"
      },
      "source": [
        "start= time.time()\n",
        "Y_valid_predict_eff = []\n",
        "for img in data.valid_dl.x:\n",
        "    tmp_predict = learneffb0.predict(img)\n",
        "    Y_valid_predict_eff.append(tmp_predict[1])\n",
        "end = time.time()\n",
        "print('Time taken to predict for EfficientNet  :',{end - start})\n",
        "\n",
        "import sklearn.metrics as metrics\n",
        "print(f\"{metrics.classification_report(data.valid_dl.y.items, Y_valid_predict_eff)}\\n\")\n",
        "\n",
        "import matplotlib.pyplot as plt\n",
        "from sklearn.metrics import confusion_matrix\n",
        "\n",
        "cm = confusion_matrix(data.valid_dl.y.items,Y_valid_predict_eff)\n",
        "print(cm)\n",
        "\n",
        "print(\"No.of validation set samples predicted correctly \",sum(cm.diagonal()))\n",
        "print(\"No.of misclassified samples \", len(Y_valid_predict_eff)-sum(cm.diagonal()))\n",
        "\n",
        "#Calculating the True Occurences\n",
        "true_occ= []\n",
        "for i in range(len(cm)):\n",
        "  true_occ.append(sum(cm[:,i]))\n",
        "\n",
        "#Calculating the recall for all the categories\n",
        "dia = cm.diagonal()\n",
        "prediction_prob=[]\n",
        "for i in range(len(cm)):\n",
        "  tmp_prob = dia[i]/true_occ[i]\n",
        "  prediction_prob.append(tmp_prob)\n",
        "\n",
        "incorrect_class = prediction_prob.index(min(prediction_prob))\n",
        "correct_class = prediction_prob.index(max(prediction_prob))\n",
        "print(\"Food category with more no.of correct predictions \",data.valid_dl.y.classes[correct_class] )\n",
        "print(\"Food category with min no.of correct predictions \",data.valid_dl.y.classes[incorrect_class] )\n"
      ],
      "execution_count": null,
      "outputs": [
        {
          "output_type": "stream",
          "text": [
            "Time taken to predict for EfficientNet  : {362.94547939300537}\n",
            "              precision    recall  f1-score   support\n",
            "\n",
            "           0       0.67      0.58      0.62       149\n",
            "           1       0.73      0.76      0.75       138\n",
            "           2       0.86      0.79      0.83       150\n",
            "           3       0.88      0.81      0.84       154\n",
            "           4       0.77      0.77      0.77       141\n",
            "           5       0.74      0.74      0.74       159\n",
            "           6       0.82      0.88      0.85       133\n",
            "           7       0.84      0.90      0.87       136\n",
            "           8       0.67      0.65      0.66       164\n",
            "           9       0.81      0.70      0.75       136\n",
            "          10       0.74      0.73      0.74       143\n",
            "          11       0.81      0.83      0.82       145\n",
            "          12       0.86      0.83      0.85       157\n",
            "          13       0.84      0.84      0.84       148\n",
            "          14       0.82      0.68      0.74       149\n",
            "          15       0.63      0.69      0.66       148\n",
            "          16       0.85      0.88      0.86       167\n",
            "          17       0.70      0.69      0.70       142\n",
            "          18       0.70      0.74      0.72       148\n",
            "          19       0.74      0.77      0.76       151\n",
            "          20       0.86      0.83      0.85       163\n",
            "          21       0.64      0.64      0.64       149\n",
            "          22       0.55      0.56      0.56       145\n",
            "          23       0.88      0.84      0.86       173\n",
            "          24       0.82      0.81      0.82       154\n",
            "          25       0.82      0.87      0.84       129\n",
            "          26       0.76      0.66      0.71       154\n",
            "          27       0.89      0.89      0.89       167\n",
            "          28       0.80      0.81      0.80       154\n",
            "          29       0.75      0.83      0.79       156\n",
            "          30       0.88      0.92      0.90       127\n",
            "          31       0.71      0.77      0.74       163\n",
            "          32       0.88      0.81      0.84       149\n",
            "          33       0.98      0.98      0.98       151\n",
            "          34       0.82      0.90      0.86       139\n",
            "          35       0.87      0.84      0.85       147\n",
            "          36       0.78      0.74      0.76       151\n",
            "          37       0.62      0.58      0.60       158\n",
            "          38       0.81      0.87      0.84       134\n",
            "          39       0.62      0.63      0.63       142\n",
            "          40       0.90      0.88      0.89       135\n",
            "          41       0.83      0.79      0.81       138\n",
            "          42       0.74      0.74      0.74       148\n",
            "          43       0.82      0.85      0.83       139\n",
            "          44       0.83      0.86      0.84       139\n",
            "          45       0.80      0.94      0.86       154\n",
            "          46       0.71      0.72      0.72       155\n",
            "          47       0.74      0.70      0.72       154\n",
            "          48       0.84      0.80      0.82       152\n",
            "          49       0.73      0.67      0.70       166\n",
            "          50       0.72      0.70      0.71       160\n",
            "          51       0.85      0.89      0.87       154\n",
            "          52       0.79      0.88      0.83       149\n",
            "          53       0.82      0.76      0.79       172\n",
            "          54       0.92      0.95      0.93       159\n",
            "          55       0.80      0.78      0.79       149\n",
            "          56       0.62      0.77      0.69       146\n",
            "          57       0.80      0.76      0.78       157\n",
            "          58       0.58      0.68      0.63       133\n",
            "          59       0.77      0.71      0.74       152\n",
            "          60       0.90      0.89      0.89       164\n",
            "          61       0.91      0.89      0.90       159\n",
            "          62       0.78      0.77      0.77       141\n",
            "          63       0.85      0.92      0.88       146\n",
            "          64       0.93      0.90      0.92       145\n",
            "          65       0.92      0.92      0.92       149\n",
            "          66       0.82      0.76      0.79       165\n",
            "          67       0.75      0.71      0.73       138\n",
            "          68       0.85      0.87      0.86       148\n",
            "          69       0.92      0.94      0.93       161\n",
            "          70       0.86      0.88      0.87       171\n",
            "          71       0.87      0.82      0.85       151\n",
            "          72       0.84      0.78      0.81       147\n",
            "          73       0.67      0.75      0.71       131\n",
            "          74       0.80      0.87      0.83       150\n",
            "          75       0.94      0.95      0.95       156\n",
            "          76       0.86      0.88      0.87       149\n",
            "          77       0.61      0.54      0.57       151\n",
            "          78       0.84      0.86      0.85       163\n",
            "          79       0.92      0.76      0.83       165\n",
            "          80       0.75      0.78      0.77       142\n",
            "          81       0.88      0.79      0.83       140\n",
            "          82       0.70      0.61      0.65       162\n",
            "          83       0.84      0.84      0.84       157\n",
            "          84       0.70      0.77      0.73       131\n",
            "          85       0.82      0.77      0.79       163\n",
            "          86       0.86      0.91      0.89       147\n",
            "          87       0.70      0.74      0.72       141\n",
            "          88       0.94      0.93      0.93       143\n",
            "          89       0.80      0.77      0.78       153\n",
            "          90       0.85      0.91      0.88       151\n",
            "          91       0.89      0.93      0.91       137\n",
            "          92       0.81      0.85      0.83       151\n",
            "          93       0.50      0.53      0.52       142\n",
            "          94       0.75      0.78      0.76       150\n",
            "          95       0.81      0.84      0.82       146\n",
            "          96       0.69      0.77      0.73       133\n",
            "          97       0.83      0.88      0.85       152\n",
            "          98       0.78      0.74      0.76       152\n",
            "          99       0.69      0.63      0.66       169\n",
            "         100       0.81      0.80      0.81       164\n",
            "\n",
            "    accuracy                           0.79     15150\n",
            "   macro avg       0.79      0.79      0.79     15150\n",
            "weighted avg       0.79      0.79      0.79     15150\n",
            "\n",
            "\n",
            "[[ 86   0   3   0 ...   0   0   1   6]\n",
            " [  0 105   0   0 ...   0   0   0   0]\n",
            " [  6   0 119   0 ...   1   0   0   1]\n",
            " [  0   0   0 124 ...   0   0   5   0]\n",
            " ...\n",
            " [  0   0   0   0 ... 133   0   0   0]\n",
            " [  4   0   0   0 ...   0 113   0   1]\n",
            " [  0   0   0   4 ...   0   0 107   1]\n",
            " [  5   0   0   0 ...   3   0   0 132]]\n",
            "No.of validation set samples predicted correctly  12010\n",
            "No.of misclassified samples  3140\n",
            "Food category with more no.of correct predictions  edamame\n",
            "Food category with min no.of correct predictions  steak\n"
          ],
          "name": "stdout"
        }
      ]
    },
    {
      "cell_type": "code",
      "metadata": {
        "colab": {
          "base_uri": "https://localhost:8080/"
        },
        "id": "ucOgilblicQC",
        "outputId": "eb42be0b-ba4d-43d2-fd15-ba33cf5e6213"
      },
      "source": [
        "data.train_dl.y"
      ],
      "execution_count": null,
      "outputs": [
        {
          "output_type": "execute_result",
          "data": {
            "text/plain": [
              "array([  0,   0,   0,   0, ..., 100, 100, 100, 100])"
            ]
          },
          "metadata": {
            "tags": []
          },
          "execution_count": 244
        }
      ]
    },
    {
      "cell_type": "markdown",
      "metadata": {
        "id": "PXoAnEndjZ99"
      },
      "source": [
        "**EfficientNetB4**"
      ]
    },
    {
      "cell_type": "code",
      "metadata": {
        "colab": {
          "base_uri": "https://localhost:8080/",
          "height": 864,
          "referenced_widgets": [
            "4d124c53e1824fac9f6b0620e241dbd5",
            "8ca2a26c08664c92954151efc28fe98d",
            "05b79f8bf11b43388ce53b9dbfcfe2cf",
            "e50bb442b3a048cc8213e638c8e86707",
            "4eb2a85f09c247189adfa649cf784eb3",
            "830a2edc4b684ee5a197111468c5fd86",
            "5561b522c84148bebcc08408dafe32fc",
            "94d0ae74dd4b46d8a37834dcf4f9a4bf"
          ]
        },
        "id": "pxNPOc6tjZD2",
        "outputId": "5392d69c-f8ce-41cc-9d39-a82be0f2263b"
      },
      "source": [
        "#EfficientNet4 and image size 512 and see how fast it converges\n",
        "bs_effb4 = 16\n",
        "img_size_effb4 = 512 \n",
        "\n",
        "def seed_everything(seed):\n",
        "    random.seed(seed)\n",
        "    os.environ['PYTHONHASHSEED'] = str(seed)\n",
        "    np.random.seed(seed)\n",
        "    torch.manual_seed(seed)\n",
        "    torch.cuda.manual_seed(seed)\n",
        "    torch.backends.cudnn.deterministic = True\n",
        "    \n",
        "seed_everything(40)\n",
        "\n",
        "data=(ImageList.from_df(df=train_df,path=path/'images',cols=1)\n",
        "      .split_by_rand_pct(0.2)\n",
        "      .label_from_df(cols=0)\n",
        "      .transform(ds_tfms,size=img_size_effb4)\n",
        "      .databunch(bs=bs_effb4)\n",
        "      .normalize(imagenet_stats))\n",
        "\n",
        "if crossverify(data.valid_dl.y):\t  \n",
        "  model = EfficientNet.from_pretrained(\"efficientnet-b4\")\t  \n",
        "\n",
        "  top_5 = partial(top_k_accuracy, k=5)\n",
        "\n",
        "  learneffb4 = Learner(data, model, metrics=[accuracy, top_5], callback_fns=ShowGraph).to_fp16()\n",
        "  learneffb4.split( lambda m: (model._conv_head,) )\n",
        "\n",
        "  learneffb4.lr_find()\n",
        "  learneffb4.recorder.plot(suggestion=True)\n",
        "\n",
        "  lr = 4e-3\n",
        "  learneffb4.fit_one_cycle(3, max_lr=slice(lr))\n",
        "  learneffb4.save('/content/drive/MyDrive/food-effNetb4101-train-e3')\n",
        "else:\n",
        "  print(\"Data Mismatch\")"
      ],
      "execution_count": null,
      "outputs": [
        {
          "output_type": "stream",
          "text": [
            "Downloading: \"https://github.com/lukemelas/EfficientNet-PyTorch/releases/download/1.0/efficientnet-b4-6ed6700e.pth\" to /root/.cache/torch/checkpoints/efficientnet-b4-6ed6700e.pth\n"
          ],
          "name": "stderr"
        },
        {
          "output_type": "display_data",
          "data": {
            "application/vnd.jupyter.widget-view+json": {
              "model_id": "4d124c53e1824fac9f6b0620e241dbd5",
              "version_minor": 0,
              "version_major": 2
            },
            "text/plain": [
              "HBox(children=(FloatProgress(value=0.0, max=77999237.0), HTML(value='')))"
            ]
          },
          "metadata": {
            "tags": []
          }
        },
        {
          "output_type": "stream",
          "text": [
            "\n",
            "Loaded pretrained weights for efficientnet-b4\n"
          ],
          "name": "stdout"
        },
        {
          "output_type": "display_data",
          "data": {
            "text/html": [
              "\n",
              "    <div>\n",
              "        <style>\n",
              "            /* Turns off some styling */\n",
              "            progress {\n",
              "                /* gets rid of default border in Firefox and Opera. */\n",
              "                border: none;\n",
              "                /* Needs to be in here for Safari polyfill so background images work as expected. */\n",
              "                background-size: auto;\n",
              "            }\n",
              "            .progress-bar-interrupted, .progress-bar-interrupted::-webkit-progress-bar {\n",
              "                background: #F44336;\n",
              "            }\n",
              "        </style>\n",
              "      <progress value='0' class='' max='1' style='width:300px; height:20px; vertical-align: middle;'></progress>\n",
              "      0.00% [0/1 00:00<00:00]\n",
              "    </div>\n",
              "    \n",
              "<table border=\"1\" class=\"dataframe\">\n",
              "  <thead>\n",
              "    <tr style=\"text-align: left;\">\n",
              "      <th>epoch</th>\n",
              "      <th>train_loss</th>\n",
              "      <th>valid_loss</th>\n",
              "      <th>accuracy</th>\n",
              "      <th>top_k_accuracy</th>\n",
              "      <th>time</th>\n",
              "    </tr>\n",
              "  </thead>\n",
              "  <tbody>\n",
              "  </tbody>\n",
              "</table><p>\n",
              "\n",
              "    <div>\n",
              "        <style>\n",
              "            /* Turns off some styling */\n",
              "            progress {\n",
              "                /* gets rid of default border in Firefox and Opera. */\n",
              "                border: none;\n",
              "                /* Needs to be in here for Safari polyfill so background images work as expected. */\n",
              "                background-size: auto;\n",
              "            }\n",
              "            .progress-bar-interrupted, .progress-bar-interrupted::-webkit-progress-bar {\n",
              "                background: #F44336;\n",
              "            }\n",
              "        </style>\n",
              "      <progress value='89' class='' max='3787' style='width:300px; height:20px; vertical-align: middle;'></progress>\n",
              "      2.35% [89/3787 01:24<58:31 24.0111]\n",
              "    </div>\n",
              "    "
            ],
            "text/plain": [
              "<IPython.core.display.HTML object>"
            ]
          },
          "metadata": {
            "tags": []
          }
        },
        {
          "output_type": "stream",
          "text": [
            "LR Finder is complete, type {learner_name}.recorder.plot() to see the graph.\n",
            "Min numerical gradient: 5.25E-03\n",
            "Min loss divided by 10: 2.75E-03\n"
          ],
          "name": "stdout"
        },
        {
          "output_type": "display_data",
          "data": {
            "text/html": [
              "<table border=\"1\" class=\"dataframe\">\n",
              "  <thead>\n",
              "    <tr style=\"text-align: left;\">\n",
              "      <th>epoch</th>\n",
              "      <th>train_loss</th>\n",
              "      <th>valid_loss</th>\n",
              "      <th>accuracy</th>\n",
              "      <th>top_k_accuracy</th>\n",
              "      <th>time</th>\n",
              "    </tr>\n",
              "  </thead>\n",
              "  <tbody>\n",
              "    <tr>\n",
              "      <td>0</td>\n",
              "      <td>1.783179</td>\n",
              "      <td>1.398044</td>\n",
              "      <td>0.663168</td>\n",
              "      <td>0.881650</td>\n",
              "      <td>59:36</td>\n",
              "    </tr>\n",
              "    <tr>\n",
              "      <td>1</td>\n",
              "      <td>1.222181</td>\n",
              "      <td>0.815812</td>\n",
              "      <td>0.790891</td>\n",
              "      <td>0.940990</td>\n",
              "      <td>59:33</td>\n",
              "    </tr>\n",
              "    <tr>\n",
              "      <td>2</td>\n",
              "      <td>0.810390</td>\n",
              "      <td>0.597301</td>\n",
              "      <td>0.848845</td>\n",
              "      <td>0.962046</td>\n",
              "      <td>59:30</td>\n",
              "    </tr>\n",
              "  </tbody>\n",
              "</table>"
            ],
            "text/plain": [
              "<IPython.core.display.HTML object>"
            ]
          },
          "metadata": {
            "tags": []
          }
        },
        {
          "output_type": "display_data",
          "data": {
            "image/png": "[encoded data removed]",
            "text/plain": [
              "<Figure size 432x288 with 1 Axes>"
            ]
          },
          "metadata": {
            "tags": []
          }
        },
        {
          "output_type": "display_data",
          "data": {
            "image/png": "[encoded data removed]",
            "text/plain": [
              "<Figure size 432x288 with 1 Axes>"
            ]
          },
          "metadata": {
            "tags": [],
            "needs_background": "light"
          }
        }
      ]
    },
    {
      "cell_type": "code",
      "metadata": {
        "colab": {
          "base_uri": "https://localhost:8080/"
        },
        "id": "SWl60hoaj9m_",
        "outputId": "d4d06878-f5c8-438b-aedd-aa2f8d16ab1c"
      },
      "source": [
        "start= time.time()\n",
        "Y_valid_predict_eff4 = []\n",
        "for img in data.valid_dl.x:\n",
        "    tmp_predict = learneffb4.predict(img)\n",
        "    Y_valid_predict_eff4.append(tmp_predict[1])\n",
        "end = time.time()\n",
        "print('Time taken to predict for EfficientNetb4  :',{end - start})\n",
        "\n",
        "import sklearn.metrics as metrics\n",
        "print(f\"{metrics.classification_report(data.valid_dl.y.items, Y_valid_predict_eff4)}\\n\")\n",
        "\n",
        "import matplotlib.pyplot as plt\n",
        "from sklearn.metrics import confusion_matrix\n",
        "\n",
        "cm1 = confusion_matrix(data.valid_dl.y.items,Y_valid_predict_eff4)\n",
        "print(cm1)\n",
        "\n",
        "print(\"No.of validation set samples predicted correctly \",sum(cm1.diagonal()))\n",
        "print(\"No.of misclassified samples \", len(Y_valid_predict_eff4)-sum(cm1.diagonal()))\n",
        "\n",
        "#Calculating the True Occurences\n",
        "true_occ= []\n",
        "for i in range(len(cm1)):\n",
        "  true_occ.append(sum(cm1[:,i]))\n",
        "\n",
        "#Calculating the recall for all the categories\n",
        "dia = cm1.diagonal()\n",
        "prediction_prob=[]\n",
        "for i in range(len(cm1)):\n",
        "  tmp_prob = dia[i]/true_occ[i]\n",
        "  prediction_prob.append(tmp_prob)\n",
        "\n",
        "incorrect_class = prediction_prob.index(min(prediction_prob))\n",
        "correct_class = prediction_prob.index(max(prediction_prob))\n",
        "print(\"Food category with more no.of correct predictions using EfficientNetB4\",data.train_dl.y.classes[correct_class] )\n",
        "print(\"Food category with min no.of correct predictions using EfficientNetB4 \",data.train_dl.y.classes[incorrect_class] )"
      ],
      "execution_count": null,
      "outputs": [
        {
          "output_type": "stream",
          "text": [
            "Time taken to predict for EfficientNetb4  : {601.5534358024597}\n",
            "              precision    recall  f1-score   support\n",
            "\n",
            "           0       0.80      0.62      0.70       158\n",
            "           1       0.84      0.86      0.85       138\n",
            "           2       0.87      0.94      0.90       143\n",
            "           3       0.96      0.89      0.93       160\n",
            "           4       0.84      0.86      0.85       145\n",
            "           5       0.87      0.84      0.85       168\n",
            "           6       0.88      0.92      0.90       154\n",
            "           7       0.90      0.95      0.92       155\n",
            "           8       0.73      0.69      0.71       168\n",
            "           9       0.72      0.80      0.76       152\n",
            "          10       0.87      0.80      0.84       148\n",
            "          11       0.93      0.91      0.92       150\n",
            "          12       0.92      0.87      0.89       156\n",
            "          13       0.89      0.89      0.89       149\n",
            "          14       0.89      0.76      0.82       146\n",
            "          15       0.77      0.78      0.77       148\n",
            "          16       0.89      0.93      0.91       136\n",
            "          17       0.75      0.72      0.74       140\n",
            "          18       0.78      0.80      0.79       134\n",
            "          19       0.83      0.88      0.86       138\n",
            "          20       0.85      0.88      0.87       158\n",
            "          21       0.74      0.74      0.74       155\n",
            "          22       0.61      0.66      0.63       157\n",
            "          23       0.87      0.92      0.89       132\n",
            "          24       0.91      0.84      0.87       164\n",
            "          25       0.85      0.88      0.86       153\n",
            "          26       0.81      0.80      0.81       157\n",
            "          27       0.91      0.90      0.91       152\n",
            "          28       0.80      0.93      0.86       149\n",
            "          29       0.83      0.88      0.85       153\n",
            "          30       0.93      0.95      0.94       166\n",
            "          31       0.79      0.86      0.83       138\n",
            "          32       0.93      0.83      0.88       165\n",
            "          33       0.99      0.97      0.98       147\n",
            "          34       0.91      0.83      0.87       164\n",
            "          35       0.90      0.88      0.89       150\n",
            "          36       0.86      0.88      0.87       149\n",
            "          37       0.67      0.74      0.71       147\n",
            "          38       0.88      0.89      0.88       152\n",
            "          39       0.59      0.70      0.64       136\n",
            "          40       0.91      0.88      0.90       154\n",
            "          41       0.83      0.88      0.85       154\n",
            "          42       0.77      0.82      0.79       137\n",
            "          43       0.79      0.90      0.84       136\n",
            "          44       0.91      0.89      0.90       145\n",
            "          45       0.87      0.89      0.88       153\n",
            "          46       0.83      0.82      0.82       146\n",
            "          47       0.76      0.74      0.75       131\n",
            "          48       0.94      0.86      0.90       152\n",
            "          49       0.83      0.80      0.82       144\n",
            "          50       0.83      0.83      0.83       150\n",
            "          51       0.83      0.91      0.87       127\n",
            "          52       0.81      0.92      0.86       150\n",
            "          53       0.80      0.83      0.82       157\n",
            "          54       0.95      0.97      0.96       152\n",
            "          55       0.83      0.86      0.84       129\n",
            "          56       0.76      0.79      0.78       149\n",
            "          57       0.88      0.78      0.82       153\n",
            "          58       0.69      0.73      0.71       144\n",
            "          59       0.82      0.81      0.82       153\n",
            "          60       0.83      0.83      0.83       151\n",
            "          61       0.93      0.93      0.93       143\n",
            "          62       0.93      0.80      0.86       159\n",
            "          63       0.80      0.94      0.87       131\n",
            "          64       0.94      0.96      0.95       168\n",
            "          65       0.98      0.96      0.97       182\n",
            "          66       0.89      0.82      0.86       163\n",
            "          67       0.80      0.82      0.81       154\n",
            "          68       0.90      0.91      0.91       185\n",
            "          69       0.95      0.94      0.94       148\n",
            "          70       0.92      0.93      0.92       142\n",
            "          71       0.89      0.86      0.87       133\n",
            "          72       0.84      0.82      0.83       154\n",
            "          73       0.72      0.75      0.73       128\n",
            "          74       0.88      0.86      0.87       143\n",
            "          75       0.92      0.94      0.93       134\n",
            "          76       0.85      0.89      0.87       137\n",
            "          77       0.70      0.53      0.60       135\n",
            "          78       0.91      0.95      0.93       145\n",
            "          79       0.85      0.77      0.81       175\n",
            "          80       0.92      0.85      0.89       172\n",
            "          81       0.91      0.89      0.90       151\n",
            "          82       0.81      0.73      0.77       157\n",
            "          83       0.87      0.86      0.87       136\n",
            "          84       0.85      0.81      0.83       161\n",
            "          85       0.92      0.93      0.92       164\n",
            "          86       0.92      0.88      0.90       166\n",
            "          87       0.79      0.78      0.79       139\n",
            "          88       0.94      0.95      0.94       150\n",
            "          89       0.84      0.84      0.84       140\n",
            "          90       0.94      0.94      0.94       154\n",
            "          91       0.95      0.96      0.96       174\n",
            "          92       0.89      0.88      0.89       145\n",
            "          93       0.56      0.62      0.59       148\n",
            "          94       0.81      0.84      0.82       153\n",
            "          95       0.88      0.87      0.87       157\n",
            "          96       0.83      0.85      0.84       149\n",
            "          97       0.91      0.94      0.92       124\n",
            "          98       0.82      0.84      0.83       164\n",
            "          99       0.82      0.80      0.81       132\n",
            "         100       0.92      0.85      0.89       158\n",
            "\n",
            "    accuracy                           0.85     15150\n",
            "   macro avg       0.85      0.85      0.85     15150\n",
            "weighted avg       0.85      0.85      0.85     15150\n",
            "\n",
            "\n",
            "[[ 98   0   5   0 ...   0   1   1   4]\n",
            " [  0 118   0   0 ...   0   0   0   0]\n",
            " [  0   0 134   0 ...   0   0   0   0]\n",
            " [  0   0   0 143 ...   0   0   1   0]\n",
            " ...\n",
            " [  0   0   0   0 ... 116   0   0   0]\n",
            " [  0   0   0   0 ...   0 138   0   0]\n",
            " [  0   0   0   1 ...   0   0 106   0]\n",
            " [  2   0   0   0 ...   0   0   0 135]]\n",
            "No.of validation set samples predicted correctly  12859\n",
            "No.of misclassified samples  2291\n",
            "Food category with more no.of correct predictions using EfficientNetB4 edamame\n",
            "Food category with min no.of correct predictions using EfficientNetB4  steak\n"
          ],
          "name": "stdout"
        }
      ]
    },
    {
      "cell_type": "code",
      "metadata": {
        "id": "eaJtK4fbj9qC"
      },
      "source": [
        "evaluate_performance()"
      ],
      "execution_count": null,
      "outputs": []
    },
    {
      "cell_type": "code",
      "metadata": {
        "id": "blu7-rcEj9uz"
      },
      "source": [
        ""
      ],
      "execution_count": null,
      "outputs": []
    },
    {
      "cell_type": "markdown",
      "metadata": {
        "id": "qnQO2I68i1WN"
      },
      "source": [
        "**Ensemble of ResNET,EfficientNetB0 and EfficientNetB4**"
      ]
    },
    {
      "cell_type": "code",
      "metadata": {
        "id": "_cbWFcOmi7LO"
      },
      "source": [
        "def majority(a,b,c):\n",
        "  if a==b:\n",
        "    return c\n",
        "  elif b ==c:\n",
        "    return c\n",
        "  elif a==c:\n",
        "    return c\n",
        "  else:\n",
        "    return c"
      ],
      "execution_count": null,
      "outputs": []
    },
    {
      "cell_type": "code",
      "metadata": {
        "id": "Eu8jJuE1jNS4"
      },
      "source": [
        "y_predict_ensemble=[]\n",
        "for i in range(len(Y_valid_predict_eff4)):\n",
        "  y_predict_ensemble.append(majority(Y_valid_predict[i],Y_valid_predict_eff[i],Y_valid_predict_eff4[i]))"
      ],
      "execution_count": null,
      "outputs": []
    },
    {
      "cell_type": "code",
      "metadata": {
        "id": "7WQsNQoVjO3s"
      },
      "source": [
        "import sklearn.metrics as metrics\n",
        "print(f\"{metrics.classification_report(data.valid_dl.y.items, y_predict_ensemble)}\\n\")\n",
        "\n",
        "import matplotlib.pyplot as plt\n",
        "from sklearn.metrics import confusion_matrix\n",
        "\n",
        "cm_en = confusion_matrix(data.valid_dl.y.items,y_predict_ensemble)\n",
        "print(cm_en)\n",
        "\n",
        "print(\"No.of validation set samples predicted correctly \",sum(cm_en.diagonal()))\n",
        "print(\"No.of misclassified samples \", len(y_predict_ensemble)-sum(cm_en.diagonal()))\n",
        "\n",
        "#Calculating the True Occurences\n",
        "true_occ= []\n",
        "for i in range(len(cm_en)):\n",
        "  true_occ.append(sum(cm_en[:,i]))\n",
        "\n",
        "#Calculating the recall for all the categories\n",
        "dia = cm_en.diagonal()\n",
        "prediction_prob=[]\n",
        "for i in range(len(cm_en)):\n",
        "  tmp_prob = dia[i]/true_occ[i]\n",
        "  prediction_prob.append(tmp_prob)\n",
        "\n",
        "incorrect_class = prediction_prob.index(min(prediction_prob))\n",
        "correct_class = prediction_prob.index(max(prediction_prob))\n",
        "print(\"Food category with more no.of correct predictions using Ensemble model\",data.train_dl.y.classes[correct_class] )\n",
        "print(\"Food category with min no.of correct predictions using Ensemble model \",data.train_dl.y.classes[incorrect_class] )"
      ],
      "execution_count": null,
      "outputs": []
    },
    {
      "cell_type": "code",
      "metadata": {
        "colab": {
          "base_uri": "https://localhost:8080/"
        },
        "id": "ijwslBtTTVd7",
        "outputId": "9fc9d426-8f54-438c-dca5-06d04cf16ea2"
      },
      "source": [
        "evaluate_performance(data.valid_dl.y, Y_valid_predict_eff4)"
      ],
      "execution_count": null,
      "outputs": [
        {
          "output_type": "stream",
          "text": [
            "              precision    recall  f1-score   support\n",
            "\n",
            "           0       0.80      0.62      0.70       158\n",
            "           1       0.84      0.86      0.85       138\n",
            "           2       0.87      0.94      0.90       143\n",
            "           3       0.96      0.89      0.93       160\n",
            "           4       0.84      0.86      0.85       145\n",
            "           5       0.87      0.84      0.85       168\n",
            "           6       0.88      0.92      0.90       154\n",
            "           7       0.90      0.95      0.92       155\n",
            "           8       0.73      0.69      0.71       168\n",
            "           9       0.72      0.80      0.76       152\n",
            "          10       0.87      0.80      0.84       148\n",
            "          11       0.93      0.91      0.92       150\n",
            "          12       0.92      0.87      0.89       156\n",
            "          13       0.89      0.89      0.89       149\n",
            "          14       0.89      0.76      0.82       146\n",
            "          15       0.77      0.78      0.77       148\n",
            "          16       0.89      0.93      0.91       136\n",
            "          17       0.75      0.72      0.74       140\n",
            "          18       0.78      0.80      0.79       134\n",
            "          19       0.83      0.88      0.86       138\n",
            "          20       0.85      0.88      0.87       158\n",
            "          21       0.74      0.74      0.74       155\n",
            "          22       0.61      0.66      0.63       157\n",
            "          23       0.87      0.92      0.89       132\n",
            "          24       0.91      0.84      0.87       164\n",
            "          25       0.85      0.88      0.86       153\n",
            "          26       0.81      0.80      0.81       157\n",
            "          27       0.91      0.90      0.91       152\n",
            "          28       0.80      0.93      0.86       149\n",
            "          29       0.83      0.88      0.85       153\n",
            "          30       0.93      0.95      0.94       166\n",
            "          31       0.79      0.86      0.83       138\n",
            "          32       0.93      0.83      0.88       165\n",
            "          33       0.99      0.97      0.98       147\n",
            "          34       0.91      0.83      0.87       164\n",
            "          35       0.90      0.88      0.89       150\n",
            "          36       0.86      0.88      0.87       149\n",
            "          37       0.67      0.74      0.71       147\n",
            "          38       0.88      0.89      0.88       152\n",
            "          39       0.59      0.70      0.64       136\n",
            "          40       0.91      0.88      0.90       154\n",
            "          41       0.83      0.88      0.85       154\n",
            "          42       0.77      0.82      0.79       137\n",
            "          43       0.79      0.90      0.84       136\n",
            "          44       0.91      0.89      0.90       145\n",
            "          45       0.87      0.89      0.88       153\n",
            "          46       0.83      0.82      0.82       146\n",
            "          47       0.76      0.74      0.75       131\n",
            "          48       0.94      0.86      0.90       152\n",
            "          49       0.83      0.80      0.82       144\n",
            "          50       0.83      0.83      0.83       150\n",
            "          51       0.83      0.91      0.87       127\n",
            "          52       0.81      0.92      0.86       150\n",
            "          53       0.80      0.83      0.82       157\n",
            "          54       0.95      0.97      0.96       152\n",
            "          55       0.83      0.86      0.84       129\n",
            "          56       0.76      0.79      0.78       149\n",
            "          57       0.88      0.78      0.82       153\n",
            "          58       0.69      0.73      0.71       144\n",
            "          59       0.82      0.81      0.82       153\n",
            "          60       0.83      0.83      0.83       151\n",
            "          61       0.93      0.93      0.93       143\n",
            "          62       0.93      0.80      0.86       159\n",
            "          63       0.80      0.94      0.87       131\n",
            "          64       0.94      0.96      0.95       168\n",
            "          65       0.98      0.96      0.97       182\n",
            "          66       0.89      0.82      0.86       163\n",
            "          67       0.80      0.82      0.81       154\n",
            "          68       0.90      0.91      0.91       185\n",
            "          69       0.95      0.94      0.94       148\n",
            "          70       0.92      0.93      0.92       142\n",
            "          71       0.89      0.86      0.87       133\n",
            "          72       0.84      0.82      0.83       154\n",
            "          73       0.72      0.75      0.73       128\n",
            "          74       0.88      0.86      0.87       143\n",
            "          75       0.92      0.94      0.93       134\n",
            "          76       0.85      0.89      0.87       137\n",
            "          77       0.70      0.53      0.60       135\n",
            "          78       0.91      0.95      0.93       145\n",
            "          79       0.85      0.77      0.81       175\n",
            "          80       0.92      0.85      0.89       172\n",
            "          81       0.91      0.89      0.90       151\n",
            "          82       0.81      0.73      0.77       157\n",
            "          83       0.87      0.86      0.87       136\n",
            "          84       0.85      0.81      0.83       161\n",
            "          85       0.92      0.93      0.92       164\n",
            "          86       0.92      0.88      0.90       166\n",
            "          87       0.79      0.78      0.79       139\n",
            "          88       0.94      0.95      0.94       150\n",
            "          89       0.84      0.84      0.84       140\n",
            "          90       0.94      0.94      0.94       154\n",
            "          91       0.95      0.96      0.96       174\n",
            "          92       0.89      0.88      0.89       145\n",
            "          93       0.56      0.62      0.59       148\n",
            "          94       0.81      0.84      0.82       153\n",
            "          95       0.88      0.87      0.87       157\n",
            "          96       0.83      0.85      0.84       149\n",
            "          97       0.91      0.94      0.92       124\n",
            "          98       0.82      0.84      0.83       164\n",
            "          99       0.82      0.80      0.81       132\n",
            "         100       0.92      0.85      0.89       158\n",
            "\n",
            "    accuracy                           0.85     15150\n",
            "   macro avg       0.85      0.85      0.85     15150\n",
            "weighted avg       0.85      0.85      0.85     15150\n",
            "\n",
            "\n",
            "[[ 98   0   5   0 ...   0   1   1   4]\n",
            " [  0 118   0   0 ...   0   0   0   0]\n",
            " [  0   0 134   0 ...   0   0   0   0]\n",
            " [  0   0   0 143 ...   0   0   1   0]\n",
            " ...\n",
            " [  0   0   0   0 ... 116   0   0   0]\n",
            " [  0   0   0   0 ...   0 138   0   0]\n",
            " [  0   0   0   1 ...   0   0 106   0]\n",
            " [  2   0   0   0 ...   0   0   0 135]]\n",
            "No.of validation set samples predicted correctly  12859\n",
            "No.of misclassified samples  2291\n",
            "Food category with more no.of correct predictions  edamame\n",
            "Food category with min no.of correct predictions  steak\n"
          ],
          "name": "stdout"
        }
      ]
    }
  ]
}